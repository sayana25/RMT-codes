{
  "nbformat": 4,
  "nbformat_minor": 0,
  "metadata": {
    "colab": {
      "provenance": []
    },
    "kernelspec": {
      "name": "python3",
      "display_name": "Python 3"
    },
    "language_info": {
      "name": "python"
    },
    "widgets": {
      "application/vnd.jupyter.widget-state+json": {
        "cacedd4901d349ac9e74e3a0079d9a72": {
          "model_module": "@jupyter-widgets/controls",
          "model_name": "HBoxModel",
          "model_module_version": "1.5.0",
          "state": {
            "_dom_classes": [],
            "_model_module": "@jupyter-widgets/controls",
            "_model_module_version": "1.5.0",
            "_model_name": "HBoxModel",
            "_view_count": null,
            "_view_module": "@jupyter-widgets/controls",
            "_view_module_version": "1.5.0",
            "_view_name": "HBoxView",
            "box_style": "",
            "children": [
              "IPY_MODEL_30ddae630ac54581b3d768c7d3d63a1d",
              "IPY_MODEL_697aa45fb6184e7b96284a0a81e1511f",
              "IPY_MODEL_c43b42f0597f47c39ce0dd806658d957"
            ],
            "layout": "IPY_MODEL_c8f2d1b3153c4f43b4a9f06a2b4a47da"
          }
        },
        "30ddae630ac54581b3d768c7d3d63a1d": {
          "model_module": "@jupyter-widgets/controls",
          "model_name": "HTMLModel",
          "model_module_version": "1.5.0",
          "state": {
            "_dom_classes": [],
            "_model_module": "@jupyter-widgets/controls",
            "_model_module_version": "1.5.0",
            "_model_name": "HTMLModel",
            "_view_count": null,
            "_view_module": "@jupyter-widgets/controls",
            "_view_module_version": "1.5.0",
            "_view_name": "HTMLView",
            "description": "",
            "description_tooltip": null,
            "layout": "IPY_MODEL_1232e09794a347e1b3d6ad2f703c5b7e",
            "placeholder": "​",
            "style": "IPY_MODEL_96efb1f90c7c4859bb4e4d8e5ecfffd5",
            "value": "100%"
          }
        },
        "697aa45fb6184e7b96284a0a81e1511f": {
          "model_module": "@jupyter-widgets/controls",
          "model_name": "FloatProgressModel",
          "model_module_version": "1.5.0",
          "state": {
            "_dom_classes": [],
            "_model_module": "@jupyter-widgets/controls",
            "_model_module_version": "1.5.0",
            "_model_name": "FloatProgressModel",
            "_view_count": null,
            "_view_module": "@jupyter-widgets/controls",
            "_view_module_version": "1.5.0",
            "_view_name": "ProgressView",
            "bar_style": "success",
            "description": "",
            "description_tooltip": null,
            "layout": "IPY_MODEL_10c3a4e3f3f642a98152eb64ca1b12c5",
            "max": 1000,
            "min": 0,
            "orientation": "horizontal",
            "style": "IPY_MODEL_dcbe24f85e8044dca9c399b0d5755263",
            "value": 1000
          }
        },
        "c43b42f0597f47c39ce0dd806658d957": {
          "model_module": "@jupyter-widgets/controls",
          "model_name": "HTMLModel",
          "model_module_version": "1.5.0",
          "state": {
            "_dom_classes": [],
            "_model_module": "@jupyter-widgets/controls",
            "_model_module_version": "1.5.0",
            "_model_name": "HTMLModel",
            "_view_count": null,
            "_view_module": "@jupyter-widgets/controls",
            "_view_module_version": "1.5.0",
            "_view_name": "HTMLView",
            "description": "",
            "description_tooltip": null,
            "layout": "IPY_MODEL_41e67969bd2342b49993e97fa0e345a4",
            "placeholder": "​",
            "style": "IPY_MODEL_c61ec852a88c42eea5e45530de16b862",
            "value": " 1000/1000 [03:08&lt;00:00,  7.20it/s]"
          }
        },
        "c8f2d1b3153c4f43b4a9f06a2b4a47da": {
          "model_module": "@jupyter-widgets/base",
          "model_name": "LayoutModel",
          "model_module_version": "1.2.0",
          "state": {
            "_model_module": "@jupyter-widgets/base",
            "_model_module_version": "1.2.0",
            "_model_name": "LayoutModel",
            "_view_count": null,
            "_view_module": "@jupyter-widgets/base",
            "_view_module_version": "1.2.0",
            "_view_name": "LayoutView",
            "align_content": null,
            "align_items": null,
            "align_self": null,
            "border": null,
            "bottom": null,
            "display": null,
            "flex": null,
            "flex_flow": null,
            "grid_area": null,
            "grid_auto_columns": null,
            "grid_auto_flow": null,
            "grid_auto_rows": null,
            "grid_column": null,
            "grid_gap": null,
            "grid_row": null,
            "grid_template_areas": null,
            "grid_template_columns": null,
            "grid_template_rows": null,
            "height": null,
            "justify_content": null,
            "justify_items": null,
            "left": null,
            "margin": null,
            "max_height": null,
            "max_width": null,
            "min_height": null,
            "min_width": null,
            "object_fit": null,
            "object_position": null,
            "order": null,
            "overflow": null,
            "overflow_x": null,
            "overflow_y": null,
            "padding": null,
            "right": null,
            "top": null,
            "visibility": null,
            "width": null
          }
        },
        "1232e09794a347e1b3d6ad2f703c5b7e": {
          "model_module": "@jupyter-widgets/base",
          "model_name": "LayoutModel",
          "model_module_version": "1.2.0",
          "state": {
            "_model_module": "@jupyter-widgets/base",
            "_model_module_version": "1.2.0",
            "_model_name": "LayoutModel",
            "_view_count": null,
            "_view_module": "@jupyter-widgets/base",
            "_view_module_version": "1.2.0",
            "_view_name": "LayoutView",
            "align_content": null,
            "align_items": null,
            "align_self": null,
            "border": null,
            "bottom": null,
            "display": null,
            "flex": null,
            "flex_flow": null,
            "grid_area": null,
            "grid_auto_columns": null,
            "grid_auto_flow": null,
            "grid_auto_rows": null,
            "grid_column": null,
            "grid_gap": null,
            "grid_row": null,
            "grid_template_areas": null,
            "grid_template_columns": null,
            "grid_template_rows": null,
            "height": null,
            "justify_content": null,
            "justify_items": null,
            "left": null,
            "margin": null,
            "max_height": null,
            "max_width": null,
            "min_height": null,
            "min_width": null,
            "object_fit": null,
            "object_position": null,
            "order": null,
            "overflow": null,
            "overflow_x": null,
            "overflow_y": null,
            "padding": null,
            "right": null,
            "top": null,
            "visibility": null,
            "width": null
          }
        },
        "96efb1f90c7c4859bb4e4d8e5ecfffd5": {
          "model_module": "@jupyter-widgets/controls",
          "model_name": "DescriptionStyleModel",
          "model_module_version": "1.5.0",
          "state": {
            "_model_module": "@jupyter-widgets/controls",
            "_model_module_version": "1.5.0",
            "_model_name": "DescriptionStyleModel",
            "_view_count": null,
            "_view_module": "@jupyter-widgets/base",
            "_view_module_version": "1.2.0",
            "_view_name": "StyleView",
            "description_width": ""
          }
        },
        "10c3a4e3f3f642a98152eb64ca1b12c5": {
          "model_module": "@jupyter-widgets/base",
          "model_name": "LayoutModel",
          "model_module_version": "1.2.0",
          "state": {
            "_model_module": "@jupyter-widgets/base",
            "_model_module_version": "1.2.0",
            "_model_name": "LayoutModel",
            "_view_count": null,
            "_view_module": "@jupyter-widgets/base",
            "_view_module_version": "1.2.0",
            "_view_name": "LayoutView",
            "align_content": null,
            "align_items": null,
            "align_self": null,
            "border": null,
            "bottom": null,
            "display": null,
            "flex": null,
            "flex_flow": null,
            "grid_area": null,
            "grid_auto_columns": null,
            "grid_auto_flow": null,
            "grid_auto_rows": null,
            "grid_column": null,
            "grid_gap": null,
            "grid_row": null,
            "grid_template_areas": null,
            "grid_template_columns": null,
            "grid_template_rows": null,
            "height": null,
            "justify_content": null,
            "justify_items": null,
            "left": null,
            "margin": null,
            "max_height": null,
            "max_width": null,
            "min_height": null,
            "min_width": null,
            "object_fit": null,
            "object_position": null,
            "order": null,
            "overflow": null,
            "overflow_x": null,
            "overflow_y": null,
            "padding": null,
            "right": null,
            "top": null,
            "visibility": null,
            "width": null
          }
        },
        "dcbe24f85e8044dca9c399b0d5755263": {
          "model_module": "@jupyter-widgets/controls",
          "model_name": "ProgressStyleModel",
          "model_module_version": "1.5.0",
          "state": {
            "_model_module": "@jupyter-widgets/controls",
            "_model_module_version": "1.5.0",
            "_model_name": "ProgressStyleModel",
            "_view_count": null,
            "_view_module": "@jupyter-widgets/base",
            "_view_module_version": "1.2.0",
            "_view_name": "StyleView",
            "bar_color": null,
            "description_width": ""
          }
        },
        "41e67969bd2342b49993e97fa0e345a4": {
          "model_module": "@jupyter-widgets/base",
          "model_name": "LayoutModel",
          "model_module_version": "1.2.0",
          "state": {
            "_model_module": "@jupyter-widgets/base",
            "_model_module_version": "1.2.0",
            "_model_name": "LayoutModel",
            "_view_count": null,
            "_view_module": "@jupyter-widgets/base",
            "_view_module_version": "1.2.0",
            "_view_name": "LayoutView",
            "align_content": null,
            "align_items": null,
            "align_self": null,
            "border": null,
            "bottom": null,
            "display": null,
            "flex": null,
            "flex_flow": null,
            "grid_area": null,
            "grid_auto_columns": null,
            "grid_auto_flow": null,
            "grid_auto_rows": null,
            "grid_column": null,
            "grid_gap": null,
            "grid_row": null,
            "grid_template_areas": null,
            "grid_template_columns": null,
            "grid_template_rows": null,
            "height": null,
            "justify_content": null,
            "justify_items": null,
            "left": null,
            "margin": null,
            "max_height": null,
            "max_width": null,
            "min_height": null,
            "min_width": null,
            "object_fit": null,
            "object_position": null,
            "order": null,
            "overflow": null,
            "overflow_x": null,
            "overflow_y": null,
            "padding": null,
            "right": null,
            "top": null,
            "visibility": null,
            "width": null
          }
        },
        "c61ec852a88c42eea5e45530de16b862": {
          "model_module": "@jupyter-widgets/controls",
          "model_name": "DescriptionStyleModel",
          "model_module_version": "1.5.0",
          "state": {
            "_model_module": "@jupyter-widgets/controls",
            "_model_module_version": "1.5.0",
            "_model_name": "DescriptionStyleModel",
            "_view_count": null,
            "_view_module": "@jupyter-widgets/base",
            "_view_module_version": "1.2.0",
            "_view_name": "StyleView",
            "description_width": ""
          }
        },
        "08fd86460e174372ad5b843f49f51e16": {
          "model_module": "@jupyter-widgets/controls",
          "model_name": "HBoxModel",
          "model_module_version": "1.5.0",
          "state": {
            "_dom_classes": [],
            "_model_module": "@jupyter-widgets/controls",
            "_model_module_version": "1.5.0",
            "_model_name": "HBoxModel",
            "_view_count": null,
            "_view_module": "@jupyter-widgets/controls",
            "_view_module_version": "1.5.0",
            "_view_name": "HBoxView",
            "box_style": "",
            "children": [
              "IPY_MODEL_be5836ce67e241dfb02c2e4e51c921af",
              "IPY_MODEL_0baf8ad0e7e6469588573bb5d18d928d",
              "IPY_MODEL_f5b83c77fb85463582c05873e1701ef4"
            ],
            "layout": "IPY_MODEL_54135f51bfd345fbab34b209a2885041"
          }
        },
        "be5836ce67e241dfb02c2e4e51c921af": {
          "model_module": "@jupyter-widgets/controls",
          "model_name": "HTMLModel",
          "model_module_version": "1.5.0",
          "state": {
            "_dom_classes": [],
            "_model_module": "@jupyter-widgets/controls",
            "_model_module_version": "1.5.0",
            "_model_name": "HTMLModel",
            "_view_count": null,
            "_view_module": "@jupyter-widgets/controls",
            "_view_module_version": "1.5.0",
            "_view_name": "HTMLView",
            "description": "",
            "description_tooltip": null,
            "layout": "IPY_MODEL_d529e49f7df342988a00bf8721c7e4d2",
            "placeholder": "​",
            "style": "IPY_MODEL_69d7705ee8ee4fdba260616f27a2dc95",
            "value": "100%"
          }
        },
        "0baf8ad0e7e6469588573bb5d18d928d": {
          "model_module": "@jupyter-widgets/controls",
          "model_name": "FloatProgressModel",
          "model_module_version": "1.5.0",
          "state": {
            "_dom_classes": [],
            "_model_module": "@jupyter-widgets/controls",
            "_model_module_version": "1.5.0",
            "_model_name": "FloatProgressModel",
            "_view_count": null,
            "_view_module": "@jupyter-widgets/controls",
            "_view_module_version": "1.5.0",
            "_view_name": "ProgressView",
            "bar_style": "success",
            "description": "",
            "description_tooltip": null,
            "layout": "IPY_MODEL_23d9095d60db4a3d9fe256a846496bad",
            "max": 500,
            "min": 0,
            "orientation": "horizontal",
            "style": "IPY_MODEL_b1355abde46a471fa633dbf1753b704f",
            "value": 500
          }
        },
        "f5b83c77fb85463582c05873e1701ef4": {
          "model_module": "@jupyter-widgets/controls",
          "model_name": "HTMLModel",
          "model_module_version": "1.5.0",
          "state": {
            "_dom_classes": [],
            "_model_module": "@jupyter-widgets/controls",
            "_model_module_version": "1.5.0",
            "_model_name": "HTMLModel",
            "_view_count": null,
            "_view_module": "@jupyter-widgets/controls",
            "_view_module_version": "1.5.0",
            "_view_name": "HTMLView",
            "description": "",
            "description_tooltip": null,
            "layout": "IPY_MODEL_7843e38f702e4094aee29590f16f3121",
            "placeholder": "​",
            "style": "IPY_MODEL_5e88c8aba38a44e0ba0b24a3e64cf048",
            "value": " 500/500 [01:17&lt;00:00,  7.38it/s]"
          }
        },
        "54135f51bfd345fbab34b209a2885041": {
          "model_module": "@jupyter-widgets/base",
          "model_name": "LayoutModel",
          "model_module_version": "1.2.0",
          "state": {
            "_model_module": "@jupyter-widgets/base",
            "_model_module_version": "1.2.0",
            "_model_name": "LayoutModel",
            "_view_count": null,
            "_view_module": "@jupyter-widgets/base",
            "_view_module_version": "1.2.0",
            "_view_name": "LayoutView",
            "align_content": null,
            "align_items": null,
            "align_self": null,
            "border": null,
            "bottom": null,
            "display": null,
            "flex": null,
            "flex_flow": null,
            "grid_area": null,
            "grid_auto_columns": null,
            "grid_auto_flow": null,
            "grid_auto_rows": null,
            "grid_column": null,
            "grid_gap": null,
            "grid_row": null,
            "grid_template_areas": null,
            "grid_template_columns": null,
            "grid_template_rows": null,
            "height": null,
            "justify_content": null,
            "justify_items": null,
            "left": null,
            "margin": null,
            "max_height": null,
            "max_width": null,
            "min_height": null,
            "min_width": null,
            "object_fit": null,
            "object_position": null,
            "order": null,
            "overflow": null,
            "overflow_x": null,
            "overflow_y": null,
            "padding": null,
            "right": null,
            "top": null,
            "visibility": null,
            "width": null
          }
        },
        "d529e49f7df342988a00bf8721c7e4d2": {
          "model_module": "@jupyter-widgets/base",
          "model_name": "LayoutModel",
          "model_module_version": "1.2.0",
          "state": {
            "_model_module": "@jupyter-widgets/base",
            "_model_module_version": "1.2.0",
            "_model_name": "LayoutModel",
            "_view_count": null,
            "_view_module": "@jupyter-widgets/base",
            "_view_module_version": "1.2.0",
            "_view_name": "LayoutView",
            "align_content": null,
            "align_items": null,
            "align_self": null,
            "border": null,
            "bottom": null,
            "display": null,
            "flex": null,
            "flex_flow": null,
            "grid_area": null,
            "grid_auto_columns": null,
            "grid_auto_flow": null,
            "grid_auto_rows": null,
            "grid_column": null,
            "grid_gap": null,
            "grid_row": null,
            "grid_template_areas": null,
            "grid_template_columns": null,
            "grid_template_rows": null,
            "height": null,
            "justify_content": null,
            "justify_items": null,
            "left": null,
            "margin": null,
            "max_height": null,
            "max_width": null,
            "min_height": null,
            "min_width": null,
            "object_fit": null,
            "object_position": null,
            "order": null,
            "overflow": null,
            "overflow_x": null,
            "overflow_y": null,
            "padding": null,
            "right": null,
            "top": null,
            "visibility": null,
            "width": null
          }
        },
        "69d7705ee8ee4fdba260616f27a2dc95": {
          "model_module": "@jupyter-widgets/controls",
          "model_name": "DescriptionStyleModel",
          "model_module_version": "1.5.0",
          "state": {
            "_model_module": "@jupyter-widgets/controls",
            "_model_module_version": "1.5.0",
            "_model_name": "DescriptionStyleModel",
            "_view_count": null,
            "_view_module": "@jupyter-widgets/base",
            "_view_module_version": "1.2.0",
            "_view_name": "StyleView",
            "description_width": ""
          }
        },
        "23d9095d60db4a3d9fe256a846496bad": {
          "model_module": "@jupyter-widgets/base",
          "model_name": "LayoutModel",
          "model_module_version": "1.2.0",
          "state": {
            "_model_module": "@jupyter-widgets/base",
            "_model_module_version": "1.2.0",
            "_model_name": "LayoutModel",
            "_view_count": null,
            "_view_module": "@jupyter-widgets/base",
            "_view_module_version": "1.2.0",
            "_view_name": "LayoutView",
            "align_content": null,
            "align_items": null,
            "align_self": null,
            "border": null,
            "bottom": null,
            "display": null,
            "flex": null,
            "flex_flow": null,
            "grid_area": null,
            "grid_auto_columns": null,
            "grid_auto_flow": null,
            "grid_auto_rows": null,
            "grid_column": null,
            "grid_gap": null,
            "grid_row": null,
            "grid_template_areas": null,
            "grid_template_columns": null,
            "grid_template_rows": null,
            "height": null,
            "justify_content": null,
            "justify_items": null,
            "left": null,
            "margin": null,
            "max_height": null,
            "max_width": null,
            "min_height": null,
            "min_width": null,
            "object_fit": null,
            "object_position": null,
            "order": null,
            "overflow": null,
            "overflow_x": null,
            "overflow_y": null,
            "padding": null,
            "right": null,
            "top": null,
            "visibility": null,
            "width": null
          }
        },
        "b1355abde46a471fa633dbf1753b704f": {
          "model_module": "@jupyter-widgets/controls",
          "model_name": "ProgressStyleModel",
          "model_module_version": "1.5.0",
          "state": {
            "_model_module": "@jupyter-widgets/controls",
            "_model_module_version": "1.5.0",
            "_model_name": "ProgressStyleModel",
            "_view_count": null,
            "_view_module": "@jupyter-widgets/base",
            "_view_module_version": "1.2.0",
            "_view_name": "StyleView",
            "bar_color": null,
            "description_width": ""
          }
        },
        "7843e38f702e4094aee29590f16f3121": {
          "model_module": "@jupyter-widgets/base",
          "model_name": "LayoutModel",
          "model_module_version": "1.2.0",
          "state": {
            "_model_module": "@jupyter-widgets/base",
            "_model_module_version": "1.2.0",
            "_model_name": "LayoutModel",
            "_view_count": null,
            "_view_module": "@jupyter-widgets/base",
            "_view_module_version": "1.2.0",
            "_view_name": "LayoutView",
            "align_content": null,
            "align_items": null,
            "align_self": null,
            "border": null,
            "bottom": null,
            "display": null,
            "flex": null,
            "flex_flow": null,
            "grid_area": null,
            "grid_auto_columns": null,
            "grid_auto_flow": null,
            "grid_auto_rows": null,
            "grid_column": null,
            "grid_gap": null,
            "grid_row": null,
            "grid_template_areas": null,
            "grid_template_columns": null,
            "grid_template_rows": null,
            "height": null,
            "justify_content": null,
            "justify_items": null,
            "left": null,
            "margin": null,
            "max_height": null,
            "max_width": null,
            "min_height": null,
            "min_width": null,
            "object_fit": null,
            "object_position": null,
            "order": null,
            "overflow": null,
            "overflow_x": null,
            "overflow_y": null,
            "padding": null,
            "right": null,
            "top": null,
            "visibility": null,
            "width": null
          }
        },
        "5e88c8aba38a44e0ba0b24a3e64cf048": {
          "model_module": "@jupyter-widgets/controls",
          "model_name": "DescriptionStyleModel",
          "model_module_version": "1.5.0",
          "state": {
            "_model_module": "@jupyter-widgets/controls",
            "_model_module_version": "1.5.0",
            "_model_name": "DescriptionStyleModel",
            "_view_count": null,
            "_view_module": "@jupyter-widgets/base",
            "_view_module_version": "1.2.0",
            "_view_name": "StyleView",
            "description_width": ""
          }
        },
        "ec41bef8291a483b903b6ef1bd7c380c": {
          "model_module": "@jupyter-widgets/controls",
          "model_name": "HBoxModel",
          "model_module_version": "1.5.0",
          "state": {
            "_dom_classes": [],
            "_model_module": "@jupyter-widgets/controls",
            "_model_module_version": "1.5.0",
            "_model_name": "HBoxModel",
            "_view_count": null,
            "_view_module": "@jupyter-widgets/controls",
            "_view_module_version": "1.5.0",
            "_view_name": "HBoxView",
            "box_style": "",
            "children": [
              "IPY_MODEL_a37450b6149b4a16861c52ab68eba32b",
              "IPY_MODEL_6bc6b8e1ce54482d923a9296049d4afd",
              "IPY_MODEL_9f25ff97d38e4e81a9be07093b667352"
            ],
            "layout": "IPY_MODEL_f10d0b31b45348678d74f16497a4a252"
          }
        },
        "a37450b6149b4a16861c52ab68eba32b": {
          "model_module": "@jupyter-widgets/controls",
          "model_name": "HTMLModel",
          "model_module_version": "1.5.0",
          "state": {
            "_dom_classes": [],
            "_model_module": "@jupyter-widgets/controls",
            "_model_module_version": "1.5.0",
            "_model_name": "HTMLModel",
            "_view_count": null,
            "_view_module": "@jupyter-widgets/controls",
            "_view_module_version": "1.5.0",
            "_view_name": "HTMLView",
            "description": "",
            "description_tooltip": null,
            "layout": "IPY_MODEL_024811b2166641dda6c8fc091c123230",
            "placeholder": "​",
            "style": "IPY_MODEL_6d4eba9b413c477dbf7fa54cd8a7a84a",
            "value": "100%"
          }
        },
        "6bc6b8e1ce54482d923a9296049d4afd": {
          "model_module": "@jupyter-widgets/controls",
          "model_name": "FloatProgressModel",
          "model_module_version": "1.5.0",
          "state": {
            "_dom_classes": [],
            "_model_module": "@jupyter-widgets/controls",
            "_model_module_version": "1.5.0",
            "_model_name": "FloatProgressModel",
            "_view_count": null,
            "_view_module": "@jupyter-widgets/controls",
            "_view_module_version": "1.5.0",
            "_view_name": "ProgressView",
            "bar_style": "success",
            "description": "",
            "description_tooltip": null,
            "layout": "IPY_MODEL_b351d413fa054f78b85e91bff6f806d0",
            "max": 500,
            "min": 0,
            "orientation": "horizontal",
            "style": "IPY_MODEL_94ec002e788d482599124052e11a76ff",
            "value": 500
          }
        },
        "9f25ff97d38e4e81a9be07093b667352": {
          "model_module": "@jupyter-widgets/controls",
          "model_name": "HTMLModel",
          "model_module_version": "1.5.0",
          "state": {
            "_dom_classes": [],
            "_model_module": "@jupyter-widgets/controls",
            "_model_module_version": "1.5.0",
            "_model_name": "HTMLModel",
            "_view_count": null,
            "_view_module": "@jupyter-widgets/controls",
            "_view_module_version": "1.5.0",
            "_view_name": "HTMLView",
            "description": "",
            "description_tooltip": null,
            "layout": "IPY_MODEL_584a7ecb53294fda9060b65c1754167b",
            "placeholder": "​",
            "style": "IPY_MODEL_0fcd0a7ddbd84b748c1bb773d92a7664",
            "value": " 500/500 [01:07&lt;00:00,  8.46it/s]"
          }
        },
        "f10d0b31b45348678d74f16497a4a252": {
          "model_module": "@jupyter-widgets/base",
          "model_name": "LayoutModel",
          "model_module_version": "1.2.0",
          "state": {
            "_model_module": "@jupyter-widgets/base",
            "_model_module_version": "1.2.0",
            "_model_name": "LayoutModel",
            "_view_count": null,
            "_view_module": "@jupyter-widgets/base",
            "_view_module_version": "1.2.0",
            "_view_name": "LayoutView",
            "align_content": null,
            "align_items": null,
            "align_self": null,
            "border": null,
            "bottom": null,
            "display": null,
            "flex": null,
            "flex_flow": null,
            "grid_area": null,
            "grid_auto_columns": null,
            "grid_auto_flow": null,
            "grid_auto_rows": null,
            "grid_column": null,
            "grid_gap": null,
            "grid_row": null,
            "grid_template_areas": null,
            "grid_template_columns": null,
            "grid_template_rows": null,
            "height": null,
            "justify_content": null,
            "justify_items": null,
            "left": null,
            "margin": null,
            "max_height": null,
            "max_width": null,
            "min_height": null,
            "min_width": null,
            "object_fit": null,
            "object_position": null,
            "order": null,
            "overflow": null,
            "overflow_x": null,
            "overflow_y": null,
            "padding": null,
            "right": null,
            "top": null,
            "visibility": null,
            "width": null
          }
        },
        "024811b2166641dda6c8fc091c123230": {
          "model_module": "@jupyter-widgets/base",
          "model_name": "LayoutModel",
          "model_module_version": "1.2.0",
          "state": {
            "_model_module": "@jupyter-widgets/base",
            "_model_module_version": "1.2.0",
            "_model_name": "LayoutModel",
            "_view_count": null,
            "_view_module": "@jupyter-widgets/base",
            "_view_module_version": "1.2.0",
            "_view_name": "LayoutView",
            "align_content": null,
            "align_items": null,
            "align_self": null,
            "border": null,
            "bottom": null,
            "display": null,
            "flex": null,
            "flex_flow": null,
            "grid_area": null,
            "grid_auto_columns": null,
            "grid_auto_flow": null,
            "grid_auto_rows": null,
            "grid_column": null,
            "grid_gap": null,
            "grid_row": null,
            "grid_template_areas": null,
            "grid_template_columns": null,
            "grid_template_rows": null,
            "height": null,
            "justify_content": null,
            "justify_items": null,
            "left": null,
            "margin": null,
            "max_height": null,
            "max_width": null,
            "min_height": null,
            "min_width": null,
            "object_fit": null,
            "object_position": null,
            "order": null,
            "overflow": null,
            "overflow_x": null,
            "overflow_y": null,
            "padding": null,
            "right": null,
            "top": null,
            "visibility": null,
            "width": null
          }
        },
        "6d4eba9b413c477dbf7fa54cd8a7a84a": {
          "model_module": "@jupyter-widgets/controls",
          "model_name": "DescriptionStyleModel",
          "model_module_version": "1.5.0",
          "state": {
            "_model_module": "@jupyter-widgets/controls",
            "_model_module_version": "1.5.0",
            "_model_name": "DescriptionStyleModel",
            "_view_count": null,
            "_view_module": "@jupyter-widgets/base",
            "_view_module_version": "1.2.0",
            "_view_name": "StyleView",
            "description_width": ""
          }
        },
        "b351d413fa054f78b85e91bff6f806d0": {
          "model_module": "@jupyter-widgets/base",
          "model_name": "LayoutModel",
          "model_module_version": "1.2.0",
          "state": {
            "_model_module": "@jupyter-widgets/base",
            "_model_module_version": "1.2.0",
            "_model_name": "LayoutModel",
            "_view_count": null,
            "_view_module": "@jupyter-widgets/base",
            "_view_module_version": "1.2.0",
            "_view_name": "LayoutView",
            "align_content": null,
            "align_items": null,
            "align_self": null,
            "border": null,
            "bottom": null,
            "display": null,
            "flex": null,
            "flex_flow": null,
            "grid_area": null,
            "grid_auto_columns": null,
            "grid_auto_flow": null,
            "grid_auto_rows": null,
            "grid_column": null,
            "grid_gap": null,
            "grid_row": null,
            "grid_template_areas": null,
            "grid_template_columns": null,
            "grid_template_rows": null,
            "height": null,
            "justify_content": null,
            "justify_items": null,
            "left": null,
            "margin": null,
            "max_height": null,
            "max_width": null,
            "min_height": null,
            "min_width": null,
            "object_fit": null,
            "object_position": null,
            "order": null,
            "overflow": null,
            "overflow_x": null,
            "overflow_y": null,
            "padding": null,
            "right": null,
            "top": null,
            "visibility": null,
            "width": null
          }
        },
        "94ec002e788d482599124052e11a76ff": {
          "model_module": "@jupyter-widgets/controls",
          "model_name": "ProgressStyleModel",
          "model_module_version": "1.5.0",
          "state": {
            "_model_module": "@jupyter-widgets/controls",
            "_model_module_version": "1.5.0",
            "_model_name": "ProgressStyleModel",
            "_view_count": null,
            "_view_module": "@jupyter-widgets/base",
            "_view_module_version": "1.2.0",
            "_view_name": "StyleView",
            "bar_color": null,
            "description_width": ""
          }
        },
        "584a7ecb53294fda9060b65c1754167b": {
          "model_module": "@jupyter-widgets/base",
          "model_name": "LayoutModel",
          "model_module_version": "1.2.0",
          "state": {
            "_model_module": "@jupyter-widgets/base",
            "_model_module_version": "1.2.0",
            "_model_name": "LayoutModel",
            "_view_count": null,
            "_view_module": "@jupyter-widgets/base",
            "_view_module_version": "1.2.0",
            "_view_name": "LayoutView",
            "align_content": null,
            "align_items": null,
            "align_self": null,
            "border": null,
            "bottom": null,
            "display": null,
            "flex": null,
            "flex_flow": null,
            "grid_area": null,
            "grid_auto_columns": null,
            "grid_auto_flow": null,
            "grid_auto_rows": null,
            "grid_column": null,
            "grid_gap": null,
            "grid_row": null,
            "grid_template_areas": null,
            "grid_template_columns": null,
            "grid_template_rows": null,
            "height": null,
            "justify_content": null,
            "justify_items": null,
            "left": null,
            "margin": null,
            "max_height": null,
            "max_width": null,
            "min_height": null,
            "min_width": null,
            "object_fit": null,
            "object_position": null,
            "order": null,
            "overflow": null,
            "overflow_x": null,
            "overflow_y": null,
            "padding": null,
            "right": null,
            "top": null,
            "visibility": null,
            "width": null
          }
        },
        "0fcd0a7ddbd84b748c1bb773d92a7664": {
          "model_module": "@jupyter-widgets/controls",
          "model_name": "DescriptionStyleModel",
          "model_module_version": "1.5.0",
          "state": {
            "_model_module": "@jupyter-widgets/controls",
            "_model_module_version": "1.5.0",
            "_model_name": "DescriptionStyleModel",
            "_view_count": null,
            "_view_module": "@jupyter-widgets/base",
            "_view_module_version": "1.2.0",
            "_view_name": "StyleView",
            "description_width": ""
          }
        }
      }
    }
  },
  "cells": [
    {
      "cell_type": "code",
      "execution_count": 1,
      "metadata": {
        "colab": {
          "base_uri": "https://localhost:8080/",
          "height": 696
        },
        "id": "a3BLDnog6U-6",
        "outputId": "3635df37-ec9f-40e5-d3bf-19f50987faab"
      },
      "outputs": [
        {
          "output_type": "stream",
          "name": "stdout",
          "text": [
            "Collecting scikit-rmt\n",
            "  Downloading scikit-rmt-1.0.0.tar.gz (82 kB)\n",
            "\u001b[2K     \u001b[90m━━━━━━━━━━━━━━━━━━━━━━━━━━━━━━━━━━━━━━━━\u001b[0m \u001b[32m82.3/82.3 kB\u001b[0m \u001b[31m752.2 kB/s\u001b[0m eta \u001b[36m0:00:00\u001b[0m\n",
            "\u001b[?25h  Preparing metadata (setup.py) ... \u001b[?25l\u001b[?25hdone\n",
            "Collecting numpy<=1.24.3,>=1.21.6 (from scikit-rmt)\n",
            "  Downloading numpy-1.24.3-cp310-cp310-manylinux_2_17_x86_64.manylinux2014_x86_64.whl (17.3 MB)\n",
            "\u001b[2K     \u001b[90m━━━━━━━━━━━━━━━━━━━━━━━━━━━━━━━━━━━━━━━━\u001b[0m \u001b[32m17.3/17.3 MB\u001b[0m \u001b[31m48.0 MB/s\u001b[0m eta \u001b[36m0:00:00\u001b[0m\n",
            "\u001b[?25hRequirement already satisfied: scipy<1.12,>=1.7.3 in /usr/local/lib/python3.10/dist-packages (from scikit-rmt) (1.11.4)\n",
            "Requirement already satisfied: matplotlib<3.8,>=3.5.3 in /usr/local/lib/python3.10/dist-packages (from scikit-rmt) (3.7.1)\n",
            "Requirement already satisfied: contourpy>=1.0.1 in /usr/local/lib/python3.10/dist-packages (from matplotlib<3.8,>=3.5.3->scikit-rmt) (1.2.1)\n",
            "Requirement already satisfied: cycler>=0.10 in /usr/local/lib/python3.10/dist-packages (from matplotlib<3.8,>=3.5.3->scikit-rmt) (0.12.1)\n",
            "Requirement already satisfied: fonttools>=4.22.0 in /usr/local/lib/python3.10/dist-packages (from matplotlib<3.8,>=3.5.3->scikit-rmt) (4.51.0)\n",
            "Requirement already satisfied: kiwisolver>=1.0.1 in /usr/local/lib/python3.10/dist-packages (from matplotlib<3.8,>=3.5.3->scikit-rmt) (1.4.5)\n",
            "Requirement already satisfied: packaging>=20.0 in /usr/local/lib/python3.10/dist-packages (from matplotlib<3.8,>=3.5.3->scikit-rmt) (24.0)\n",
            "Requirement already satisfied: pillow>=6.2.0 in /usr/local/lib/python3.10/dist-packages (from matplotlib<3.8,>=3.5.3->scikit-rmt) (9.4.0)\n",
            "Requirement already satisfied: pyparsing>=2.3.1 in /usr/local/lib/python3.10/dist-packages (from matplotlib<3.8,>=3.5.3->scikit-rmt) (3.1.2)\n",
            "Requirement already satisfied: python-dateutil>=2.7 in /usr/local/lib/python3.10/dist-packages (from matplotlib<3.8,>=3.5.3->scikit-rmt) (2.8.2)\n",
            "Requirement already satisfied: six>=1.5 in /usr/local/lib/python3.10/dist-packages (from python-dateutil>=2.7->matplotlib<3.8,>=3.5.3->scikit-rmt) (1.16.0)\n",
            "Building wheels for collected packages: scikit-rmt\n",
            "  Building wheel for scikit-rmt (setup.py) ... \u001b[?25l\u001b[?25hdone\n",
            "  Created wheel for scikit-rmt: filename=scikit_rmt-1.0.0-py3-none-any.whl size=77937 sha256=1a54a2173cf3f558bbf462292ae8f51c881d9e40ee45c93e6328bf5400f50ee4\n",
            "  Stored in directory: /root/.cache/pip/wheels/20/0e/76/2bc3a81963287710208aab8d51afbc1f93fdc5a721194ba8cc\n",
            "Successfully built scikit-rmt\n",
            "Installing collected packages: numpy, scikit-rmt\n",
            "  Attempting uninstall: numpy\n",
            "    Found existing installation: numpy 1.25.2\n",
            "    Uninstalling numpy-1.25.2:\n",
            "      Successfully uninstalled numpy-1.25.2\n",
            "\u001b[31mERROR: pip's dependency resolver does not currently take into account all the packages that are installed. This behaviour is the source of the following dependency conflicts.\n",
            "pandas-stubs 2.0.3.230814 requires numpy>=1.25.0; python_version >= \"3.9\", but you have numpy 1.24.3 which is incompatible.\u001b[0m\u001b[31m\n",
            "\u001b[0mSuccessfully installed numpy-1.24.3 scikit-rmt-1.0.0\n"
          ]
        },
        {
          "output_type": "display_data",
          "data": {
            "application/vnd.colab-display-data+json": {
              "pip_warning": {
                "packages": [
                  "numpy"
                ]
              },
              "id": "25f2444c17ea4c8b8f0163b475d4444e"
            }
          },
          "metadata": {}
        }
      ],
      "source": [
        "pip install scikit-rmt"
      ]
    },
    {
      "cell_type": "code",
      "source": [
        "import numpy as np\n",
        "import numpy.linalg as nlg\n",
        "import scipy as sc\n",
        "from scipy.spatial import cKDTree\n",
        "import matplotlib.pyplot as plt\n",
        "from tqdm.auto import tqdm\n",
        "from timeit import default_timer as timer\n",
        "from skrmt.ensemble import CircularEnsemble"
      ],
      "metadata": {
        "id": "6znUUbUR6ZWg"
      },
      "execution_count": 1,
      "outputs": []
    },
    {
      "cell_type": "code",
      "source": [
        "############## Circular orthogonal ensemble ####################\n",
        "n = 4\n",
        "# Generate a matrix from the COE\n",
        "coe = CircularEnsemble(beta=1, n = n)\n",
        "Hcoe = coe.matrix\n",
        "eig = nlg.eigvals(Hcoe)\n",
        "eigph = np.angle(eig)\n",
        "eigso = np.sort(eigph)\n",
        "print(Hcoe)"
      ],
      "metadata": {
        "colab": {
          "base_uri": "https://localhost:8080/"
        },
        "id": "i5mwCIDS9eWz",
        "outputId": "815e4b45-1242-4d0c-86b2-cca654903768"
      },
      "execution_count": 15,
      "outputs": [
        {
          "output_type": "stream",
          "name": "stdout",
          "text": [
            "[[ 0.66357594+0.34228089j  0.17951159+0.23747911j -0.10096043+0.53054938j\n",
            "   0.21408341+0.12799477j]\n",
            " [ 0.17951159+0.23747911j  0.47459835-0.58793724j -0.34599093-0.25040394j\n",
            "   0.01308372-0.39734422j]\n",
            " [-0.10096043+0.53054938j -0.34599093-0.25040394j  0.58296745+0.10585937j\n",
            "   0.24691669-0.33747205j]\n",
            " [ 0.21408341+0.12799477j  0.01308372-0.39734422j  0.24691669-0.33747205j\n",
            "   0.05034616+0.77610698j]]\n"
          ]
        }
      ]
    },
    {
      "cell_type": "code",
      "source": [
        "Hcoet = np.conj(Hcoe).T"
      ],
      "metadata": {
        "id": "-ei_AFpi-_xp"
      },
      "execution_count": 19,
      "outputs": []
    },
    {
      "cell_type": "code",
      "source": [
        "U = np.matmul(Hcoet,Hcoe)"
      ],
      "metadata": {
        "id": "ocFT1lsDABBb"
      },
      "execution_count": 24,
      "outputs": []
    },
    {
      "cell_type": "code",
      "source": [
        "def chop(expr, delta=10**-10):\n",
        "  return np.ma.masked_inside(expr, -delta, delta).filled(0)"
      ],
      "metadata": {
        "id": "4UTiNH4wA2av"
      },
      "execution_count": 37,
      "outputs": []
    },
    {
      "cell_type": "markdown",
      "source": [
        "Checking for unitarity of the COE matrix"
      ],
      "metadata": {
        "id": "1dxRkwr0BHWd"
      }
    },
    {
      "cell_type": "code",
      "source": [
        "chop(U)"
      ],
      "metadata": {
        "colab": {
          "base_uri": "https://localhost:8080/"
        },
        "id": "atQSrkj_A8oC",
        "outputId": "2e73861c-6be4-47f1-cfb6-cb709c48673b"
      },
      "execution_count": 27,
      "outputs": [
        {
          "output_type": "execute_result",
          "data": {
            "text/plain": [
              "array([[1.+0.j, 0.+0.j, 0.+0.j, 0.+0.j],\n",
              "       [0.+0.j, 1.+0.j, 0.+0.j, 0.+0.j],\n",
              "       [0.+0.j, 0.+0.j, 1.+0.j, 0.+0.j],\n",
              "       [0.+0.j, 0.+0.j, 0.+0.j, 1.+0.j]])"
            ]
          },
          "metadata": {},
          "execution_count": 27
        }
      ]
    },
    {
      "cell_type": "code",
      "source": [
        "eigph"
      ],
      "metadata": {
        "colab": {
          "base_uri": "https://localhost:8080/"
        },
        "id": "qsktUOsU-miI",
        "outputId": "769db50e-e430-4e76-81ed-77b0efeb9752"
      },
      "execution_count": 16,
      "outputs": [
        {
          "output_type": "execute_result",
          "data": {
            "text/plain": [
              "array([-1.36289627, -0.08809392,  0.79192889,  1.70470999])"
            ]
          },
          "metadata": {},
          "execution_count": 16
        }
      ]
    },
    {
      "cell_type": "code",
      "source": [
        "############## Circular unitary ensemble ####################\n",
        "n = 4\n",
        "# Generate a matrix from the CUE\n",
        "cue = CircularEnsemble(beta=2, n = n)\n",
        "Hcue = cue.matrix\n",
        "eig = nlg.eigvals(Hcue)\n",
        "eigph = np.angle(eig)\n",
        "eigso = np.sort(eigph)\n",
        "print(Hcue)"
      ],
      "metadata": {
        "colab": {
          "base_uri": "https://localhost:8080/"
        },
        "id": "B37f7cXfBVqJ",
        "outputId": "75a59265-698c-40e5-9321-7a88f7fbf0f9"
      },
      "execution_count": 28,
      "outputs": [
        {
          "output_type": "stream",
          "name": "stdout",
          "text": [
            "[[-0.5559732 -0.36038939j  0.44914622-0.09449405j  0.03612757-0.19755887j\n",
            "  -0.12198037+0.54326598j]\n",
            " [ 0.09756702-0.40585953j -0.71341486+0.00666012j -0.11425349+0.07342883j\n",
            "   0.21178965+0.50344125j]\n",
            " [ 0.01908559+0.27603943j  0.16027186+0.16820782j -0.14406689+0.82459833j\n",
            "  -0.18301806+0.36775502j]\n",
            " [-0.15069565+0.53619101j -0.31552874+0.3560816j   0.35470629-0.33865235j\n",
            "  -0.36889425+0.29470763j]]\n"
          ]
        }
      ]
    },
    {
      "cell_type": "code",
      "source": [
        "chop(np.matmul(Hcue,np.conj(Hcue).T))"
      ],
      "metadata": {
        "colab": {
          "base_uri": "https://localhost:8080/"
        },
        "id": "Qy65qE66BhJr",
        "outputId": "ab65a144-40c1-47f3-e8d9-a3dae2baa994"
      },
      "execution_count": 29,
      "outputs": [
        {
          "output_type": "execute_result",
          "data": {
            "text/plain": [
              "array([[1.+0.j, 0.+0.j, 0.+0.j, 0.+0.j],\n",
              "       [0.+0.j, 1.+0.j, 0.+0.j, 0.+0.j],\n",
              "       [0.+0.j, 0.+0.j, 1.+0.j, 0.+0.j],\n",
              "       [0.+0.j, 0.+0.j, 0.+0.j, 1.+0.j]])"
            ]
          },
          "metadata": {},
          "execution_count": 29
        }
      ]
    },
    {
      "cell_type": "code",
      "source": [
        "############## Circular unitary ensemble ####################\n",
        "n = 2\n",
        "# Generate a matrix from the CUE\n",
        "cse = CircularEnsemble(beta = 4, n = n)\n",
        "Hcse = cse.matrix\n",
        "eig = nlg.eigvals(Hcse)\n",
        "eigph = np.angle(eig)\n",
        "eigso = np.sort(eigph)\n",
        "print(Hcse)"
      ],
      "metadata": {
        "colab": {
          "base_uri": "https://localhost:8080/"
        },
        "id": "Rfx_9B5tBwV7",
        "outputId": "494d71cc-0749-4434-bcd1-d96a611f4ae2"
      },
      "execution_count": 40,
      "outputs": [
        {
          "output_type": "stream",
          "name": "stdout",
          "text": [
            "[[-9.77477252e-01-7.72376070e-01j -2.73685689e-17+3.46944695e-18j\n",
            "  -3.95241745e-01+5.62808403e-02j  6.48748402e-01-3.06667514e-01j]\n",
            " [ 2.30394747e-01-2.75820421e-01j -5.82235506e-01-8.28656911e-01j\n",
            "   2.30394747e-01-2.75820421e-01j -6.21554159e-01-1.98069409e-01j]\n",
            " [ 8.34778629e-01+1.10648712e+00j -6.48748402e-01+3.06667514e-01j\n",
            "   8.74097281e-01+4.75899621e-01j -6.48748402e-01+3.06667514e-01j]\n",
            " [-2.30394747e-01+2.75820421e-01j -3.95241745e-01+5.62808403e-02j\n",
            "   1.34954002e-17+0.00000000e+00j  4.78855536e-01+5.32180461e-01j]]\n"
          ]
        }
      ]
    },
    {
      "cell_type": "code",
      "source": [
        "chop(np.matmul(Hcse,np.conj(Hcse).T))"
      ],
      "metadata": {
        "colab": {
          "base_uri": "https://localhost:8080/"
        },
        "id": "mX_ITnVhCN2y",
        "outputId": "28b43921-d106-446d-aa7f-67204eab03a6"
      },
      "execution_count": 38,
      "outputs": [
        {
          "output_type": "execute_result",
          "data": {
            "text/plain": [
              "array([[ 2.5408693 -2.22300297e-17j, -0.75727197+4.84381246e-01j,\n",
              "        -2.02735736-2.64561207e-01j, -0.27964851-6.12767243e-01j,\n",
              "        -0.15916337-2.97394471e-01j,  0.50428854+3.04801330e-01j],\n",
              "       [-0.75727197-4.84381246e-01j,  3.02382261-2.18125291e-17j,\n",
              "         1.45960027+6.61603239e-01j, -1.84064639+2.06516657e-01j,\n",
              "        -0.5271548 -3.27983403e-01j,  0.2309679 -3.47054862e-01j],\n",
              "       [-2.02735736+2.64561207e-01j,  1.45960027-6.61603239e-01j,\n",
              "         3.67517833-1.48170993e-17j, -0.42498459+1.79011182e+00j,\n",
              "        -1.80659533+8.19167452e-01j, -0.3632992 -1.25925106e+00j],\n",
              "       [-0.27964851+6.12767243e-01j, -1.84064639-2.06516657e-01j,\n",
              "        -0.42498459-1.79011182e+00j,  3.34969688-4.21823682e-17j,\n",
              "         0.88732112+1.31834892e+00j, -1.41109844+2.16751720e-01j],\n",
              "       [-0.15916337+2.97394471e-01j, -0.5271548 +3.27983403e-01j,\n",
              "        -1.80659533-8.19167452e-01j,  0.88732112-1.31834892e+00j,\n",
              "         2.90104944+0.00000000e+00j, -0.54294839+1.26165859e+00j],\n",
              "       [ 0.50428854-3.04801330e-01j,  0.2309679 +3.47054862e-01j,\n",
              "        -0.3632992 +1.25925106e+00j, -1.41109844-2.16751720e-01j,\n",
              "        -0.54294839-1.26165859e+00j,  1.10248908+0.00000000e+00j]])"
            ]
          },
          "metadata": {},
          "execution_count": 38
        }
      ]
    },
    {
      "cell_type": "markdown",
      "source": [
        "Eigenphase, eigenvalue and ratio of spacings of the eigenphases for the COE"
      ],
      "metadata": {
        "id": "EAhsjTGa76BN"
      }
    },
    {
      "cell_type": "code",
      "source": [
        "############## Circular orthogonal ensemble ####################\n",
        "n = 200\n",
        "ens = 1000  # ens\n",
        "eigphall = []\n",
        "eigvals = []\n",
        "spacing_ratios = []\n",
        "# Generate a matrix from the CUE\n",
        "for i in tqdm(range(ens)):\n",
        "    coe = CircularEnsemble(beta=1, n = n)\n",
        "    Hcoe = coe.matrix\n",
        "    eig = nlg.eigvals(Hcoe)\n",
        "    eigph = np.angle(eig)\n",
        "    eigso = np.sort(eigph)\n",
        "    for j in range(len(eig)-2):\n",
        "    #spacings = np.diff(eigs)\n",
        "        sratio = (eigso[j+2]-eigso[j+1])/(eigso[j+1]-eigso[j])\n",
        "        spacing_ratios.append(sratio)\n",
        "    eigvals.append(eig)\n",
        "    eigphall.append(eigph)"
      ],
      "metadata": {
        "colab": {
          "base_uri": "https://localhost:8080/",
          "height": 49,
          "referenced_widgets": [
            "cacedd4901d349ac9e74e3a0079d9a72",
            "30ddae630ac54581b3d768c7d3d63a1d",
            "697aa45fb6184e7b96284a0a81e1511f",
            "c43b42f0597f47c39ce0dd806658d957",
            "c8f2d1b3153c4f43b4a9f06a2b4a47da",
            "1232e09794a347e1b3d6ad2f703c5b7e",
            "96efb1f90c7c4859bb4e4d8e5ecfffd5",
            "10c3a4e3f3f642a98152eb64ca1b12c5",
            "dcbe24f85e8044dca9c399b0d5755263",
            "41e67969bd2342b49993e97fa0e345a4",
            "c61ec852a88c42eea5e45530de16b862"
          ]
        },
        "id": "STV_6ltr6ijd",
        "outputId": "21757b55-7e9a-429b-d8af-825820d707c7"
      },
      "execution_count": 2,
      "outputs": [
        {
          "output_type": "display_data",
          "data": {
            "text/plain": [
              "  0%|          | 0/1000 [00:00<?, ?it/s]"
            ],
            "application/vnd.jupyter.widget-view+json": {
              "version_major": 2,
              "version_minor": 0,
              "model_id": "cacedd4901d349ac9e74e3a0079d9a72"
            }
          },
          "metadata": {}
        }
      ]
    },
    {
      "cell_type": "code",
      "source": [
        "e1 = np.array(eigvals).flatten()\n",
        "e2 = np.array(eigphall).flatten()"
      ],
      "metadata": {
        "id": "XmtUYcyH6wkp"
      },
      "execution_count": 3,
      "outputs": []
    },
    {
      "cell_type": "code",
      "source": [
        "plt.figure(figsize=(6, 6))\n",
        "plt.scatter(np.real(e1), np.imag(e1), color='blue', alpha=0.2)\n",
        "plt.title(f\"Distribution of Eigenvalues on the unit circle\")\n",
        "plt.xlabel(\"Real\")\n",
        "plt.ylabel(\"Imaginary\")\n",
        "plt.axhline(0, color='black',linewidth=0.5)\n",
        "plt.axvline(0, color='black',linewidth=0.5)\n",
        "plt.grid()\n",
        "plt.show()"
      ],
      "metadata": {
        "colab": {
          "base_uri": "https://localhost:8080/",
          "height": 564
        },
        "id": "Abxb8bwO7CT2",
        "outputId": "cac2e827-fdb5-40fb-9b36-f61fbee8b4d4"
      },
      "execution_count": 4,
      "outputs": [
        {
          "output_type": "display_data",
          "data": {
            "text/plain": [
              "<Figure size 600x600 with 1 Axes>"
            ],
            "image/png": "[encoded data removed]"
          },
          "metadata": {}
        }
      ]
    },
    {
      "cell_type": "code",
      "source": [
        "################################# RMT results of ratios of consecutive level spacings ############################\n",
        "x = np.linspace(0, 10, 1000)\n",
        "prgoe = 27*x*(x+1)/(8*(x** 2 + x + 1)**(5/2))\n",
        "prgue = 81*np.sqrt(3)*x**2*(x+1)**2/(4*np.pi*(x ** 2 + x + 1)**(4))\n",
        "prgse = 729*np.sqrt(3)*x**4*(x+1)**4/(4*np.pi*(x ** 2 + x + 1)**(7))\n",
        "prpoi = 1/(x+1)**2"
      ],
      "metadata": {
        "id": "GU7jVCiN7Fcx"
      },
      "execution_count": 41,
      "outputs": []
    },
    {
      "cell_type": "markdown",
      "source": [
        "Eigenphase distribution of the COE"
      ],
      "metadata": {
        "id": "5SlfFCOx7sk2"
      }
    },
    {
      "cell_type": "code",
      "source": [
        "plt.hist(e2,range = [-np.pi/2,np.pi/2],  bins=40, density=True, alpha=0.5, color='blue')"
      ],
      "metadata": {
        "colab": {
          "base_uri": "https://localhost:8080/",
          "height": 756
        },
        "id": "B4xDDdID7kGG",
        "outputId": "5dc698bb-1441-4886-83f4-36152e8e05d0"
      },
      "execution_count": 6,
      "outputs": [
        {
          "output_type": "execute_result",
          "data": {
            "text/plain": [
              "(array([0.31623942, 0.32120854, 0.3140734 , 0.32095371, 0.30999618,\n",
              "        0.32108112, 0.3199344 , 0.31751355, 0.32757919, 0.31177996,\n",
              "        0.31560236, 0.31802321, 0.32311973, 0.31394599, 0.32057147,\n",
              "        0.31955216, 0.32018923, 0.32018923, 0.31878769, 0.3140734 ,\n",
              "        0.32146336, 0.31751355, 0.3150927 , 0.31980699, 0.32350197,\n",
              "        0.31522012, 0.31496529, 0.32095371, 0.31649425, 0.32311973,\n",
              "        0.31330892, 0.31547494, 0.32018923, 0.3237568 , 0.31547494,\n",
              "        0.31611201, 0.31789579, 0.32146336, 0.32108112, 0.3150927 ]),\n",
              " array([-1.57079633, -1.49225651, -1.41371669, -1.33517688, -1.25663706,\n",
              "        -1.17809725, -1.09955743, -1.02101761, -0.9424778 , -0.86393798,\n",
              "        -0.78539816, -0.70685835, -0.62831853, -0.54977871, -0.4712389 ,\n",
              "        -0.39269908, -0.31415927, -0.23561945, -0.15707963, -0.07853982,\n",
              "         0.        ,  0.07853982,  0.15707963,  0.23561945,  0.31415927,\n",
              "         0.39269908,  0.4712389 ,  0.54977871,  0.62831853,  0.70685835,\n",
              "         0.78539816,  0.86393798,  0.9424778 ,  1.02101761,  1.09955743,\n",
              "         1.17809725,  1.25663706,  1.33517688,  1.41371669,  1.49225651,\n",
              "         1.57079633]),\n",
              " <BarContainer object of 40 artists>)"
            ]
          },
          "metadata": {},
          "execution_count": 6
        },
        {
          "output_type": "display_data",
          "data": {
            "text/plain": [
              "<Figure size 640x480 with 1 Axes>"
            ],
            "image/png": "[encoded data removed]"
          },
          "metadata": {}
        }
      ]
    },
    {
      "cell_type": "code",
      "source": [
        "# Plot the spacing ratios\n",
        "plt.hist(spacing_ratios,range = [0,8],  bins=40, density=True, alpha=0.3, color='blue')\n",
        "plt.plot(x,prgoe,alpha=0.7, color='black')\n",
        "plt.plot(x,prgue,alpha=0.7, color='red')\n",
        "plt.plot(x,prpoi,alpha=0.7, color='blue')\n",
        "plt.xlabel('Spacing Ratio')\n",
        "plt.ylabel('Probability Density')\n",
        "plt.title('Histogram of Spacing Ratios of Eigenvalues')\n",
        "plt.grid(False)\n",
        "plt.show()"
      ],
      "metadata": {
        "colab": {
          "base_uri": "https://localhost:8080/",
          "height": 472
        },
        "id": "rCl29Li37nwI",
        "outputId": "1be9f000-e5c5-444c-a59e-a1a0e1d0d004"
      },
      "execution_count": 7,
      "outputs": [
        {
          "output_type": "display_data",
          "data": {
            "text/plain": [
              "<Figure size 640x480 with 1 Axes>"
            ],
            "image/png": "[encoded data removed]"
          },
          "metadata": {}
        }
      ]
    },
    {
      "cell_type": "markdown",
      "source": [
        "Eigenphase, eigenvalue and ratio of spacings of the eigenphases for the CUE"
      ],
      "metadata": {
        "id": "iltgqwlQ8USC"
      }
    },
    {
      "cell_type": "code",
      "source": [
        "############## Circular orthogonal ensemble ####################\n",
        "n = 200\n",
        "ens = 500  # ens\n",
        "eigphall = []\n",
        "eigvals = []\n",
        "spacing_ratios = []\n",
        "# Generate a matrix from the CUE\n",
        "for i in tqdm(range(ens)):\n",
        "    cue = CircularEnsemble(beta=2, n = n)\n",
        "    Hcue = cue.matrix\n",
        "    eig = nlg.eigvals(Hcue)\n",
        "    eigph = np.angle(eig)\n",
        "    eigso = np.sort(eigph)\n",
        "    for j in range(len(eig)-2):\n",
        "    #spacings = np.diff(eigs)\n",
        "        sratio = (eigso[j+2]-eigso[j+1])/(eigso[j+1]-eigso[j])\n",
        "        spacing_ratios.append(sratio)\n",
        "    eigvals.append(eig)\n",
        "    eigphall.append(eigph)"
      ],
      "metadata": {
        "colab": {
          "base_uri": "https://localhost:8080/",
          "height": 49,
          "referenced_widgets": [
            "08fd86460e174372ad5b843f49f51e16",
            "be5836ce67e241dfb02c2e4e51c921af",
            "0baf8ad0e7e6469588573bb5d18d928d",
            "f5b83c77fb85463582c05873e1701ef4",
            "54135f51bfd345fbab34b209a2885041",
            "d529e49f7df342988a00bf8721c7e4d2",
            "69d7705ee8ee4fdba260616f27a2dc95",
            "23d9095d60db4a3d9fe256a846496bad",
            "b1355abde46a471fa633dbf1753b704f",
            "7843e38f702e4094aee29590f16f3121",
            "5e88c8aba38a44e0ba0b24a3e64cf048"
          ]
        },
        "id": "SI5eP4sF8QTb",
        "outputId": "6af04a8a-02a0-49a6-d7ce-eba04ffd9039"
      },
      "execution_count": 48,
      "outputs": [
        {
          "output_type": "display_data",
          "data": {
            "text/plain": [
              "  0%|          | 0/500 [00:00<?, ?it/s]"
            ],
            "application/vnd.jupyter.widget-view+json": {
              "version_major": 2,
              "version_minor": 0,
              "model_id": "08fd86460e174372ad5b843f49f51e16"
            }
          },
          "metadata": {}
        }
      ]
    },
    {
      "cell_type": "code",
      "source": [
        "e1 = np.array(eigvals).flatten()\n",
        "e2 = np.array(eigphall).flatten()"
      ],
      "metadata": {
        "id": "9LxuZt858luc"
      },
      "execution_count": 49,
      "outputs": []
    },
    {
      "cell_type": "code",
      "source": [
        "plt.figure(figsize=(4,4))\n",
        "plt.scatter(np.real(e1), np.imag(e1), color='blue', alpha=0.2)\n",
        "plt.title(f\"Distribution of Eigenvalues on the unit circle\")\n",
        "plt.xlabel(\"Real\")\n",
        "plt.ylabel(\"Imaginary\")\n",
        "plt.axhline(0, color='black',linewidth=0.5)\n",
        "plt.axvline(0, color='black',linewidth=0.5)\n",
        "plt.grid()\n",
        "plt.show()"
      ],
      "metadata": {
        "colab": {
          "base_uri": "https://localhost:8080/",
          "height": 410
        },
        "id": "6-JtI-yT8u4u",
        "outputId": "38806e75-5ddf-4f77-ece7-db5c6d7bd1ae"
      },
      "execution_count": 50,
      "outputs": [
        {
          "output_type": "display_data",
          "data": {
            "text/plain": [
              "<Figure size 400x400 with 1 Axes>"
            ],
            "image/png": "[encoded data removed]"
          },
          "metadata": {}
        }
      ]
    },
    {
      "cell_type": "code",
      "source": [
        "plt.hist(e2,range = [-np.pi,np.pi],  bins=40, density=True, alpha=0.5, color='blue')"
      ],
      "metadata": {
        "colab": {
          "base_uri": "https://localhost:8080/",
          "height": 756
        },
        "id": "WdqRG7eN8_LS",
        "outputId": "57fc6681-97f0-4ce7-aedb-9e605b4b01bd"
      },
      "execution_count": 54,
      "outputs": [
        {
          "output_type": "execute_result",
          "data": {
            "text/plain": [
              "(array([0.16246537, 0.16507551, 0.16412058, 0.16418424, 0.16233804,\n",
              "        0.16412058, 0.16418424, 0.16329297, 0.16361128, 0.16412058,\n",
              "        0.162911  , 0.16310199, 0.16482086, 0.16081015, 0.16335663,\n",
              "        0.15928227, 0.15896396, 0.15622649, 0.14909635, 0.10612452,\n",
              "        0.1063155 , 0.15094255, 0.1552079 , 0.15985522, 0.15998255,\n",
              "        0.16004621, 0.16329297, 0.16456621, 0.16049184, 0.16526649,\n",
              "        0.16189241, 0.16335663, 0.16310199, 0.1647572 , 0.16373861,\n",
              "        0.16386593, 0.1642479 , 0.16373861, 0.16412058, 0.16520283]),\n",
              " array([-3.14159265, -2.98451302, -2.82743339, -2.67035376, -2.51327412,\n",
              "        -2.35619449, -2.19911486, -2.04203522, -1.88495559, -1.72787596,\n",
              "        -1.57079633, -1.41371669, -1.25663706, -1.09955743, -0.9424778 ,\n",
              "        -0.78539816, -0.62831853, -0.4712389 , -0.31415927, -0.15707963,\n",
              "         0.        ,  0.15707963,  0.31415927,  0.4712389 ,  0.62831853,\n",
              "         0.78539816,  0.9424778 ,  1.09955743,  1.25663706,  1.41371669,\n",
              "         1.57079633,  1.72787596,  1.88495559,  2.04203522,  2.19911486,\n",
              "         2.35619449,  2.51327412,  2.67035376,  2.82743339,  2.98451302,\n",
              "         3.14159265]),\n",
              " <BarContainer object of 40 artists>)"
            ]
          },
          "metadata": {},
          "execution_count": 54
        },
        {
          "output_type": "display_data",
          "data": {
            "text/plain": [
              "<Figure size 640x480 with 1 Axes>"
            ],
            "image/png": "[encoded data removed]"
          },
          "metadata": {}
        }
      ]
    },
    {
      "cell_type": "code",
      "source": [
        "# Plot the spacing ratios\n",
        "plt.hist(spacing_ratios,range = [0,8],  bins=40, density=True, alpha=0.3, color='blue')\n",
        "plt.plot(x,prgoe,alpha=0.7, color='black')\n",
        "plt.plot(x,prgue,alpha=0.7, color='red')\n",
        "plt.plot(x,prpoi,alpha=0.7, color='blue')\n",
        "plt.xlabel('Spacing Ratio')\n",
        "plt.ylabel('Probability Density')\n",
        "plt.title('Histogram of Spacing Ratios of Eigenvalues')\n",
        "plt.grid(False)\n",
        "plt.show()"
      ],
      "metadata": {
        "colab": {
          "base_uri": "https://localhost:8080/",
          "height": 472
        },
        "id": "Tujy0-Lr9MUu",
        "outputId": "84cf5fc3-b4fd-43e7-a1a5-481ca65dabb2"
      },
      "execution_count": 55,
      "outputs": [
        {
          "output_type": "display_data",
          "data": {
            "text/plain": [
              "<Figure size 640x480 with 1 Axes>"
            ],
            "image/png": "[encoded data removed]"
          },
          "metadata": {}
        }
      ]
    },
    {
      "cell_type": "code",
      "source": [
        "############## Circular orthogonal ensemble ####################\n",
        "n = 100\n",
        "ens = 500  # ens\n",
        "eigphall = []\n",
        "eigvals = []\n",
        "#spacing_ratios = []\n",
        "# Generate a matrix from the CUE\n",
        "for i in tqdm(range(ens)):\n",
        "    cse = CircularEnsemble(beta=4, n = n)\n",
        "    Hcse = cse.matrix\n",
        "    eig = nlg.eigvals(Hcse)\n",
        "    eigph = np.angle(eig)\n",
        "    eigso = np.sort(eigph)\n",
        "    # for j in range(len(eig)-2):\n",
        "    # #spacings = np.diff(eigs)\n",
        "    #     sratio = (eigso[j+2]-eigso[j+1])/(eigso[j+1]-eigso[j])\n",
        "    #     spacing_ratios.append(sratio)\n",
        "    eigvals.append(eig)\n",
        "    eigphall.append(eigph)"
      ],
      "metadata": {
        "colab": {
          "base_uri": "https://localhost:8080/",
          "height": 49,
          "referenced_widgets": [
            "ec41bef8291a483b903b6ef1bd7c380c",
            "a37450b6149b4a16861c52ab68eba32b",
            "6bc6b8e1ce54482d923a9296049d4afd",
            "9f25ff97d38e4e81a9be07093b667352",
            "f10d0b31b45348678d74f16497a4a252",
            "024811b2166641dda6c8fc091c123230",
            "6d4eba9b413c477dbf7fa54cd8a7a84a",
            "b351d413fa054f78b85e91bff6f806d0",
            "94ec002e788d482599124052e11a76ff",
            "584a7ecb53294fda9060b65c1754167b",
            "0fcd0a7ddbd84b748c1bb773d92a7664"
          ]
        },
        "id": "XFG4qJC_9XxK",
        "outputId": "ddafdc5b-f1cb-46d3-aa37-8d9c28cde20d"
      },
      "execution_count": 45,
      "outputs": [
        {
          "output_type": "display_data",
          "data": {
            "text/plain": [
              "  0%|          | 0/500 [00:00<?, ?it/s]"
            ],
            "application/vnd.jupyter.widget-view+json": {
              "version_major": 2,
              "version_minor": 0,
              "model_id": "ec41bef8291a483b903b6ef1bd7c380c"
            }
          },
          "metadata": {}
        }
      ]
    },
    {
      "cell_type": "code",
      "source": [
        "e1 = np.array(eigvals).flatten()\n",
        "e2 = np.array(eigphall).flatten()"
      ],
      "metadata": {
        "id": "WXwNVleWH0SY"
      },
      "execution_count": 56,
      "outputs": []
    },
    {
      "cell_type": "code",
      "source": [
        "plt.figure(figsize=(4,4))\n",
        "plt.scatter(np.real(e1), np.imag(e1), color='blue', alpha=0.2)\n",
        "plt.title(f\"Distribution of Eigenvalues on the unit circle\")\n",
        "plt.xlabel(\"Real\")\n",
        "plt.ylabel(\"Imaginary\")\n",
        "plt.axhline(0, color='black',linewidth=0.5)\n",
        "plt.axvline(0, color='black',linewidth=0.5)\n",
        "plt.grid()\n",
        "plt.show()"
      ],
      "metadata": {
        "colab": {
          "base_uri": "https://localhost:8080/",
          "height": 410
        },
        "id": "qSbQjaLfH_kQ",
        "outputId": "845bae28-f864-407d-909b-b2d8c74a66c9"
      },
      "execution_count": 57,
      "outputs": [
        {
          "output_type": "display_data",
          "data": {
            "text/plain": [
              "<Figure size 400x400 with 1 Axes>"
            ],
            "image/png": "[encoded data removed]"
          },
          "metadata": {}
        }
      ]
    },
    {
      "cell_type": "code",
      "source": [],
      "metadata": {
        "id": "5U4ngrYkICmw"
      },
      "execution_count": null,
      "outputs": []
    }
  ]
}