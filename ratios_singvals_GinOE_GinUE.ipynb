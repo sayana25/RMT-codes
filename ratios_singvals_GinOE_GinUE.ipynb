{
  "nbformat": 4,
  "nbformat_minor": 0,
  "metadata": {
    "colab": {
      "provenance": []
    },
    "kernelspec": {
      "name": "python3",
      "display_name": "Python 3"
    },
    "language_info": {
      "name": "python"
    },
    "widgets": {
      "application/vnd.jupyter.widget-state+json": {
        "fe6e542ada124e8eb6eb77b340cf0fed": {
          "model_module": "@jupyter-widgets/controls",
          "model_name": "HBoxModel",
          "model_module_version": "1.5.0",
          "state": {
            "_dom_classes": [],
            "_model_module": "@jupyter-widgets/controls",
            "_model_module_version": "1.5.0",
            "_model_name": "HBoxModel",
            "_view_count": null,
            "_view_module": "@jupyter-widgets/controls",
            "_view_module_version": "1.5.0",
            "_view_name": "HBoxView",
            "box_style": "",
            "children": [
              "IPY_MODEL_ee4776e1f5d74f099aeabc7d87bd61eb",
              "IPY_MODEL_a1cf0ed28beb484a9ce6c3cc20e4150f",
              "IPY_MODEL_226449d141a34f05982951aff8306c50"
            ],
            "layout": "IPY_MODEL_187e06c036b349d6977bfa8fdfef3f80"
          }
        },
        "ee4776e1f5d74f099aeabc7d87bd61eb": {
          "model_module": "@jupyter-widgets/controls",
          "model_name": "HTMLModel",
          "model_module_version": "1.5.0",
          "state": {
            "_dom_classes": [],
            "_model_module": "@jupyter-widgets/controls",
            "_model_module_version": "1.5.0",
            "_model_name": "HTMLModel",
            "_view_count": null,
            "_view_module": "@jupyter-widgets/controls",
            "_view_module_version": "1.5.0",
            "_view_name": "HTMLView",
            "description": "",
            "description_tooltip": null,
            "layout": "IPY_MODEL_d5b560efb62247368ae60711da27ca4c",
            "placeholder": "​",
            "style": "IPY_MODEL_febb308f8cfc4c78b116fbbaddaa8bd1",
            "value": "100%"
          }
        },
        "a1cf0ed28beb484a9ce6c3cc20e4150f": {
          "model_module": "@jupyter-widgets/controls",
          "model_name": "FloatProgressModel",
          "model_module_version": "1.5.0",
          "state": {
            "_dom_classes": [],
            "_model_module": "@jupyter-widgets/controls",
            "_model_module_version": "1.5.0",
            "_model_name": "FloatProgressModel",
            "_view_count": null,
            "_view_module": "@jupyter-widgets/controls",
            "_view_module_version": "1.5.0",
            "_view_name": "ProgressView",
            "bar_style": "success",
            "description": "",
            "description_tooltip": null,
            "layout": "IPY_MODEL_a85fe2d526fa4531a75776a8b12693e9",
            "max": 1000,
            "min": 0,
            "orientation": "horizontal",
            "style": "IPY_MODEL_3f22e542c3c24949a4e41945922a96ca",
            "value": 1000
          }
        },
        "226449d141a34f05982951aff8306c50": {
          "model_module": "@jupyter-widgets/controls",
          "model_name": "HTMLModel",
          "model_module_version": "1.5.0",
          "state": {
            "_dom_classes": [],
            "_model_module": "@jupyter-widgets/controls",
            "_model_module_version": "1.5.0",
            "_model_name": "HTMLModel",
            "_view_count": null,
            "_view_module": "@jupyter-widgets/controls",
            "_view_module_version": "1.5.0",
            "_view_name": "HTMLView",
            "description": "",
            "description_tooltip": null,
            "layout": "IPY_MODEL_af3c3892a59548569c989d9c9f8bfb99",
            "placeholder": "​",
            "style": "IPY_MODEL_71c5426966c64030ba24dc8d29836b48",
            "value": " 1000/1000 [00:27&lt;00:00, 22.91it/s]"
          }
        },
        "187e06c036b349d6977bfa8fdfef3f80": {
          "model_module": "@jupyter-widgets/base",
          "model_name": "LayoutModel",
          "model_module_version": "1.2.0",
          "state": {
            "_model_module": "@jupyter-widgets/base",
            "_model_module_version": "1.2.0",
            "_model_name": "LayoutModel",
            "_view_count": null,
            "_view_module": "@jupyter-widgets/base",
            "_view_module_version": "1.2.0",
            "_view_name": "LayoutView",
            "align_content": null,
            "align_items": null,
            "align_self": null,
            "border": null,
            "bottom": null,
            "display": null,
            "flex": null,
            "flex_flow": null,
            "grid_area": null,
            "grid_auto_columns": null,
            "grid_auto_flow": null,
            "grid_auto_rows": null,
            "grid_column": null,
            "grid_gap": null,
            "grid_row": null,
            "grid_template_areas": null,
            "grid_template_columns": null,
            "grid_template_rows": null,
            "height": null,
            "justify_content": null,
            "justify_items": null,
            "left": null,
            "margin": null,
            "max_height": null,
            "max_width": null,
            "min_height": null,
            "min_width": null,
            "object_fit": null,
            "object_position": null,
            "order": null,
            "overflow": null,
            "overflow_x": null,
            "overflow_y": null,
            "padding": null,
            "right": null,
            "top": null,
            "visibility": null,
            "width": null
          }
        },
        "d5b560efb62247368ae60711da27ca4c": {
          "model_module": "@jupyter-widgets/base",
          "model_name": "LayoutModel",
          "model_module_version": "1.2.0",
          "state": {
            "_model_module": "@jupyter-widgets/base",
            "_model_module_version": "1.2.0",
            "_model_name": "LayoutModel",
            "_view_count": null,
            "_view_module": "@jupyter-widgets/base",
            "_view_module_version": "1.2.0",
            "_view_name": "LayoutView",
            "align_content": null,
            "align_items": null,
            "align_self": null,
            "border": null,
            "bottom": null,
            "display": null,
            "flex": null,
            "flex_flow": null,
            "grid_area": null,
            "grid_auto_columns": null,
            "grid_auto_flow": null,
            "grid_auto_rows": null,
            "grid_column": null,
            "grid_gap": null,
            "grid_row": null,
            "grid_template_areas": null,
            "grid_template_columns": null,
            "grid_template_rows": null,
            "height": null,
            "justify_content": null,
            "justify_items": null,
            "left": null,
            "margin": null,
            "max_height": null,
            "max_width": null,
            "min_height": null,
            "min_width": null,
            "object_fit": null,
            "object_position": null,
            "order": null,
            "overflow": null,
            "overflow_x": null,
            "overflow_y": null,
            "padding": null,
            "right": null,
            "top": null,
            "visibility": null,
            "width": null
          }
        },
        "febb308f8cfc4c78b116fbbaddaa8bd1": {
          "model_module": "@jupyter-widgets/controls",
          "model_name": "DescriptionStyleModel",
          "model_module_version": "1.5.0",
          "state": {
            "_model_module": "@jupyter-widgets/controls",
            "_model_module_version": "1.5.0",
            "_model_name": "DescriptionStyleModel",
            "_view_count": null,
            "_view_module": "@jupyter-widgets/base",
            "_view_module_version": "1.2.0",
            "_view_name": "StyleView",
            "description_width": ""
          }
        },
        "a85fe2d526fa4531a75776a8b12693e9": {
          "model_module": "@jupyter-widgets/base",
          "model_name": "LayoutModel",
          "model_module_version": "1.2.0",
          "state": {
            "_model_module": "@jupyter-widgets/base",
            "_model_module_version": "1.2.0",
            "_model_name": "LayoutModel",
            "_view_count": null,
            "_view_module": "@jupyter-widgets/base",
            "_view_module_version": "1.2.0",
            "_view_name": "LayoutView",
            "align_content": null,
            "align_items": null,
            "align_self": null,
            "border": null,
            "bottom": null,
            "display": null,
            "flex": null,
            "flex_flow": null,
            "grid_area": null,
            "grid_auto_columns": null,
            "grid_auto_flow": null,
            "grid_auto_rows": null,
            "grid_column": null,
            "grid_gap": null,
            "grid_row": null,
            "grid_template_areas": null,
            "grid_template_columns": null,
            "grid_template_rows": null,
            "height": null,
            "justify_content": null,
            "justify_items": null,
            "left": null,
            "margin": null,
            "max_height": null,
            "max_width": null,
            "min_height": null,
            "min_width": null,
            "object_fit": null,
            "object_position": null,
            "order": null,
            "overflow": null,
            "overflow_x": null,
            "overflow_y": null,
            "padding": null,
            "right": null,
            "top": null,
            "visibility": null,
            "width": null
          }
        },
        "3f22e542c3c24949a4e41945922a96ca": {
          "model_module": "@jupyter-widgets/controls",
          "model_name": "ProgressStyleModel",
          "model_module_version": "1.5.0",
          "state": {
            "_model_module": "@jupyter-widgets/controls",
            "_model_module_version": "1.5.0",
            "_model_name": "ProgressStyleModel",
            "_view_count": null,
            "_view_module": "@jupyter-widgets/base",
            "_view_module_version": "1.2.0",
            "_view_name": "StyleView",
            "bar_color": null,
            "description_width": ""
          }
        },
        "af3c3892a59548569c989d9c9f8bfb99": {
          "model_module": "@jupyter-widgets/base",
          "model_name": "LayoutModel",
          "model_module_version": "1.2.0",
          "state": {
            "_model_module": "@jupyter-widgets/base",
            "_model_module_version": "1.2.0",
            "_model_name": "LayoutModel",
            "_view_count": null,
            "_view_module": "@jupyter-widgets/base",
            "_view_module_version": "1.2.0",
            "_view_name": "LayoutView",
            "align_content": null,
            "align_items": null,
            "align_self": null,
            "border": null,
            "bottom": null,
            "display": null,
            "flex": null,
            "flex_flow": null,
            "grid_area": null,
            "grid_auto_columns": null,
            "grid_auto_flow": null,
            "grid_auto_rows": null,
            "grid_column": null,
            "grid_gap": null,
            "grid_row": null,
            "grid_template_areas": null,
            "grid_template_columns": null,
            "grid_template_rows": null,
            "height": null,
            "justify_content": null,
            "justify_items": null,
            "left": null,
            "margin": null,
            "max_height": null,
            "max_width": null,
            "min_height": null,
            "min_width": null,
            "object_fit": null,
            "object_position": null,
            "order": null,
            "overflow": null,
            "overflow_x": null,
            "overflow_y": null,
            "padding": null,
            "right": null,
            "top": null,
            "visibility": null,
            "width": null
          }
        },
        "71c5426966c64030ba24dc8d29836b48": {
          "model_module": "@jupyter-widgets/controls",
          "model_name": "DescriptionStyleModel",
          "model_module_version": "1.5.0",
          "state": {
            "_model_module": "@jupyter-widgets/controls",
            "_model_module_version": "1.5.0",
            "_model_name": "DescriptionStyleModel",
            "_view_count": null,
            "_view_module": "@jupyter-widgets/base",
            "_view_module_version": "1.2.0",
            "_view_name": "StyleView",
            "description_width": ""
          }
        },
        "c2f96e88b8894533a13a63283d9d154a": {
          "model_module": "@jupyter-widgets/controls",
          "model_name": "HBoxModel",
          "model_module_version": "1.5.0",
          "state": {
            "_dom_classes": [],
            "_model_module": "@jupyter-widgets/controls",
            "_model_module_version": "1.5.0",
            "_model_name": "HBoxModel",
            "_view_count": null,
            "_view_module": "@jupyter-widgets/controls",
            "_view_module_version": "1.5.0",
            "_view_name": "HBoxView",
            "box_style": "",
            "children": [
              "IPY_MODEL_eea5fe42069e410ba4b908c4fc9cb93d",
              "IPY_MODEL_677fe71322a844faa3e8abfacf0388eb",
              "IPY_MODEL_5ce5ccf13bb0418e8f2db8ac7cf22512"
            ],
            "layout": "IPY_MODEL_5bd4e692b7b246b6956f8d17a2078310"
          }
        },
        "eea5fe42069e410ba4b908c4fc9cb93d": {
          "model_module": "@jupyter-widgets/controls",
          "model_name": "HTMLModel",
          "model_module_version": "1.5.0",
          "state": {
            "_dom_classes": [],
            "_model_module": "@jupyter-widgets/controls",
            "_model_module_version": "1.5.0",
            "_model_name": "HTMLModel",
            "_view_count": null,
            "_view_module": "@jupyter-widgets/controls",
            "_view_module_version": "1.5.0",
            "_view_name": "HTMLView",
            "description": "",
            "description_tooltip": null,
            "layout": "IPY_MODEL_62950ab5669c43f8be828cf16d72d454",
            "placeholder": "​",
            "style": "IPY_MODEL_c9c090d396a940b99be449446febb7f2",
            "value": "100%"
          }
        },
        "677fe71322a844faa3e8abfacf0388eb": {
          "model_module": "@jupyter-widgets/controls",
          "model_name": "FloatProgressModel",
          "model_module_version": "1.5.0",
          "state": {
            "_dom_classes": [],
            "_model_module": "@jupyter-widgets/controls",
            "_model_module_version": "1.5.0",
            "_model_name": "FloatProgressModel",
            "_view_count": null,
            "_view_module": "@jupyter-widgets/controls",
            "_view_module_version": "1.5.0",
            "_view_name": "ProgressView",
            "bar_style": "success",
            "description": "",
            "description_tooltip": null,
            "layout": "IPY_MODEL_bb3c4dc0890d44f9a46f1df218a9dbf9",
            "max": 5000,
            "min": 0,
            "orientation": "horizontal",
            "style": "IPY_MODEL_194b08465e2a4671880ba0652ca66b9d",
            "value": 5000
          }
        },
        "5ce5ccf13bb0418e8f2db8ac7cf22512": {
          "model_module": "@jupyter-widgets/controls",
          "model_name": "HTMLModel",
          "model_module_version": "1.5.0",
          "state": {
            "_dom_classes": [],
            "_model_module": "@jupyter-widgets/controls",
            "_model_module_version": "1.5.0",
            "_model_name": "HTMLModel",
            "_view_count": null,
            "_view_module": "@jupyter-widgets/controls",
            "_view_module_version": "1.5.0",
            "_view_name": "HTMLView",
            "description": "",
            "description_tooltip": null,
            "layout": "IPY_MODEL_c2b30c4e4aad412aa94b31e54382a00d",
            "placeholder": "​",
            "style": "IPY_MODEL_6b477ccff62b46c8916b22942fd20223",
            "value": " 5000/5000 [01:39&lt;00:00, 56.27it/s]"
          }
        },
        "5bd4e692b7b246b6956f8d17a2078310": {
          "model_module": "@jupyter-widgets/base",
          "model_name": "LayoutModel",
          "model_module_version": "1.2.0",
          "state": {
            "_model_module": "@jupyter-widgets/base",
            "_model_module_version": "1.2.0",
            "_model_name": "LayoutModel",
            "_view_count": null,
            "_view_module": "@jupyter-widgets/base",
            "_view_module_version": "1.2.0",
            "_view_name": "LayoutView",
            "align_content": null,
            "align_items": null,
            "align_self": null,
            "border": null,
            "bottom": null,
            "display": null,
            "flex": null,
            "flex_flow": null,
            "grid_area": null,
            "grid_auto_columns": null,
            "grid_auto_flow": null,
            "grid_auto_rows": null,
            "grid_column": null,
            "grid_gap": null,
            "grid_row": null,
            "grid_template_areas": null,
            "grid_template_columns": null,
            "grid_template_rows": null,
            "height": null,
            "justify_content": null,
            "justify_items": null,
            "left": null,
            "margin": null,
            "max_height": null,
            "max_width": null,
            "min_height": null,
            "min_width": null,
            "object_fit": null,
            "object_position": null,
            "order": null,
            "overflow": null,
            "overflow_x": null,
            "overflow_y": null,
            "padding": null,
            "right": null,
            "top": null,
            "visibility": null,
            "width": null
          }
        },
        "62950ab5669c43f8be828cf16d72d454": {
          "model_module": "@jupyter-widgets/base",
          "model_name": "LayoutModel",
          "model_module_version": "1.2.0",
          "state": {
            "_model_module": "@jupyter-widgets/base",
            "_model_module_version": "1.2.0",
            "_model_name": "LayoutModel",
            "_view_count": null,
            "_view_module": "@jupyter-widgets/base",
            "_view_module_version": "1.2.0",
            "_view_name": "LayoutView",
            "align_content": null,
            "align_items": null,
            "align_self": null,
            "border": null,
            "bottom": null,
            "display": null,
            "flex": null,
            "flex_flow": null,
            "grid_area": null,
            "grid_auto_columns": null,
            "grid_auto_flow": null,
            "grid_auto_rows": null,
            "grid_column": null,
            "grid_gap": null,
            "grid_row": null,
            "grid_template_areas": null,
            "grid_template_columns": null,
            "grid_template_rows": null,
            "height": null,
            "justify_content": null,
            "justify_items": null,
            "left": null,
            "margin": null,
            "max_height": null,
            "max_width": null,
            "min_height": null,
            "min_width": null,
            "object_fit": null,
            "object_position": null,
            "order": null,
            "overflow": null,
            "overflow_x": null,
            "overflow_y": null,
            "padding": null,
            "right": null,
            "top": null,
            "visibility": null,
            "width": null
          }
        },
        "c9c090d396a940b99be449446febb7f2": {
          "model_module": "@jupyter-widgets/controls",
          "model_name": "DescriptionStyleModel",
          "model_module_version": "1.5.0",
          "state": {
            "_model_module": "@jupyter-widgets/controls",
            "_model_module_version": "1.5.0",
            "_model_name": "DescriptionStyleModel",
            "_view_count": null,
            "_view_module": "@jupyter-widgets/base",
            "_view_module_version": "1.2.0",
            "_view_name": "StyleView",
            "description_width": ""
          }
        },
        "bb3c4dc0890d44f9a46f1df218a9dbf9": {
          "model_module": "@jupyter-widgets/base",
          "model_name": "LayoutModel",
          "model_module_version": "1.2.0",
          "state": {
            "_model_module": "@jupyter-widgets/base",
            "_model_module_version": "1.2.0",
            "_model_name": "LayoutModel",
            "_view_count": null,
            "_view_module": "@jupyter-widgets/base",
            "_view_module_version": "1.2.0",
            "_view_name": "LayoutView",
            "align_content": null,
            "align_items": null,
            "align_self": null,
            "border": null,
            "bottom": null,
            "display": null,
            "flex": null,
            "flex_flow": null,
            "grid_area": null,
            "grid_auto_columns": null,
            "grid_auto_flow": null,
            "grid_auto_rows": null,
            "grid_column": null,
            "grid_gap": null,
            "grid_row": null,
            "grid_template_areas": null,
            "grid_template_columns": null,
            "grid_template_rows": null,
            "height": null,
            "justify_content": null,
            "justify_items": null,
            "left": null,
            "margin": null,
            "max_height": null,
            "max_width": null,
            "min_height": null,
            "min_width": null,
            "object_fit": null,
            "object_position": null,
            "order": null,
            "overflow": null,
            "overflow_x": null,
            "overflow_y": null,
            "padding": null,
            "right": null,
            "top": null,
            "visibility": null,
            "width": null
          }
        },
        "194b08465e2a4671880ba0652ca66b9d": {
          "model_module": "@jupyter-widgets/controls",
          "model_name": "ProgressStyleModel",
          "model_module_version": "1.5.0",
          "state": {
            "_model_module": "@jupyter-widgets/controls",
            "_model_module_version": "1.5.0",
            "_model_name": "ProgressStyleModel",
            "_view_count": null,
            "_view_module": "@jupyter-widgets/base",
            "_view_module_version": "1.2.0",
            "_view_name": "StyleView",
            "bar_color": null,
            "description_width": ""
          }
        },
        "c2b30c4e4aad412aa94b31e54382a00d": {
          "model_module": "@jupyter-widgets/base",
          "model_name": "LayoutModel",
          "model_module_version": "1.2.0",
          "state": {
            "_model_module": "@jupyter-widgets/base",
            "_model_module_version": "1.2.0",
            "_model_name": "LayoutModel",
            "_view_count": null,
            "_view_module": "@jupyter-widgets/base",
            "_view_module_version": "1.2.0",
            "_view_name": "LayoutView",
            "align_content": null,
            "align_items": null,
            "align_self": null,
            "border": null,
            "bottom": null,
            "display": null,
            "flex": null,
            "flex_flow": null,
            "grid_area": null,
            "grid_auto_columns": null,
            "grid_auto_flow": null,
            "grid_auto_rows": null,
            "grid_column": null,
            "grid_gap": null,
            "grid_row": null,
            "grid_template_areas": null,
            "grid_template_columns": null,
            "grid_template_rows": null,
            "height": null,
            "justify_content": null,
            "justify_items": null,
            "left": null,
            "margin": null,
            "max_height": null,
            "max_width": null,
            "min_height": null,
            "min_width": null,
            "object_fit": null,
            "object_position": null,
            "order": null,
            "overflow": null,
            "overflow_x": null,
            "overflow_y": null,
            "padding": null,
            "right": null,
            "top": null,
            "visibility": null,
            "width": null
          }
        },
        "6b477ccff62b46c8916b22942fd20223": {
          "model_module": "@jupyter-widgets/controls",
          "model_name": "DescriptionStyleModel",
          "model_module_version": "1.5.0",
          "state": {
            "_model_module": "@jupyter-widgets/controls",
            "_model_module_version": "1.5.0",
            "_model_name": "DescriptionStyleModel",
            "_view_count": null,
            "_view_module": "@jupyter-widgets/base",
            "_view_module_version": "1.2.0",
            "_view_name": "StyleView",
            "description_width": ""
          }
        },
        "eef735dceb09494eb834a2d9ddcac850": {
          "model_module": "@jupyter-widgets/controls",
          "model_name": "HBoxModel",
          "model_module_version": "1.5.0",
          "state": {
            "_dom_classes": [],
            "_model_module": "@jupyter-widgets/controls",
            "_model_module_version": "1.5.0",
            "_model_name": "HBoxModel",
            "_view_count": null,
            "_view_module": "@jupyter-widgets/controls",
            "_view_module_version": "1.5.0",
            "_view_name": "HBoxView",
            "box_style": "",
            "children": [
              "IPY_MODEL_ae5876ed48c34435a9b0c14caca01458",
              "IPY_MODEL_30022c81ad6f42aeba6baa0b7aa1fd51",
              "IPY_MODEL_51c8de9cdf7d42f188342a961fe4a888"
            ],
            "layout": "IPY_MODEL_d94fe94128c64e929e7126acdf08d8a1"
          }
        },
        "ae5876ed48c34435a9b0c14caca01458": {
          "model_module": "@jupyter-widgets/controls",
          "model_name": "HTMLModel",
          "model_module_version": "1.5.0",
          "state": {
            "_dom_classes": [],
            "_model_module": "@jupyter-widgets/controls",
            "_model_module_version": "1.5.0",
            "_model_name": "HTMLModel",
            "_view_count": null,
            "_view_module": "@jupyter-widgets/controls",
            "_view_module_version": "1.5.0",
            "_view_name": "HTMLView",
            "description": "",
            "description_tooltip": null,
            "layout": "IPY_MODEL_f389177841884f29a0856055ae935535",
            "placeholder": "​",
            "style": "IPY_MODEL_8bf0b9f42729432dafdea243206b3b98",
            "value": "100%"
          }
        },
        "30022c81ad6f42aeba6baa0b7aa1fd51": {
          "model_module": "@jupyter-widgets/controls",
          "model_name": "FloatProgressModel",
          "model_module_version": "1.5.0",
          "state": {
            "_dom_classes": [],
            "_model_module": "@jupyter-widgets/controls",
            "_model_module_version": "1.5.0",
            "_model_name": "FloatProgressModel",
            "_view_count": null,
            "_view_module": "@jupyter-widgets/controls",
            "_view_module_version": "1.5.0",
            "_view_name": "ProgressView",
            "bar_style": "success",
            "description": "",
            "description_tooltip": null,
            "layout": "IPY_MODEL_7caccd2c0b56495f817f7571f68396e9",
            "max": 5000,
            "min": 0,
            "orientation": "horizontal",
            "style": "IPY_MODEL_5b73c82d03a14a7ebf3ea14d036ce4b5",
            "value": 5000
          }
        },
        "51c8de9cdf7d42f188342a961fe4a888": {
          "model_module": "@jupyter-widgets/controls",
          "model_name": "HTMLModel",
          "model_module_version": "1.5.0",
          "state": {
            "_dom_classes": [],
            "_model_module": "@jupyter-widgets/controls",
            "_model_module_version": "1.5.0",
            "_model_name": "HTMLModel",
            "_view_count": null,
            "_view_module": "@jupyter-widgets/controls",
            "_view_module_version": "1.5.0",
            "_view_name": "HTMLView",
            "description": "",
            "description_tooltip": null,
            "layout": "IPY_MODEL_31fe4521d69b446885614596482edf83",
            "placeholder": "​",
            "style": "IPY_MODEL_a6841be546124559944e8be7ce0580d4",
            "value": " 5000/5000 [00:46&lt;00:00, 99.84it/s]"
          }
        },
        "d94fe94128c64e929e7126acdf08d8a1": {
          "model_module": "@jupyter-widgets/base",
          "model_name": "LayoutModel",
          "model_module_version": "1.2.0",
          "state": {
            "_model_module": "@jupyter-widgets/base",
            "_model_module_version": "1.2.0",
            "_model_name": "LayoutModel",
            "_view_count": null,
            "_view_module": "@jupyter-widgets/base",
            "_view_module_version": "1.2.0",
            "_view_name": "LayoutView",
            "align_content": null,
            "align_items": null,
            "align_self": null,
            "border": null,
            "bottom": null,
            "display": null,
            "flex": null,
            "flex_flow": null,
            "grid_area": null,
            "grid_auto_columns": null,
            "grid_auto_flow": null,
            "grid_auto_rows": null,
            "grid_column": null,
            "grid_gap": null,
            "grid_row": null,
            "grid_template_areas": null,
            "grid_template_columns": null,
            "grid_template_rows": null,
            "height": null,
            "justify_content": null,
            "justify_items": null,
            "left": null,
            "margin": null,
            "max_height": null,
            "max_width": null,
            "min_height": null,
            "min_width": null,
            "object_fit": null,
            "object_position": null,
            "order": null,
            "overflow": null,
            "overflow_x": null,
            "overflow_y": null,
            "padding": null,
            "right": null,
            "top": null,
            "visibility": null,
            "width": null
          }
        },
        "f389177841884f29a0856055ae935535": {
          "model_module": "@jupyter-widgets/base",
          "model_name": "LayoutModel",
          "model_module_version": "1.2.0",
          "state": {
            "_model_module": "@jupyter-widgets/base",
            "_model_module_version": "1.2.0",
            "_model_name": "LayoutModel",
            "_view_count": null,
            "_view_module": "@jupyter-widgets/base",
            "_view_module_version": "1.2.0",
            "_view_name": "LayoutView",
            "align_content": null,
            "align_items": null,
            "align_self": null,
            "border": null,
            "bottom": null,
            "display": null,
            "flex": null,
            "flex_flow": null,
            "grid_area": null,
            "grid_auto_columns": null,
            "grid_auto_flow": null,
            "grid_auto_rows": null,
            "grid_column": null,
            "grid_gap": null,
            "grid_row": null,
            "grid_template_areas": null,
            "grid_template_columns": null,
            "grid_template_rows": null,
            "height": null,
            "justify_content": null,
            "justify_items": null,
            "left": null,
            "margin": null,
            "max_height": null,
            "max_width": null,
            "min_height": null,
            "min_width": null,
            "object_fit": null,
            "object_position": null,
            "order": null,
            "overflow": null,
            "overflow_x": null,
            "overflow_y": null,
            "padding": null,
            "right": null,
            "top": null,
            "visibility": null,
            "width": null
          }
        },
        "8bf0b9f42729432dafdea243206b3b98": {
          "model_module": "@jupyter-widgets/controls",
          "model_name": "DescriptionStyleModel",
          "model_module_version": "1.5.0",
          "state": {
            "_model_module": "@jupyter-widgets/controls",
            "_model_module_version": "1.5.0",
            "_model_name": "DescriptionStyleModel",
            "_view_count": null,
            "_view_module": "@jupyter-widgets/base",
            "_view_module_version": "1.2.0",
            "_view_name": "StyleView",
            "description_width": ""
          }
        },
        "7caccd2c0b56495f817f7571f68396e9": {
          "model_module": "@jupyter-widgets/base",
          "model_name": "LayoutModel",
          "model_module_version": "1.2.0",
          "state": {
            "_model_module": "@jupyter-widgets/base",
            "_model_module_version": "1.2.0",
            "_model_name": "LayoutModel",
            "_view_count": null,
            "_view_module": "@jupyter-widgets/base",
            "_view_module_version": "1.2.0",
            "_view_name": "LayoutView",
            "align_content": null,
            "align_items": null,
            "align_self": null,
            "border": null,
            "bottom": null,
            "display": null,
            "flex": null,
            "flex_flow": null,
            "grid_area": null,
            "grid_auto_columns": null,
            "grid_auto_flow": null,
            "grid_auto_rows": null,
            "grid_column": null,
            "grid_gap": null,
            "grid_row": null,
            "grid_template_areas": null,
            "grid_template_columns": null,
            "grid_template_rows": null,
            "height": null,
            "justify_content": null,
            "justify_items": null,
            "left": null,
            "margin": null,
            "max_height": null,
            "max_width": null,
            "min_height": null,
            "min_width": null,
            "object_fit": null,
            "object_position": null,
            "order": null,
            "overflow": null,
            "overflow_x": null,
            "overflow_y": null,
            "padding": null,
            "right": null,
            "top": null,
            "visibility": null,
            "width": null
          }
        },
        "5b73c82d03a14a7ebf3ea14d036ce4b5": {
          "model_module": "@jupyter-widgets/controls",
          "model_name": "ProgressStyleModel",
          "model_module_version": "1.5.0",
          "state": {
            "_model_module": "@jupyter-widgets/controls",
            "_model_module_version": "1.5.0",
            "_model_name": "ProgressStyleModel",
            "_view_count": null,
            "_view_module": "@jupyter-widgets/base",
            "_view_module_version": "1.2.0",
            "_view_name": "StyleView",
            "bar_color": null,
            "description_width": ""
          }
        },
        "31fe4521d69b446885614596482edf83": {
          "model_module": "@jupyter-widgets/base",
          "model_name": "LayoutModel",
          "model_module_version": "1.2.0",
          "state": {
            "_model_module": "@jupyter-widgets/base",
            "_model_module_version": "1.2.0",
            "_model_name": "LayoutModel",
            "_view_count": null,
            "_view_module": "@jupyter-widgets/base",
            "_view_module_version": "1.2.0",
            "_view_name": "LayoutView",
            "align_content": null,
            "align_items": null,
            "align_self": null,
            "border": null,
            "bottom": null,
            "display": null,
            "flex": null,
            "flex_flow": null,
            "grid_area": null,
            "grid_auto_columns": null,
            "grid_auto_flow": null,
            "grid_auto_rows": null,
            "grid_column": null,
            "grid_gap": null,
            "grid_row": null,
            "grid_template_areas": null,
            "grid_template_columns": null,
            "grid_template_rows": null,
            "height": null,
            "justify_content": null,
            "justify_items": null,
            "left": null,
            "margin": null,
            "max_height": null,
            "max_width": null,
            "min_height": null,
            "min_width": null,
            "object_fit": null,
            "object_position": null,
            "order": null,
            "overflow": null,
            "overflow_x": null,
            "overflow_y": null,
            "padding": null,
            "right": null,
            "top": null,
            "visibility": null,
            "width": null
          }
        },
        "a6841be546124559944e8be7ce0580d4": {
          "model_module": "@jupyter-widgets/controls",
          "model_name": "DescriptionStyleModel",
          "model_module_version": "1.5.0",
          "state": {
            "_model_module": "@jupyter-widgets/controls",
            "_model_module_version": "1.5.0",
            "_model_name": "DescriptionStyleModel",
            "_view_count": null,
            "_view_module": "@jupyter-widgets/base",
            "_view_module_version": "1.2.0",
            "_view_name": "StyleView",
            "description_width": ""
          }
        },
        "60624ce9cd6540459902fa52b98f1e96": {
          "model_module": "@jupyter-widgets/controls",
          "model_name": "HBoxModel",
          "model_module_version": "1.5.0",
          "state": {
            "_dom_classes": [],
            "_model_module": "@jupyter-widgets/controls",
            "_model_module_version": "1.5.0",
            "_model_name": "HBoxModel",
            "_view_count": null,
            "_view_module": "@jupyter-widgets/controls",
            "_view_module_version": "1.5.0",
            "_view_name": "HBoxView",
            "box_style": "",
            "children": [
              "IPY_MODEL_1f9bd1eac57e47ae8b58f1d4c22c50f5",
              "IPY_MODEL_c1b507e7c1884b9ea0864a1061df7db0",
              "IPY_MODEL_64f393cc3de84e6e9da0242fbd6ea78a"
            ],
            "layout": "IPY_MODEL_de18f5fd9da349fbb55e2dce9e61b8f9"
          }
        },
        "1f9bd1eac57e47ae8b58f1d4c22c50f5": {
          "model_module": "@jupyter-widgets/controls",
          "model_name": "HTMLModel",
          "model_module_version": "1.5.0",
          "state": {
            "_dom_classes": [],
            "_model_module": "@jupyter-widgets/controls",
            "_model_module_version": "1.5.0",
            "_model_name": "HTMLModel",
            "_view_count": null,
            "_view_module": "@jupyter-widgets/controls",
            "_view_module_version": "1.5.0",
            "_view_name": "HTMLView",
            "description": "",
            "description_tooltip": null,
            "layout": "IPY_MODEL_99d9f12e88214da4b1eb9ba725cef09c",
            "placeholder": "​",
            "style": "IPY_MODEL_e1c5a1ed164746049f62f888e8b69ba8",
            "value": "100%"
          }
        },
        "c1b507e7c1884b9ea0864a1061df7db0": {
          "model_module": "@jupyter-widgets/controls",
          "model_name": "FloatProgressModel",
          "model_module_version": "1.5.0",
          "state": {
            "_dom_classes": [],
            "_model_module": "@jupyter-widgets/controls",
            "_model_module_version": "1.5.0",
            "_model_name": "FloatProgressModel",
            "_view_count": null,
            "_view_module": "@jupyter-widgets/controls",
            "_view_module_version": "1.5.0",
            "_view_name": "ProgressView",
            "bar_style": "success",
            "description": "",
            "description_tooltip": null,
            "layout": "IPY_MODEL_e7724585075844a39383b56a119dbffb",
            "max": 1000,
            "min": 0,
            "orientation": "horizontal",
            "style": "IPY_MODEL_3a066f51e33447609eaf6d127e9a0e3f",
            "value": 1000
          }
        },
        "64f393cc3de84e6e9da0242fbd6ea78a": {
          "model_module": "@jupyter-widgets/controls",
          "model_name": "HTMLModel",
          "model_module_version": "1.5.0",
          "state": {
            "_dom_classes": [],
            "_model_module": "@jupyter-widgets/controls",
            "_model_module_version": "1.5.0",
            "_model_name": "HTMLModel",
            "_view_count": null,
            "_view_module": "@jupyter-widgets/controls",
            "_view_module_version": "1.5.0",
            "_view_name": "HTMLView",
            "description": "",
            "description_tooltip": null,
            "layout": "IPY_MODEL_147cc55c22c64279af01f06be7489be2",
            "placeholder": "​",
            "style": "IPY_MODEL_976a0492c9cb4ff89a88869f98ff3fa8",
            "value": " 1000/1000 [00:22&lt;00:00, 51.21it/s]"
          }
        },
        "de18f5fd9da349fbb55e2dce9e61b8f9": {
          "model_module": "@jupyter-widgets/base",
          "model_name": "LayoutModel",
          "model_module_version": "1.2.0",
          "state": {
            "_model_module": "@jupyter-widgets/base",
            "_model_module_version": "1.2.0",
            "_model_name": "LayoutModel",
            "_view_count": null,
            "_view_module": "@jupyter-widgets/base",
            "_view_module_version": "1.2.0",
            "_view_name": "LayoutView",
            "align_content": null,
            "align_items": null,
            "align_self": null,
            "border": null,
            "bottom": null,
            "display": null,
            "flex": null,
            "flex_flow": null,
            "grid_area": null,
            "grid_auto_columns": null,
            "grid_auto_flow": null,
            "grid_auto_rows": null,
            "grid_column": null,
            "grid_gap": null,
            "grid_row": null,
            "grid_template_areas": null,
            "grid_template_columns": null,
            "grid_template_rows": null,
            "height": null,
            "justify_content": null,
            "justify_items": null,
            "left": null,
            "margin": null,
            "max_height": null,
            "max_width": null,
            "min_height": null,
            "min_width": null,
            "object_fit": null,
            "object_position": null,
            "order": null,
            "overflow": null,
            "overflow_x": null,
            "overflow_y": null,
            "padding": null,
            "right": null,
            "top": null,
            "visibility": null,
            "width": null
          }
        },
        "99d9f12e88214da4b1eb9ba725cef09c": {
          "model_module": "@jupyter-widgets/base",
          "model_name": "LayoutModel",
          "model_module_version": "1.2.0",
          "state": {
            "_model_module": "@jupyter-widgets/base",
            "_model_module_version": "1.2.0",
            "_model_name": "LayoutModel",
            "_view_count": null,
            "_view_module": "@jupyter-widgets/base",
            "_view_module_version": "1.2.0",
            "_view_name": "LayoutView",
            "align_content": null,
            "align_items": null,
            "align_self": null,
            "border": null,
            "bottom": null,
            "display": null,
            "flex": null,
            "flex_flow": null,
            "grid_area": null,
            "grid_auto_columns": null,
            "grid_auto_flow": null,
            "grid_auto_rows": null,
            "grid_column": null,
            "grid_gap": null,
            "grid_row": null,
            "grid_template_areas": null,
            "grid_template_columns": null,
            "grid_template_rows": null,
            "height": null,
            "justify_content": null,
            "justify_items": null,
            "left": null,
            "margin": null,
            "max_height": null,
            "max_width": null,
            "min_height": null,
            "min_width": null,
            "object_fit": null,
            "object_position": null,
            "order": null,
            "overflow": null,
            "overflow_x": null,
            "overflow_y": null,
            "padding": null,
            "right": null,
            "top": null,
            "visibility": null,
            "width": null
          }
        },
        "e1c5a1ed164746049f62f888e8b69ba8": {
          "model_module": "@jupyter-widgets/controls",
          "model_name": "DescriptionStyleModel",
          "model_module_version": "1.5.0",
          "state": {
            "_model_module": "@jupyter-widgets/controls",
            "_model_module_version": "1.5.0",
            "_model_name": "DescriptionStyleModel",
            "_view_count": null,
            "_view_module": "@jupyter-widgets/base",
            "_view_module_version": "1.2.0",
            "_view_name": "StyleView",
            "description_width": ""
          }
        },
        "e7724585075844a39383b56a119dbffb": {
          "model_module": "@jupyter-widgets/base",
          "model_name": "LayoutModel",
          "model_module_version": "1.2.0",
          "state": {
            "_model_module": "@jupyter-widgets/base",
            "_model_module_version": "1.2.0",
            "_model_name": "LayoutModel",
            "_view_count": null,
            "_view_module": "@jupyter-widgets/base",
            "_view_module_version": "1.2.0",
            "_view_name": "LayoutView",
            "align_content": null,
            "align_items": null,
            "align_self": null,
            "border": null,
            "bottom": null,
            "display": null,
            "flex": null,
            "flex_flow": null,
            "grid_area": null,
            "grid_auto_columns": null,
            "grid_auto_flow": null,
            "grid_auto_rows": null,
            "grid_column": null,
            "grid_gap": null,
            "grid_row": null,
            "grid_template_areas": null,
            "grid_template_columns": null,
            "grid_template_rows": null,
            "height": null,
            "justify_content": null,
            "justify_items": null,
            "left": null,
            "margin": null,
            "max_height": null,
            "max_width": null,
            "min_height": null,
            "min_width": null,
            "object_fit": null,
            "object_position": null,
            "order": null,
            "overflow": null,
            "overflow_x": null,
            "overflow_y": null,
            "padding": null,
            "right": null,
            "top": null,
            "visibility": null,
            "width": null
          }
        },
        "3a066f51e33447609eaf6d127e9a0e3f": {
          "model_module": "@jupyter-widgets/controls",
          "model_name": "ProgressStyleModel",
          "model_module_version": "1.5.0",
          "state": {
            "_model_module": "@jupyter-widgets/controls",
            "_model_module_version": "1.5.0",
            "_model_name": "ProgressStyleModel",
            "_view_count": null,
            "_view_module": "@jupyter-widgets/base",
            "_view_module_version": "1.2.0",
            "_view_name": "StyleView",
            "bar_color": null,
            "description_width": ""
          }
        },
        "147cc55c22c64279af01f06be7489be2": {
          "model_module": "@jupyter-widgets/base",
          "model_name": "LayoutModel",
          "model_module_version": "1.2.0",
          "state": {
            "_model_module": "@jupyter-widgets/base",
            "_model_module_version": "1.2.0",
            "_model_name": "LayoutModel",
            "_view_count": null,
            "_view_module": "@jupyter-widgets/base",
            "_view_module_version": "1.2.0",
            "_view_name": "LayoutView",
            "align_content": null,
            "align_items": null,
            "align_self": null,
            "border": null,
            "bottom": null,
            "display": null,
            "flex": null,
            "flex_flow": null,
            "grid_area": null,
            "grid_auto_columns": null,
            "grid_auto_flow": null,
            "grid_auto_rows": null,
            "grid_column": null,
            "grid_gap": null,
            "grid_row": null,
            "grid_template_areas": null,
            "grid_template_columns": null,
            "grid_template_rows": null,
            "height": null,
            "justify_content": null,
            "justify_items": null,
            "left": null,
            "margin": null,
            "max_height": null,
            "max_width": null,
            "min_height": null,
            "min_width": null,
            "object_fit": null,
            "object_position": null,
            "order": null,
            "overflow": null,
            "overflow_x": null,
            "overflow_y": null,
            "padding": null,
            "right": null,
            "top": null,
            "visibility": null,
            "width": null
          }
        },
        "976a0492c9cb4ff89a88869f98ff3fa8": {
          "model_module": "@jupyter-widgets/controls",
          "model_name": "DescriptionStyleModel",
          "model_module_version": "1.5.0",
          "state": {
            "_model_module": "@jupyter-widgets/controls",
            "_model_module_version": "1.5.0",
            "_model_name": "DescriptionStyleModel",
            "_view_count": null,
            "_view_module": "@jupyter-widgets/base",
            "_view_module_version": "1.2.0",
            "_view_name": "StyleView",
            "description_width": ""
          }
        }
      }
    }
  },
  "cells": [
    {
      "cell_type": "code",
      "execution_count": 1,
      "metadata": {
        "id": "2awfauYNfSSL"
      },
      "outputs": [],
      "source": [
        "import numpy as np\n",
        "import matplotlib.pyplot as plt\n",
        "import numpy.linalg as nlg\n",
        "from tqdm.auto import tqdm"
      ]
    },
    {
      "cell_type": "code",
      "source": [
        "def generate_ginue_matrix(ms):\n",
        "  A = np.random.normal(mu, sigma, size = (ms, ms)) + 1j * np.random.normal(mu, sigma, size = (ms, ms))\n",
        "  return A\n",
        "\n",
        "def generate_ginueH_matrix(ms):\n",
        "  A = np.random.normal(mu, sigma, size = (ms, ms)) + 1j * np.random.normal(mu, sigma, size = (ms, ms))\n",
        "  Aconj = np.conjugate(A) #conjugate\n",
        "  Adag = np.transpose(Aconj) # transpose = dagger\n",
        "  HS = np.matmul(A,Adag)  #singular value hamiltonian, hermitized hamiltonian\n",
        "  return HS\n",
        "###########################################################################################################\n",
        "def generate_ginoe_matrix(ms):\n",
        "  A = np.random.normal(mu, sigma, size = (ms, ms))\n",
        "  return A\n",
        "\n",
        "def generate_ginoeH_matrix(ms):\n",
        "  A = np.random.normal(mu, sigma, size = (ms, ms))\n",
        "  Aconj = np.conjugate(A) #conjugate\n",
        "  Adag = np.transpose(Aconj) # transpose = dagger\n",
        "  HS = np.matmul(A,Adag)  #singular value hamiltonian, hermitized hamiltonian\n",
        "  return HS\n",
        "###########################################################################################################\n",
        "def compute_eigenvalues(matrix):\n",
        "  return np.linalg.eigvals(matrix)"
      ],
      "metadata": {
        "id": "oSTPS8BvfnTP"
      },
      "execution_count": 2,
      "outputs": []
    },
    {
      "cell_type": "code",
      "source": [
        "spacing_ratios = []\n",
        "min_spacing_ratios = []\n",
        "# Parameters\n",
        "matrix_size = 100  # Size of the GOE matrix\n",
        "ens = 1000  # Number of matrices for ensemble averaging\n",
        "mu, sigma = 0, 1/np.sqrt(2) # mean and standard deviation\n",
        "# s = np.random.normal(mu, sigma, 1000)\n",
        "\n",
        "\n",
        "for _ in tqdm(range(ens)):\n",
        "  ginue_HSmatrix = generate_ginueH_matrix(matrix_size)\n",
        "  seigsGinueH = np.sort(compute_eigenvalues(ginue_HSmatrix)) #sorted eigenvalues of GinUE-hermitized matrix\n",
        "  for j in range(len(seigsGinueH)-2):\n",
        "    sratio = (seigsGinueH[j+2]-seigsGinueH[j+1])/(seigsGinueH[j+1]-seigsGinueH[j]) # the open ratio definition\n",
        "    spacing_ratios.append(sratio)"
      ],
      "metadata": {
        "colab": {
          "base_uri": "https://localhost:8080/",
          "height": 49,
          "referenced_widgets": [
            "fe6e542ada124e8eb6eb77b340cf0fed",
            "ee4776e1f5d74f099aeabc7d87bd61eb",
            "a1cf0ed28beb484a9ce6c3cc20e4150f",
            "226449d141a34f05982951aff8306c50",
            "187e06c036b349d6977bfa8fdfef3f80",
            "d5b560efb62247368ae60711da27ca4c",
            "febb308f8cfc4c78b116fbbaddaa8bd1",
            "a85fe2d526fa4531a75776a8b12693e9",
            "3f22e542c3c24949a4e41945922a96ca",
            "af3c3892a59548569c989d9c9f8bfb99",
            "71c5426966c64030ba24dc8d29836b48"
          ]
        },
        "id": "Id2-1rqngAmt",
        "outputId": "b79a02c2-5572-4677-bd3f-69450c65b1c8"
      },
      "execution_count": 22,
      "outputs": [
        {
          "output_type": "display_data",
          "data": {
            "text/plain": [
              "  0%|          | 0/1000 [00:00<?, ?it/s]"
            ],
            "application/vnd.jupyter.widget-view+json": {
              "version_major": 2,
              "version_minor": 0,
              "model_id": "fe6e542ada124e8eb6eb77b340cf0fed"
            }
          },
          "metadata": {}
        }
      ]
    },
    {
      "cell_type": "code",
      "source": [
        "e1 = np.array(spacing_ratios).flatten()\n",
        "#e2 = np.array(singevall).flatten()"
      ],
      "metadata": {
        "id": "xq3cB51Znt3T"
      },
      "execution_count": 16,
      "outputs": []
    },
    {
      "cell_type": "code",
      "source": [
        "##############Formulas of spacing ratios###################################\n",
        "x = np.linspace(0, 10, 1000)\n",
        "prgoe = 27*x*(x+1)/(8*(x** 2 + x + 1)**(5/2))\n",
        "prgue = 81*np.sqrt(3)*x**2*(x+1)**2/(4*np.pi*(x ** 2 + x + 1)**(4))\n",
        "prpoi = 1/(x+1)**2"
      ],
      "metadata": {
        "id": "E9aTNLcPoJi_"
      },
      "execution_count": 65,
      "outputs": []
    },
    {
      "cell_type": "code",
      "source": [
        "plt.hist(e1.real,range = [0,8],  bins=60,density=True, alpha=0.3, color='blue')\n",
        "#plt.hist(es,range = [0,8],  bins=40,density=True, alpha=0.3, color='orange')\n",
        "plt.plot(x,prgoe,alpha=0.8, color='black')\n",
        "plt.plot(x,prgue,alpha=0.8, color='red')\n",
        "plt.plot(x,prpoi,alpha=0.8, color='blue')\n",
        "plt.xlabel('r', fontsize = 18)\n",
        "plt.ylabel('P(r)', fontsize = 16)\n",
        "plt.title('Histogram of Spacing Ratios of Eigenvalues')\n",
        "# Function add a legend\n",
        "plt.legend([\"GOE\", \"GUE\", \"Poisson\"], loc =\"upper right\", fontsize = 12)\n",
        "plt.grid(False)"
      ],
      "metadata": {
        "colab": {
          "base_uri": "https://localhost:8080/",
          "height": 482
        },
        "id": "7Y7eW8rqoSHk",
        "outputId": "9625bff1-ea9d-4599-aefb-cb7b1ab160f7"
      },
      "execution_count": 17,
      "outputs": [
        {
          "output_type": "display_data",
          "data": {
            "text/plain": [
              "<Figure size 640x480 with 1 Axes>"
            ],
            "image/png": "[encoded data removed]"
          },
          "metadata": {}
        }
      ]
    },
    {
      "cell_type": "code",
      "source": [
        "############# \\tilde {r} ratio of singular values of GinUE matrices ###################\n",
        "\n",
        "n = 100\n",
        "Sprd = []\n",
        "\n",
        "for i in tqdm(range(5000)):  # Python indexing starts at 0, and the upper limit is exclusive\n",
        "    # Generate a complex Hermitian matrix H0\n",
        "    H0 = np.random.normal(0, 1/np.sqrt(2), (n, n)) + 1j * np.random.normal(0, 1/np.sqrt(2), (n, n))\n",
        "\n",
        "    # Compute the square root of the eigenvalues of H0 . H0† (H0 dot its conjugate transpose)\n",
        "    ev = np.sqrt(nlg.eigvals(H0 @ np.conjugate(H0.T))) #singular values of the GinUE matrix\n",
        "\n",
        "    # Sort the eigenvalues\n",
        "    sev = np.sort(ev)\n",
        "\n",
        "    # Calculate the ratio of successive gaps\n",
        "    spr = [(sev[j + 1] - sev[j]) / (sev[j] - sev[j - 1]) for j in range(1, n - 2)]\n",
        "\n",
        "    # Calculate the minimum ratio, considering its reciprocal as well\n",
        "    rtil = [min(ratio, 1/ratio) for ratio in spr] #general definition of ratio given by Oganesyan and Huse\n",
        "\n",
        "    # Append the minimum ratio to Sprd\n",
        "    Sprd.append(rtil)"
      ],
      "metadata": {
        "colab": {
          "base_uri": "https://localhost:8080/",
          "height": 49,
          "referenced_widgets": [
            "c2f96e88b8894533a13a63283d9d154a",
            "eea5fe42069e410ba4b908c4fc9cb93d",
            "677fe71322a844faa3e8abfacf0388eb",
            "5ce5ccf13bb0418e8f2db8ac7cf22512",
            "5bd4e692b7b246b6956f8d17a2078310",
            "62950ab5669c43f8be828cf16d72d454",
            "c9c090d396a940b99be449446febb7f2",
            "bb3c4dc0890d44f9a46f1df218a9dbf9",
            "194b08465e2a4671880ba0652ca66b9d",
            "c2b30c4e4aad412aa94b31e54382a00d",
            "6b477ccff62b46c8916b22942fd20223"
          ]
        },
        "id": "xTLfyuzjobrC",
        "outputId": "04cfa8ef-c201-4ee5-94f6-30cf66492996"
      },
      "execution_count": 49,
      "outputs": [
        {
          "output_type": "display_data",
          "data": {
            "text/plain": [
              "  0%|          | 0/5000 [00:00<?, ?it/s]"
            ],
            "application/vnd.jupyter.widget-view+json": {
              "version_major": 2,
              "version_minor": 0,
              "model_id": "c2f96e88b8894533a13a63283d9d154a"
            }
          },
          "metadata": {}
        }
      ]
    },
    {
      "cell_type": "code",
      "source": [
        "np.real(Sprd)"
      ],
      "metadata": {
        "colab": {
          "base_uri": "https://localhost:8080/"
        },
        "id": "4S3LfeHwEOEN",
        "outputId": "eda9a46d-0b4d-462b-8aa9-cfcfa61d20b8"
      },
      "execution_count": 50,
      "outputs": [
        {
          "output_type": "execute_result",
          "data": {
            "text/plain": [
              "array([[0.57989861, 0.3341418 , 0.40652363, ..., 0.49601943, 0.55019571,\n",
              "        0.75544787],\n",
              "       [0.43942779, 0.76416357, 0.40222854, ..., 0.89193965, 0.99031142,\n",
              "        0.51547011],\n",
              "       [0.69460785, 0.64254803, 0.99797167, ..., 0.74157596, 0.78691805,\n",
              "        0.40226833],\n",
              "       ...,\n",
              "       [0.50955817, 0.31063475, 0.55828973, ..., 0.54540809, 0.54622981,\n",
              "        0.1852163 ],\n",
              "       [0.97749863, 0.40259805, 0.64384228, ..., 0.49451766, 0.54476996,\n",
              "        0.70495495],\n",
              "       [0.36884416, 0.82195372, 0.3108264 , ..., 0.55078947, 0.59667462,\n",
              "        0.64233258]])"
            ]
          },
          "metadata": {},
          "execution_count": 50
        }
      ]
    },
    {
      "cell_type": "code",
      "source": [
        "e1 = np.array(np.real(Sprd)).flatten()"
      ],
      "metadata": {
        "id": "qEPCYMQmCyOT"
      },
      "execution_count": 51,
      "outputs": []
    },
    {
      "cell_type": "code",
      "source": [
        "plt.hist(np.real(e1),range = [0,1],  bins=50, density=True, alpha=0.3, color='blue')\n",
        "plt.grid(False)"
      ],
      "metadata": {
        "colab": {
          "base_uri": "https://localhost:8080/",
          "height": 430
        },
        "id": "OXqosO-wED2Q",
        "outputId": "2c46b513-9724-4c40-b599-534749ec2dd4"
      },
      "execution_count": 52,
      "outputs": [
        {
          "output_type": "display_data",
          "data": {
            "text/plain": [
              "<Figure size 640x480 with 1 Axes>"
            ],
            "image/png": "[encoded data removed]"
          },
          "metadata": {}
        }
      ]
    },
    {
      "cell_type": "code",
      "source": [
        "############# \\tilde {r} ratio of singular values of GinOE matrices ###################\n",
        "\n",
        "n = 100\n",
        "Sprd = []\n",
        "\n",
        "for i in tqdm(range(5000)):  # Python indexing starts at 0, and the upper limit is exclusive\n",
        "    # Generate a complex Hermitian matrix H0\n",
        "    H0 = np.random.normal(0, 1/np.sqrt(2), (n, n))\n",
        "\n",
        "    # Compute the square root of the eigenvalues of H0 . H0† (H0 dot its conjugate transpose)\n",
        "    ev = np.sqrt(nlg.eigvals(H0 @ np.conjugate(H0.T))) #singular values of the GinUE matrix\n",
        "\n",
        "    # Sort the eigenvalues\n",
        "    sev = np.sort(ev)\n",
        "\n",
        "    # Calculate the ratio of successive gaps\n",
        "    spr = [(sev[j + 1] - sev[j]) / (sev[j] - sev[j - 1]) for j in range(1, n - 2)]\n",
        "\n",
        "    # Calculate the minimum ratio, considering its reciprocal as well\n",
        "    rtil = [min(ratio, 1/ratio) for ratio in spr] #general definition of ratio given by Oganesyan and Huse\n",
        "\n",
        "    # Append the minimum ratio to Sprd\n",
        "    Sprd.append(rtil)"
      ],
      "metadata": {
        "colab": {
          "base_uri": "https://localhost:8080/",
          "height": 49,
          "referenced_widgets": [
            "eef735dceb09494eb834a2d9ddcac850",
            "ae5876ed48c34435a9b0c14caca01458",
            "30022c81ad6f42aeba6baa0b7aa1fd51",
            "51c8de9cdf7d42f188342a961fe4a888",
            "d94fe94128c64e929e7126acdf08d8a1",
            "f389177841884f29a0856055ae935535",
            "8bf0b9f42729432dafdea243206b3b98",
            "7caccd2c0b56495f817f7571f68396e9",
            "5b73c82d03a14a7ebf3ea14d036ce4b5",
            "31fe4521d69b446885614596482edf83",
            "a6841be546124559944e8be7ce0580d4"
          ]
        },
        "id": "HlKdv0AREKv7",
        "outputId": "47bc2b9d-b446-43a7-d7a4-1977f08c09ce"
      },
      "execution_count": 53,
      "outputs": [
        {
          "output_type": "display_data",
          "data": {
            "text/plain": [
              "  0%|          | 0/5000 [00:00<?, ?it/s]"
            ],
            "application/vnd.jupyter.widget-view+json": {
              "version_major": 2,
              "version_minor": 0,
              "model_id": "eef735dceb09494eb834a2d9ddcac850"
            }
          },
          "metadata": {}
        }
      ]
    },
    {
      "cell_type": "code",
      "source": [
        "e2 = np.array(np.real(Sprd)).flatten()"
      ],
      "metadata": {
        "id": "8vU3QdtwHv_5"
      },
      "execution_count": 54,
      "outputs": []
    },
    {
      "cell_type": "code",
      "source": [
        "plt.hist(e2,range = [0,],  bins=50, density=True, alpha=0.3, color='blue')\n",
        "plt.grid(False)"
      ],
      "metadata": {
        "colab": {
          "base_uri": "https://localhost:8080/",
          "height": 430
        },
        "id": "cj73rhu0IB-n",
        "outputId": "6e9901b0-8d01-4fae-e1c0-901f332df754"
      },
      "execution_count": 58,
      "outputs": [
        {
          "output_type": "display_data",
          "data": {
            "text/plain": [
              "<Figure size 640x480 with 1 Axes>"
            ],
            "image/png": "[encoded data removed]"
          },
          "metadata": {}
        }
      ]
    },
    {
      "cell_type": "code",
      "source": [
        "# @title GinOE-GinUE crossover"
      ],
      "metadata": {
        "id": "trM34GV3X4C_"
      },
      "execution_count": 61,
      "outputs": []
    },
    {
      "cell_type": "code",
      "source": [
        "n = 100\n",
        "lmbda = 0.07\n",
        "Sprd = []\n",
        "Sprall = []\n",
        "\n",
        "for i in tqdm(range(1000)):  # Python indexing starts at 0, and the upper limit is exclusive\n",
        "    # Generate a complex Hermitian matrix H0\n",
        "    Hginoe = np.random.normal(0, 1/np.sqrt(2), (n, n))\n",
        "    Hginue = np.random.normal(0, 1/np.sqrt(2), (n, n)) + 1j * np.random.normal(0, 1/np.sqrt(2), (n, n))\n",
        "\n",
        "    # crossover pandey Mehta Hamiltonian\n",
        "    H = (1/np.sqrt(1 + lmbda**2)) * Hginoe + (lmbda/np.sqrt(1+lmbda**2)) * Hginue\n",
        "\n",
        "    # Compute the square root of the eigenvalues of H0 . H0† (H0 dot its conjugate transpose)\n",
        "    ev = np.sqrt(nlg.eigvals(H @ np.conjugate(H.T))) #singular values of the GinUE matrix\n",
        "\n",
        "    # Sort the eigenvalues\n",
        "    sev = np.sort(ev)\n",
        "\n",
        "    # Calculate the ratio of successive gaps\n",
        "    spr = [(sev[j + 1] - sev[j]) / (sev[j] - sev[j - 1]) for j in range(1, n - 2)]\n",
        "\n",
        "    Sprall.append(spr)\n",
        "\n",
        "    # Calculate the minimum ratio, considering its reciprocal as well\n",
        "    rtil = [min(ratio, 1/ratio) for ratio in spr] #general definition of ratio given by Oganesyan and Huse\n",
        "\n",
        "    # Append the minimum ratio to Sprd\n",
        "    Sprd.append(rtil)"
      ],
      "metadata": {
        "colab": {
          "base_uri": "https://localhost:8080/",
          "height": 49,
          "referenced_widgets": [
            "60624ce9cd6540459902fa52b98f1e96",
            "1f9bd1eac57e47ae8b58f1d4c22c50f5",
            "c1b507e7c1884b9ea0864a1061df7db0",
            "64f393cc3de84e6e9da0242fbd6ea78a",
            "de18f5fd9da349fbb55e2dce9e61b8f9",
            "99d9f12e88214da4b1eb9ba725cef09c",
            "e1c5a1ed164746049f62f888e8b69ba8",
            "e7724585075844a39383b56a119dbffb",
            "3a066f51e33447609eaf6d127e9a0e3f",
            "147cc55c22c64279af01f06be7489be2",
            "976a0492c9cb4ff89a88869f98ff3fa8"
          ]
        },
        "id": "Au30EwFQX7RV",
        "outputId": "11a427af-577b-451b-8d8c-0a67b0522c5e"
      },
      "execution_count": 75,
      "outputs": [
        {
          "output_type": "display_data",
          "data": {
            "text/plain": [
              "  0%|          | 0/1000 [00:00<?, ?it/s]"
            ],
            "application/vnd.jupyter.widget-view+json": {
              "version_major": 2,
              "version_minor": 0,
              "model_id": "60624ce9cd6540459902fa52b98f1e96"
            }
          },
          "metadata": {}
        }
      ]
    },
    {
      "cell_type": "code",
      "source": [
        "e3 = np.array(Sprall).flatten()\n",
        "e4 = np.array(Sprd).flatten()"
      ],
      "metadata": {
        "id": "lTfB020vZ1YW"
      },
      "execution_count": 76,
      "outputs": []
    },
    {
      "cell_type": "code",
      "source": [
        "# @title lmbda = 0.0, GOE statistics matches with the ratio distribution of the singular values of GinOE\n"
      ],
      "metadata": {
        "id": "gNZ7LqqtaeoQ"
      },
      "execution_count": 70,
      "outputs": []
    },
    {
      "cell_type": "code",
      "source": [
        "plt.hist(np.real(e3),range = [0,8],  bins=60,density=True, alpha=0.3, color='blue')\n",
        "#plt.hist(es,range = [0,8],  bins=40,density=True, alpha=0.3, color='orange')\n",
        "plt.plot(x,prgoe,alpha=0.8, color='black')\n",
        "plt.plot(x,prgue,alpha=0.8, color='red')\n",
        "plt.plot(x,prpoi,alpha=0.8, color='blue')\n",
        "plt.xlabel('r', fontsize = 18)\n",
        "plt.ylabel('P(r)', fontsize = 16)\n",
        "plt.title('Histogram of Spacing Ratios of Eigenvalues')\n",
        "# Function add a legend\n",
        "plt.legend([\"GOE\", \"GUE\", \"Poisson\"], loc =\"upper right\", fontsize = 12)\n",
        "plt.grid(False)"
      ],
      "metadata": {
        "colab": {
          "base_uri": "https://localhost:8080/",
          "height": 482
        },
        "id": "ZISDBV_yY9_t",
        "outputId": "e908fad2-eebb-4e49-ed8e-576f177566c7"
      },
      "execution_count": 67,
      "outputs": [
        {
          "output_type": "display_data",
          "data": {
            "text/plain": [
              "<Figure size 640x480 with 1 Axes>"
            ],
            "image/png": "[encoded data removed]"
          },
          "metadata": {}
        }
      ]
    },
    {
      "cell_type": "code",
      "source": [
        "plt.hist(np.real(e4),range = [0,1],  bins=60,density=True, alpha=0.3, color='blue')\n",
        "#plt.hist(es,range = [0,8],  bins=40,density=True, alpha=0.3, color='orange')\n",
        "plt.grid(False)"
      ],
      "metadata": {
        "colab": {
          "base_uri": "https://localhost:8080/",
          "height": 430
        },
        "id": "8mi3anDXaK-a",
        "outputId": "0344981f-f1d4-4e7d-c20e-e1554ec9d53f"
      },
      "execution_count": 69,
      "outputs": [
        {
          "output_type": "display_data",
          "data": {
            "text/plain": [
              "<Figure size 640x480 with 1 Axes>"
            ],
            "image/png": "[encoded data removed]"
          },
          "metadata": {}
        }
      ]
    },
    {
      "cell_type": "code",
      "source": [
        "# @title lmbda = 0.03, GOE-GUE intermediate statistics matches with the ratio distribution of the singular values of GinOE\n"
      ],
      "metadata": {
        "id": "zcdDQG-pbFlM"
      },
      "execution_count": null,
      "outputs": []
    },
    {
      "cell_type": "code",
      "source": [
        "plt.hist(np.real(e3),range = [0,8],  bins=60,density=True, alpha=0.3, color='blue')\n",
        "#plt.hist(es,range = [0,8],  bins=40,density=True, alpha=0.3, color='orange')\n",
        "plt.plot(x,prgoe,alpha=0.8, color='black')\n",
        "plt.plot(x,prgue,alpha=0.8, color='red')\n",
        "plt.plot(x,prpoi,alpha=0.8, color='blue')\n",
        "plt.xlabel('r', fontsize = 18)\n",
        "plt.ylabel('P(r)', fontsize = 16)\n",
        "plt.title('Histogram of Spacing Ratios of Eigenvalues')\n",
        "# Function add a legend\n",
        "plt.legend([\"GOE\", \"GUE\", \"Poisson\"], loc =\"upper right\", fontsize = 12)\n",
        "plt.grid(False)"
      ],
      "metadata": {
        "colab": {
          "base_uri": "https://localhost:8080/",
          "height": 482
        },
        "id": "jTBZxQvraXKt",
        "outputId": "73e15286-59fe-4b19-9635-eaea1efefd6b"
      },
      "execution_count": 73,
      "outputs": [
        {
          "output_type": "display_data",
          "data": {
            "text/plain": [
              "<Figure size 640x480 with 1 Axes>"
            ],
            "image/png": "[encoded data removed]"
          },
          "metadata": {}
        }
      ]
    },
    {
      "cell_type": "code",
      "source": [
        "plt.hist(np.real(e4),range = [0,1],  bins=60,density=True, alpha=0.3, color='blue')\n",
        "#plt.hist(es,range = [0,8],  bins=40,density=True, alpha=0.3, color='orange')\n",
        "plt.grid(False)"
      ],
      "metadata": {
        "colab": {
          "base_uri": "https://localhost:8080/",
          "height": 430
        },
        "id": "4qIMXF3Ha_0H",
        "outputId": "4227e40b-ee97-4c34-a955-4c88698e4099"
      },
      "execution_count": 74,
      "outputs": [
        {
          "output_type": "display_data",
          "data": {
            "text/plain": [
              "<Figure size 640x480 with 1 Axes>"
            ],
            "image/png": "[encoded data removed]"
          },
          "metadata": {}
        }
      ]
    },
    {
      "cell_type": "code",
      "source": [
        "plt.hist(np.real(e3),range = [0,8],  bins=60,density=True, alpha=0.3, color='blue')\n",
        "#plt.hist(es,range = [0,8],  bins=40,density=True, alpha=0.3, color='orange')\n",
        "plt.plot(x,prgoe,alpha=0.8, color='black')\n",
        "plt.plot(x,prgue,alpha=0.8, color='red')\n",
        "plt.plot(x,prpoi,alpha=0.8, color='blue')\n",
        "plt.xlabel('r', fontsize = 18)\n",
        "plt.ylabel('P(r)', fontsize = 16)\n",
        "plt.title('Histogram of Spacing Ratios of Eigenvalues')\n",
        "# Function add a legend\n",
        "plt.legend([\"GOE\", \"GUE\", \"Poisson\"], loc =\"upper right\", fontsize = 12)\n",
        "plt.grid(False)"
      ],
      "metadata": {
        "colab": {
          "base_uri": "https://localhost:8080/",
          "height": 482
        },
        "id": "GFp3xIp2bTKC",
        "outputId": "1f944c48-86fa-4f1b-9dce-e1f33f747cf3"
      },
      "execution_count": 77,
      "outputs": [
        {
          "output_type": "display_data",
          "data": {
            "text/plain": [
              "<Figure size 640x480 with 1 Axes>"
            ],
            "image/png": "[encoded data removed]"
          },
          "metadata": {}
        }
      ]
    },
    {
      "cell_type": "code",
      "source": [
        "plt.hist(np.real(e4),range = [0,1],  bins=60,density=True, alpha=0.3, color='blue')\n",
        "#plt.hist(es,range = [0,8],  bins=40,density=True, alpha=0.3, color='orange')\n",
        "plt.grid(False)"
      ],
      "metadata": {
        "colab": {
          "base_uri": "https://localhost:8080/",
          "height": 430
        },
        "id": "A5C0iTp_bhdE",
        "outputId": "0ef094c7-73aa-4f87-c203-35d943d44d9b"
      },
      "execution_count": 78,
      "outputs": [
        {
          "output_type": "display_data",
          "data": {
            "text/plain": [
              "<Figure size 640x480 with 1 Axes>"
            ],
            "image/png": "[encoded data removed]"
          },
          "metadata": {}
        }
      ]
    },
    {
      "cell_type": "code",
      "source": [],
      "metadata": {
        "id": "vfV9hmpXc_77"
      },
      "execution_count": null,
      "outputs": []
    }
  ]
}