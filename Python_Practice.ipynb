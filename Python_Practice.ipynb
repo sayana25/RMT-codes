{
  "nbformat": 4,
  "nbformat_minor": 0,
  "metadata": {
    "colab": {
      "provenance": [],
      "authorship_tag": "ABX9TyPymyYb1Eff9v/C803fV3CL",
      "include_colab_link": true
    },
    "kernelspec": {
      "name": "python3",
      "display_name": "Python 3"
    },
    "language_info": {
      "name": "python"
    }
  },
  "cells": [
    {
      "cell_type": "markdown",
      "metadata": {
        "id": "view-in-github",
        "colab_type": "text"
      },
      "source": [
        "<a href=\"https://colab.research.google.com/github/sayana25/RMT-codes/blob/main/Python_Practice.ipynb\" target=\"_parent\"><img src=\"https://colab.research.google.com/assets/colab-badge.svg\" alt=\"Open In Colab\"/></a>"
      ]
    },
    {
      "cell_type": "markdown",
      "source": [
        "First Unique element, Hashmap, frequency count"
      ],
      "metadata": {
        "id": "mEwxwXhzrriH"
      }
    },
    {
      "cell_type": "code",
      "execution_count": 1,
      "metadata": {
        "id": "mnbBgwDHrDz9"
      },
      "outputs": [],
      "source": [
        "from collections import Counter\n",
        "\n",
        "def first_unique(s):\n",
        "    # Step 1: Count how many times each character appears\n",
        "    counts = Counter(s)\n",
        "\n",
        "    # Step 2: Go through the string in order\n",
        "    for char in s:\n",
        "        if counts[char] == 1:\n",
        "            return char  # Found the first unique character\n",
        "\n",
        "    return None  # If no unique character found"
      ]
    },
    {
      "cell_type": "code",
      "source": [
        "print(first_unique(\"aabbccd\"))\n",
        "print(first_unique(\"aabbcc\"))"
      ],
      "metadata": {
        "colab": {
          "base_uri": "https://localhost:8080/"
        },
        "id": "L5J7SEt_rL6c",
        "outputId": "38916f28-b206-4da7-df60-dd529f713f71"
      },
      "execution_count": 2,
      "outputs": [
        {
          "output_type": "stream",
          "name": "stdout",
          "text": [
            "d\n",
            "None\n"
          ]
        }
      ]
    },
    {
      "cell_type": "code",
      "source": [
        "#same code without importing anything\n",
        "\n",
        "def first_unique(s):\n",
        "    # Step 1: Count characters manually\n",
        "    counts = {}\n",
        "    for char in s:\n",
        "        if char in counts:\n",
        "            counts[char] += 1\n",
        "        else:\n",
        "            counts[char] = 1\n",
        "\n",
        "    # Step 2: Find the first char that appears only once\n",
        "    for char in s:\n",
        "        if counts[char] == 1:\n",
        "            return char\n",
        "\n",
        "    return None\n"
      ],
      "metadata": {
        "id": "YER6j94ErTb3"
      },
      "execution_count": 3,
      "outputs": []
    },
    {
      "cell_type": "code",
      "source": [
        "print(first_unique(\"aabbccd\"))\n",
        "print(first_unique(\"swiss\"))\n",
        "print(first_unique(\"aabbcc\"))"
      ],
      "metadata": {
        "colab": {
          "base_uri": "https://localhost:8080/"
        },
        "id": "CYnqPa91rxWP",
        "outputId": "720cac21-7c31-4bca-c68f-d072cbd1d8a3"
      },
      "execution_count": 4,
      "outputs": [
        {
          "output_type": "stream",
          "name": "stdout",
          "text": [
            "d\n",
            "w\n",
            "None\n"
          ]
        }
      ]
    },
    {
      "cell_type": "markdown",
      "source": [
        "Write a function that returns a list of characters that appear only once in a given string."
      ],
      "metadata": {
        "id": "nkDE1c49scTv"
      }
    },
    {
      "cell_type": "code",
      "source": [
        "from collections import Counter\n",
        "\n",
        "def all_unique(s):\n",
        "    counts = Counter(s)\n",
        "    return [char for char in s if counts[char] == 1]"
      ],
      "metadata": {
        "id": "ux8KS8Vyr2et"
      },
      "execution_count": 5,
      "outputs": []
    },
    {
      "cell_type": "code",
      "source": [
        "print(all_unique(\"aaxbccd\"))"
      ],
      "metadata": {
        "colab": {
          "base_uri": "https://localhost:8080/"
        },
        "id": "fp2oNDlps-lt",
        "outputId": "29006194-f40a-4f68-d826-4f8356f2a313"
      },
      "execution_count": 6,
      "outputs": [
        {
          "output_type": "stream",
          "name": "stdout",
          "text": [
            "['x', 'b', 'd']\n"
          ]
        }
      ]
    },
    {
      "cell_type": "code",
      "source": [
        "def all_unique(s):\n",
        "    counts = {}\n",
        "\n",
        "    # Count occurrences\n",
        "    for char in s:\n",
        "        if char in counts:\n",
        "            counts[char] += 1\n",
        "        else:\n",
        "            counts[char] = 1\n",
        "\n",
        "    # Collect unique characters\n",
        "    result = []\n",
        "    for char in s:\n",
        "        if counts[char] == 1:\n",
        "            result.append(char)\n",
        "\n",
        "    return result"
      ],
      "metadata": {
        "id": "UvaV5mg0tDyy"
      },
      "execution_count": 7,
      "outputs": []
    },
    {
      "cell_type": "markdown",
      "source": [
        "Write a function that returns the reverse of a given string, without using slicing or built-in functions like .reverse()"
      ],
      "metadata": {
        "id": "vhx-HiFiti8V"
      }
    },
    {
      "cell_type": "markdown",
      "source": [
        "Constraints:\n",
        "Don’t use [::-1], Don’t use reversed() or .reverse(), Use a loop or other core logic\n",
        "You want to:\n",
        "\n",
        "Loop through the string,\n",
        "\n",
        "Use a counter-like mechanism to build the reversed string character by character\n",
        "\n",
        "\n",
        "But remember: a Counter or counting dictionary is used to store frequencies (how many times a char appears), not their positions or order.\n",
        "\n",
        "\n",
        "So for reversing, instead of counting characters, what we need is to visit the characters in reverse order."
      ],
      "metadata": {
        "id": "ksn1Ii4Tt7q2"
      }
    },
    {
      "cell_type": "code",
      "source": [
        "def reverse_string(s):\n",
        "    result = \"\"\n",
        "    index = len(s) - 1  # Start from last character\n",
        "\n",
        "    while index >= 0:\n",
        "        result += s[index]  # Append character in reverse order\n",
        "        index -= 1  # Move to the previous character\n",
        "\n",
        "    return result"
      ],
      "metadata": {
        "id": "nQRkAWNOtLEZ"
      },
      "execution_count": 8,
      "outputs": []
    },
    {
      "cell_type": "code",
      "source": [
        "print(reverse_string(\"hello\"))      # 'olleh'\n",
        "print(reverse_string(\"racecar\"))    # 'racecar'\n",
        "print(reverse_string(\"abcde\"))      # 'edcba'"
      ],
      "metadata": {
        "colab": {
          "base_uri": "https://localhost:8080/"
        },
        "id": "uahlb1GrwYQg",
        "outputId": "02822312-d3f2-406b-ccd7-1fa1527bdf5e"
      },
      "execution_count": 9,
      "outputs": [
        {
          "output_type": "stream",
          "name": "stdout",
          "text": [
            "olleh\n",
            "racecar\n",
            "edcba\n"
          ]
        }
      ]
    },
    {
      "cell_type": "markdown",
      "source": [
        "Pythonic loop with for + index (cleaner, more compact)\n"
      ],
      "metadata": {
        "id": "64rXG0rYy_He"
      }
    },
    {
      "cell_type": "code",
      "source": [
        "def reverse_string(s):\n",
        "    result = \"\"\n",
        "    for i in range(len(s)-1, -1, -1):\n",
        "        result += s[i]\n",
        "    return result\n",
        "\n",
        "def reverse_string_basic(s):\n",
        "    return s[::-1]"
      ],
      "metadata": {
        "id": "W-B27wRGwcbv"
      },
      "execution_count": 11,
      "outputs": []
    },
    {
      "cell_type": "code",
      "source": [
        "reverse_string_basic(\"Ayana\")"
      ],
      "metadata": {
        "colab": {
          "base_uri": "https://localhost:8080/",
          "height": 36
        },
        "id": "PR4Wp8VVzBjX",
        "outputId": "bc183b77-6ed0-461e-fc9e-b1e255102f62"
      },
      "execution_count": 12,
      "outputs": [
        {
          "output_type": "execute_result",
          "data": {
            "text/plain": [
              "'anayA'"
            ],
            "application/vnd.google.colaboratory.intrinsic+json": {
              "type": "string"
            }
          },
          "metadata": {},
          "execution_count": 12
        }
      ]
    },
    {
      "cell_type": "markdown",
      "source": [
        "Write a function is_palindrome(s) that returns True if the input string is a palindrome, and False otherwise.\n",
        "\n",
        "A palindrome is a word or phrase that reads the same forward and backward.  \n",
        "We need to reverse the string first, match it with old one and if/when they match, we select."
      ],
      "metadata": {
        "id": "P8N8Swoy0xeS"
      }
    },
    {
      "cell_type": "code",
      "source": [
        "def is_palindrome(s):\n",
        "    reversed_s = ''\n",
        "    for i in range(len(s)-1, -1, -1):\n",
        "        reversed_s += s[i]\n",
        "    return s == reversed_s"
      ],
      "metadata": {
        "id": "ykjLyg_OzPJl"
      },
      "execution_count": 13,
      "outputs": []
    },
    {
      "cell_type": "code",
      "source": [
        "def is_palindrome_advanced(s):\n",
        "    cleaned = ''.join(char.lower() for char in s if char.isalnum())\n",
        "    return cleaned == cleaned[::-1]"
      ],
      "metadata": {
        "id": "aYKgbGMN14YI"
      },
      "execution_count": 14,
      "outputs": []
    },
    {
      "cell_type": "code",
      "source": [
        "print(is_palindrome_advanced(\"A man a plan a canal Panama\"))  # True"
      ],
      "metadata": {
        "colab": {
          "base_uri": "https://localhost:8080/"
        },
        "id": "o9FKoTeV1-Li",
        "outputId": "5c9d85ea-80f1-4a7d-ecc0-15fd4ef7cfbb"
      },
      "execution_count": 15,
      "outputs": [
        {
          "output_type": "stream",
          "name": "stdout",
          "text": [
            "True\n"
          ]
        }
      ]
    },
    {
      "cell_type": "markdown",
      "source": [
        "The No-cloning and No-deleting (time-reversed dual of the no-cloning). Arbitrary unknown quantum states, can neither be created nor deleted."
      ],
      "metadata": {
        "id": "3zPwSYMd8K_E"
      }
    },
    {
      "cell_type": "markdown",
      "source": [
        "Write a function two_sum(nums, target) that finds two numbers in the list nums that add up to target, and returns their indices.\n",
        "two_sum([2, 7, 11, 15], 9) → [0, 1]\n",
        "two_sum([3, 2, 4], 6) → [1, 2]\n",
        "\n",
        "Return the indices of the first valid pair\n",
        "\n",
        "Do it in O(n) time using a hashmap (not nested loops)"
      ],
      "metadata": {
        "id": "2rtpyMBHzz8E"
      }
    },
    {
      "cell_type": "markdown",
      "source": [
        "If bute form, nested loop approach is allowed then, the following code could be used"
      ],
      "metadata": {
        "id": "A_g_u9cF0ACt"
      }
    },
    {
      "cell_type": "code",
      "source": [
        "def two_sum(nums, target):\n",
        "    for i in range(len(nums)):\n",
        "        for j in range(i+1, len(nums)):  # j starts at i+1 to avoid duplicate pairs\n",
        "            c = nums[i] + nums[j]\n",
        "            print(f\"Trying: {nums[i]} + {nums[j]} = {c}\")\n",
        "            if c == target:\n",
        "                return [i, j]\n",
        "\n",
        "#Time complexity is O(n²) — slow for big lists"
      ],
      "metadata": {
        "id": "PlJxibZA2CFT"
      },
      "execution_count": 1,
      "outputs": []
    },
    {
      "cell_type": "code",
      "source": [
        "def two_sum(nums, target):\n",
        "    seen = {}  # key: number, value: index\n",
        "\n",
        "    for i, num in enumerate(nums):\n",
        "        complement = target - num\n",
        "        if complement in seen:\n",
        "            return [seen[complement], i]\n",
        "        seen[num] = i  # Store the number with its index"
      ],
      "metadata": {
        "id": "vfGf7zdKCWQp"
      },
      "execution_count": 1,
      "outputs": []
    },
    {
      "cell_type": "markdown",
      "source": [
        "You're given two sorted lists A and B, and your task is to merge them into a single sorted list."
      ],
      "metadata": {
        "id": "O58ziyjjoFlC"
      }
    },
    {
      "cell_type": "code",
      "source": [
        "def merge_sorted(A, B):\n",
        "    i = j = 0\n",
        "    result = []\n",
        "\n",
        "    while i < len(A) and j < len(B):\n",
        "        # Compare and append the smaller element\n",
        "        if A[i] < B[j]:\n",
        "            result.append(A[i])\n",
        "            i += 1\n",
        "        else:\n",
        "            result.append(B[j])\n",
        "            j += 1\n",
        "\n",
        "    # Append remaining elements\n",
        "    result += A[i:]\n",
        "    result += B[j:]\n",
        "\n",
        "    return result"
      ],
      "metadata": {
        "id": "zqH_7u610JEf"
      },
      "execution_count": 1,
      "outputs": []
    },
    {
      "cell_type": "code",
      "source": [
        "merge_sorted([1, 3, 5], [2, 4, 6])"
      ],
      "metadata": {
        "colab": {
          "base_uri": "https://localhost:8080/"
        },
        "id": "ympLtElroMOd",
        "outputId": "0c28ffa6-7bf5-41b3-bdf3-979c519737aa"
      },
      "execution_count": 3,
      "outputs": [
        {
          "output_type": "execute_result",
          "data": {
            "text/plain": [
              "[1, 2, 3, 4, 5, 6]"
            ]
          },
          "metadata": {},
          "execution_count": 3
        }
      ]
    },
    {
      "cell_type": "code",
      "source": [
        "import heapq\n",
        "\n",
        "def merge_sorted(A, B):\n",
        "    return list(heapq.merge(A, B))"
      ],
      "metadata": {
        "id": "8JJDeepHoOo1"
      },
      "execution_count": 4,
      "outputs": []
    },
    {
      "cell_type": "markdown",
      "source": [
        "Given a list of integers and a window size k, return the maximum sum of any subarray of size k."
      ],
      "metadata": {
        "id": "K_e8xME1_Iq2"
      }
    },
    {
      "cell_type": "code",
      "source": [],
      "metadata": {
        "id": "BhJvY1DKpVrZ"
      },
      "execution_count": null,
      "outputs": []
    }
  ]
}