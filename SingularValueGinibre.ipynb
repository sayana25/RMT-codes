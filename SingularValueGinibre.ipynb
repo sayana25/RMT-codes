{
  "nbformat": 4,
  "nbformat_minor": 0,
  "metadata": {
    "colab": {
      "provenance": []
    },
    "kernelspec": {
      "name": "python3",
      "display_name": "Python 3"
    },
    "language_info": {
      "name": "python"
    },
    "widgets": {
      "application/vnd.jupyter.widget-state+json": {
        "27a13f833d964d54bffb7f9f70b4a75a": {
          "model_module": "@jupyter-widgets/controls",
          "model_name": "HBoxModel",
          "model_module_version": "1.5.0",
          "state": {
            "_dom_classes": [],
            "_model_module": "@jupyter-widgets/controls",
            "_model_module_version": "1.5.0",
            "_model_name": "HBoxModel",
            "_view_count": null,
            "_view_module": "@jupyter-widgets/controls",
            "_view_module_version": "1.5.0",
            "_view_name": "HBoxView",
            "box_style": "",
            "children": [
              "IPY_MODEL_d17292cb200a4fd48cde7bab21dc405a",
              "IPY_MODEL_a3f708b0f30b405ba08c05978ad31668",
              "IPY_MODEL_cceec6da41de45e2961672935d0f316a"
            ],
            "layout": "IPY_MODEL_c4e1b7c59f06463b997211afe1353191"
          }
        },
        "d17292cb200a4fd48cde7bab21dc405a": {
          "model_module": "@jupyter-widgets/controls",
          "model_name": "HTMLModel",
          "model_module_version": "1.5.0",
          "state": {
            "_dom_classes": [],
            "_model_module": "@jupyter-widgets/controls",
            "_model_module_version": "1.5.0",
            "_model_name": "HTMLModel",
            "_view_count": null,
            "_view_module": "@jupyter-widgets/controls",
            "_view_module_version": "1.5.0",
            "_view_name": "HTMLView",
            "description": "",
            "description_tooltip": null,
            "layout": "IPY_MODEL_21e25848e5254ed59ab1946673da31aa",
            "placeholder": "​",
            "style": "IPY_MODEL_d3eb07f99790410ba21ae23ced4c930d",
            "value": "100%"
          }
        },
        "a3f708b0f30b405ba08c05978ad31668": {
          "model_module": "@jupyter-widgets/controls",
          "model_name": "FloatProgressModel",
          "model_module_version": "1.5.0",
          "state": {
            "_dom_classes": [],
            "_model_module": "@jupyter-widgets/controls",
            "_model_module_version": "1.5.0",
            "_model_name": "FloatProgressModel",
            "_view_count": null,
            "_view_module": "@jupyter-widgets/controls",
            "_view_module_version": "1.5.0",
            "_view_name": "ProgressView",
            "bar_style": "success",
            "description": "",
            "description_tooltip": null,
            "layout": "IPY_MODEL_e5de1af949b847539ef55f7cfc002c09",
            "max": 1000,
            "min": 0,
            "orientation": "horizontal",
            "style": "IPY_MODEL_ec9efcc09f264c44b3fc03ca67b5d574",
            "value": 1000
          }
        },
        "cceec6da41de45e2961672935d0f316a": {
          "model_module": "@jupyter-widgets/controls",
          "model_name": "HTMLModel",
          "model_module_version": "1.5.0",
          "state": {
            "_dom_classes": [],
            "_model_module": "@jupyter-widgets/controls",
            "_model_module_version": "1.5.0",
            "_model_name": "HTMLModel",
            "_view_count": null,
            "_view_module": "@jupyter-widgets/controls",
            "_view_module_version": "1.5.0",
            "_view_name": "HTMLView",
            "description": "",
            "description_tooltip": null,
            "layout": "IPY_MODEL_88ab0f3194af49229932a2d4f43a340d",
            "placeholder": "​",
            "style": "IPY_MODEL_376374e73d224d92a8ea8438e5217110",
            "value": " 1000/1000 [00:47&lt;00:00, 23.86it/s]"
          }
        },
        "c4e1b7c59f06463b997211afe1353191": {
          "model_module": "@jupyter-widgets/base",
          "model_name": "LayoutModel",
          "model_module_version": "1.2.0",
          "state": {
            "_model_module": "@jupyter-widgets/base",
            "_model_module_version": "1.2.0",
            "_model_name": "LayoutModel",
            "_view_count": null,
            "_view_module": "@jupyter-widgets/base",
            "_view_module_version": "1.2.0",
            "_view_name": "LayoutView",
            "align_content": null,
            "align_items": null,
            "align_self": null,
            "border": null,
            "bottom": null,
            "display": null,
            "flex": null,
            "flex_flow": null,
            "grid_area": null,
            "grid_auto_columns": null,
            "grid_auto_flow": null,
            "grid_auto_rows": null,
            "grid_column": null,
            "grid_gap": null,
            "grid_row": null,
            "grid_template_areas": null,
            "grid_template_columns": null,
            "grid_template_rows": null,
            "height": null,
            "justify_content": null,
            "justify_items": null,
            "left": null,
            "margin": null,
            "max_height": null,
            "max_width": null,
            "min_height": null,
            "min_width": null,
            "object_fit": null,
            "object_position": null,
            "order": null,
            "overflow": null,
            "overflow_x": null,
            "overflow_y": null,
            "padding": null,
            "right": null,
            "top": null,
            "visibility": null,
            "width": null
          }
        },
        "21e25848e5254ed59ab1946673da31aa": {
          "model_module": "@jupyter-widgets/base",
          "model_name": "LayoutModel",
          "model_module_version": "1.2.0",
          "state": {
            "_model_module": "@jupyter-widgets/base",
            "_model_module_version": "1.2.0",
            "_model_name": "LayoutModel",
            "_view_count": null,
            "_view_module": "@jupyter-widgets/base",
            "_view_module_version": "1.2.0",
            "_view_name": "LayoutView",
            "align_content": null,
            "align_items": null,
            "align_self": null,
            "border": null,
            "bottom": null,
            "display": null,
            "flex": null,
            "flex_flow": null,
            "grid_area": null,
            "grid_auto_columns": null,
            "grid_auto_flow": null,
            "grid_auto_rows": null,
            "grid_column": null,
            "grid_gap": null,
            "grid_row": null,
            "grid_template_areas": null,
            "grid_template_columns": null,
            "grid_template_rows": null,
            "height": null,
            "justify_content": null,
            "justify_items": null,
            "left": null,
            "margin": null,
            "max_height": null,
            "max_width": null,
            "min_height": null,
            "min_width": null,
            "object_fit": null,
            "object_position": null,
            "order": null,
            "overflow": null,
            "overflow_x": null,
            "overflow_y": null,
            "padding": null,
            "right": null,
            "top": null,
            "visibility": null,
            "width": null
          }
        },
        "d3eb07f99790410ba21ae23ced4c930d": {
          "model_module": "@jupyter-widgets/controls",
          "model_name": "DescriptionStyleModel",
          "model_module_version": "1.5.0",
          "state": {
            "_model_module": "@jupyter-widgets/controls",
            "_model_module_version": "1.5.0",
            "_model_name": "DescriptionStyleModel",
            "_view_count": null,
            "_view_module": "@jupyter-widgets/base",
            "_view_module_version": "1.2.0",
            "_view_name": "StyleView",
            "description_width": ""
          }
        },
        "e5de1af949b847539ef55f7cfc002c09": {
          "model_module": "@jupyter-widgets/base",
          "model_name": "LayoutModel",
          "model_module_version": "1.2.0",
          "state": {
            "_model_module": "@jupyter-widgets/base",
            "_model_module_version": "1.2.0",
            "_model_name": "LayoutModel",
            "_view_count": null,
            "_view_module": "@jupyter-widgets/base",
            "_view_module_version": "1.2.0",
            "_view_name": "LayoutView",
            "align_content": null,
            "align_items": null,
            "align_self": null,
            "border": null,
            "bottom": null,
            "display": null,
            "flex": null,
            "flex_flow": null,
            "grid_area": null,
            "grid_auto_columns": null,
            "grid_auto_flow": null,
            "grid_auto_rows": null,
            "grid_column": null,
            "grid_gap": null,
            "grid_row": null,
            "grid_template_areas": null,
            "grid_template_columns": null,
            "grid_template_rows": null,
            "height": null,
            "justify_content": null,
            "justify_items": null,
            "left": null,
            "margin": null,
            "max_height": null,
            "max_width": null,
            "min_height": null,
            "min_width": null,
            "object_fit": null,
            "object_position": null,
            "order": null,
            "overflow": null,
            "overflow_x": null,
            "overflow_y": null,
            "padding": null,
            "right": null,
            "top": null,
            "visibility": null,
            "width": null
          }
        },
        "ec9efcc09f264c44b3fc03ca67b5d574": {
          "model_module": "@jupyter-widgets/controls",
          "model_name": "ProgressStyleModel",
          "model_module_version": "1.5.0",
          "state": {
            "_model_module": "@jupyter-widgets/controls",
            "_model_module_version": "1.5.0",
            "_model_name": "ProgressStyleModel",
            "_view_count": null,
            "_view_module": "@jupyter-widgets/base",
            "_view_module_version": "1.2.0",
            "_view_name": "StyleView",
            "bar_color": null,
            "description_width": ""
          }
        },
        "88ab0f3194af49229932a2d4f43a340d": {
          "model_module": "@jupyter-widgets/base",
          "model_name": "LayoutModel",
          "model_module_version": "1.2.0",
          "state": {
            "_model_module": "@jupyter-widgets/base",
            "_model_module_version": "1.2.0",
            "_model_name": "LayoutModel",
            "_view_count": null,
            "_view_module": "@jupyter-widgets/base",
            "_view_module_version": "1.2.0",
            "_view_name": "LayoutView",
            "align_content": null,
            "align_items": null,
            "align_self": null,
            "border": null,
            "bottom": null,
            "display": null,
            "flex": null,
            "flex_flow": null,
            "grid_area": null,
            "grid_auto_columns": null,
            "grid_auto_flow": null,
            "grid_auto_rows": null,
            "grid_column": null,
            "grid_gap": null,
            "grid_row": null,
            "grid_template_areas": null,
            "grid_template_columns": null,
            "grid_template_rows": null,
            "height": null,
            "justify_content": null,
            "justify_items": null,
            "left": null,
            "margin": null,
            "max_height": null,
            "max_width": null,
            "min_height": null,
            "min_width": null,
            "object_fit": null,
            "object_position": null,
            "order": null,
            "overflow": null,
            "overflow_x": null,
            "overflow_y": null,
            "padding": null,
            "right": null,
            "top": null,
            "visibility": null,
            "width": null
          }
        },
        "376374e73d224d92a8ea8438e5217110": {
          "model_module": "@jupyter-widgets/controls",
          "model_name": "DescriptionStyleModel",
          "model_module_version": "1.5.0",
          "state": {
            "_model_module": "@jupyter-widgets/controls",
            "_model_module_version": "1.5.0",
            "_model_name": "DescriptionStyleModel",
            "_view_count": null,
            "_view_module": "@jupyter-widgets/base",
            "_view_module_version": "1.2.0",
            "_view_name": "StyleView",
            "description_width": ""
          }
        },
        "cb0f2ba59eb743e2bd3104028c0800c6": {
          "model_module": "@jupyter-widgets/controls",
          "model_name": "HBoxModel",
          "model_module_version": "1.5.0",
          "state": {
            "_dom_classes": [],
            "_model_module": "@jupyter-widgets/controls",
            "_model_module_version": "1.5.0",
            "_model_name": "HBoxModel",
            "_view_count": null,
            "_view_module": "@jupyter-widgets/controls",
            "_view_module_version": "1.5.0",
            "_view_name": "HBoxView",
            "box_style": "",
            "children": [
              "IPY_MODEL_08cddcc2ac5740938d246d017cabbf04",
              "IPY_MODEL_60d2109620094c238aa9be696eecc027",
              "IPY_MODEL_06486721a09842ee9839bb6637e0830a"
            ],
            "layout": "IPY_MODEL_8bc0226f93b149afb6218b25256f3b6c"
          }
        },
        "08cddcc2ac5740938d246d017cabbf04": {
          "model_module": "@jupyter-widgets/controls",
          "model_name": "HTMLModel",
          "model_module_version": "1.5.0",
          "state": {
            "_dom_classes": [],
            "_model_module": "@jupyter-widgets/controls",
            "_model_module_version": "1.5.0",
            "_model_name": "HTMLModel",
            "_view_count": null,
            "_view_module": "@jupyter-widgets/controls",
            "_view_module_version": "1.5.0",
            "_view_name": "HTMLView",
            "description": "",
            "description_tooltip": null,
            "layout": "IPY_MODEL_484fa534acb145e18952e0b2fb7b4fac",
            "placeholder": "​",
            "style": "IPY_MODEL_84e9ee3e1462415283e7b2cbf049412f",
            "value": "100%"
          }
        },
        "60d2109620094c238aa9be696eecc027": {
          "model_module": "@jupyter-widgets/controls",
          "model_name": "FloatProgressModel",
          "model_module_version": "1.5.0",
          "state": {
            "_dom_classes": [],
            "_model_module": "@jupyter-widgets/controls",
            "_model_module_version": "1.5.0",
            "_model_name": "FloatProgressModel",
            "_view_count": null,
            "_view_module": "@jupyter-widgets/controls",
            "_view_module_version": "1.5.0",
            "_view_name": "ProgressView",
            "bar_style": "success",
            "description": "",
            "description_tooltip": null,
            "layout": "IPY_MODEL_06342728febd49598e19384f7e245fff",
            "max": 1000,
            "min": 0,
            "orientation": "horizontal",
            "style": "IPY_MODEL_d1431dec124140edb4f2c2a234c015c5",
            "value": 1000
          }
        },
        "06486721a09842ee9839bb6637e0830a": {
          "model_module": "@jupyter-widgets/controls",
          "model_name": "HTMLModel",
          "model_module_version": "1.5.0",
          "state": {
            "_dom_classes": [],
            "_model_module": "@jupyter-widgets/controls",
            "_model_module_version": "1.5.0",
            "_model_name": "HTMLModel",
            "_view_count": null,
            "_view_module": "@jupyter-widgets/controls",
            "_view_module_version": "1.5.0",
            "_view_name": "HTMLView",
            "description": "",
            "description_tooltip": null,
            "layout": "IPY_MODEL_1c3193a496ea441ab184ef79ce9b4350",
            "placeholder": "​",
            "style": "IPY_MODEL_ee6813eb1beb4670a751b704fb7fc0e4",
            "value": " 1000/1000 [00:21&lt;00:00, 54.12it/s]"
          }
        },
        "8bc0226f93b149afb6218b25256f3b6c": {
          "model_module": "@jupyter-widgets/base",
          "model_name": "LayoutModel",
          "model_module_version": "1.2.0",
          "state": {
            "_model_module": "@jupyter-widgets/base",
            "_model_module_version": "1.2.0",
            "_model_name": "LayoutModel",
            "_view_count": null,
            "_view_module": "@jupyter-widgets/base",
            "_view_module_version": "1.2.0",
            "_view_name": "LayoutView",
            "align_content": null,
            "align_items": null,
            "align_self": null,
            "border": null,
            "bottom": null,
            "display": null,
            "flex": null,
            "flex_flow": null,
            "grid_area": null,
            "grid_auto_columns": null,
            "grid_auto_flow": null,
            "grid_auto_rows": null,
            "grid_column": null,
            "grid_gap": null,
            "grid_row": null,
            "grid_template_areas": null,
            "grid_template_columns": null,
            "grid_template_rows": null,
            "height": null,
            "justify_content": null,
            "justify_items": null,
            "left": null,
            "margin": null,
            "max_height": null,
            "max_width": null,
            "min_height": null,
            "min_width": null,
            "object_fit": null,
            "object_position": null,
            "order": null,
            "overflow": null,
            "overflow_x": null,
            "overflow_y": null,
            "padding": null,
            "right": null,
            "top": null,
            "visibility": null,
            "width": null
          }
        },
        "484fa534acb145e18952e0b2fb7b4fac": {
          "model_module": "@jupyter-widgets/base",
          "model_name": "LayoutModel",
          "model_module_version": "1.2.0",
          "state": {
            "_model_module": "@jupyter-widgets/base",
            "_model_module_version": "1.2.0",
            "_model_name": "LayoutModel",
            "_view_count": null,
            "_view_module": "@jupyter-widgets/base",
            "_view_module_version": "1.2.0",
            "_view_name": "LayoutView",
            "align_content": null,
            "align_items": null,
            "align_self": null,
            "border": null,
            "bottom": null,
            "display": null,
            "flex": null,
            "flex_flow": null,
            "grid_area": null,
            "grid_auto_columns": null,
            "grid_auto_flow": null,
            "grid_auto_rows": null,
            "grid_column": null,
            "grid_gap": null,
            "grid_row": null,
            "grid_template_areas": null,
            "grid_template_columns": null,
            "grid_template_rows": null,
            "height": null,
            "justify_content": null,
            "justify_items": null,
            "left": null,
            "margin": null,
            "max_height": null,
            "max_width": null,
            "min_height": null,
            "min_width": null,
            "object_fit": null,
            "object_position": null,
            "order": null,
            "overflow": null,
            "overflow_x": null,
            "overflow_y": null,
            "padding": null,
            "right": null,
            "top": null,
            "visibility": null,
            "width": null
          }
        },
        "84e9ee3e1462415283e7b2cbf049412f": {
          "model_module": "@jupyter-widgets/controls",
          "model_name": "DescriptionStyleModel",
          "model_module_version": "1.5.0",
          "state": {
            "_model_module": "@jupyter-widgets/controls",
            "_model_module_version": "1.5.0",
            "_model_name": "DescriptionStyleModel",
            "_view_count": null,
            "_view_module": "@jupyter-widgets/base",
            "_view_module_version": "1.2.0",
            "_view_name": "StyleView",
            "description_width": ""
          }
        },
        "06342728febd49598e19384f7e245fff": {
          "model_module": "@jupyter-widgets/base",
          "model_name": "LayoutModel",
          "model_module_version": "1.2.0",
          "state": {
            "_model_module": "@jupyter-widgets/base",
            "_model_module_version": "1.2.0",
            "_model_name": "LayoutModel",
            "_view_count": null,
            "_view_module": "@jupyter-widgets/base",
            "_view_module_version": "1.2.0",
            "_view_name": "LayoutView",
            "align_content": null,
            "align_items": null,
            "align_self": null,
            "border": null,
            "bottom": null,
            "display": null,
            "flex": null,
            "flex_flow": null,
            "grid_area": null,
            "grid_auto_columns": null,
            "grid_auto_flow": null,
            "grid_auto_rows": null,
            "grid_column": null,
            "grid_gap": null,
            "grid_row": null,
            "grid_template_areas": null,
            "grid_template_columns": null,
            "grid_template_rows": null,
            "height": null,
            "justify_content": null,
            "justify_items": null,
            "left": null,
            "margin": null,
            "max_height": null,
            "max_width": null,
            "min_height": null,
            "min_width": null,
            "object_fit": null,
            "object_position": null,
            "order": null,
            "overflow": null,
            "overflow_x": null,
            "overflow_y": null,
            "padding": null,
            "right": null,
            "top": null,
            "visibility": null,
            "width": null
          }
        },
        "d1431dec124140edb4f2c2a234c015c5": {
          "model_module": "@jupyter-widgets/controls",
          "model_name": "ProgressStyleModel",
          "model_module_version": "1.5.0",
          "state": {
            "_model_module": "@jupyter-widgets/controls",
            "_model_module_version": "1.5.0",
            "_model_name": "ProgressStyleModel",
            "_view_count": null,
            "_view_module": "@jupyter-widgets/base",
            "_view_module_version": "1.2.0",
            "_view_name": "StyleView",
            "bar_color": null,
            "description_width": ""
          }
        },
        "1c3193a496ea441ab184ef79ce9b4350": {
          "model_module": "@jupyter-widgets/base",
          "model_name": "LayoutModel",
          "model_module_version": "1.2.0",
          "state": {
            "_model_module": "@jupyter-widgets/base",
            "_model_module_version": "1.2.0",
            "_model_name": "LayoutModel",
            "_view_count": null,
            "_view_module": "@jupyter-widgets/base",
            "_view_module_version": "1.2.0",
            "_view_name": "LayoutView",
            "align_content": null,
            "align_items": null,
            "align_self": null,
            "border": null,
            "bottom": null,
            "display": null,
            "flex": null,
            "flex_flow": null,
            "grid_area": null,
            "grid_auto_columns": null,
            "grid_auto_flow": null,
            "grid_auto_rows": null,
            "grid_column": null,
            "grid_gap": null,
            "grid_row": null,
            "grid_template_areas": null,
            "grid_template_columns": null,
            "grid_template_rows": null,
            "height": null,
            "justify_content": null,
            "justify_items": null,
            "left": null,
            "margin": null,
            "max_height": null,
            "max_width": null,
            "min_height": null,
            "min_width": null,
            "object_fit": null,
            "object_position": null,
            "order": null,
            "overflow": null,
            "overflow_x": null,
            "overflow_y": null,
            "padding": null,
            "right": null,
            "top": null,
            "visibility": null,
            "width": null
          }
        },
        "ee6813eb1beb4670a751b704fb7fc0e4": {
          "model_module": "@jupyter-widgets/controls",
          "model_name": "DescriptionStyleModel",
          "model_module_version": "1.5.0",
          "state": {
            "_model_module": "@jupyter-widgets/controls",
            "_model_module_version": "1.5.0",
            "_model_name": "DescriptionStyleModel",
            "_view_count": null,
            "_view_module": "@jupyter-widgets/base",
            "_view_module_version": "1.2.0",
            "_view_name": "StyleView",
            "description_width": ""
          }
        }
      }
    }
  },
  "cells": [
    {
      "cell_type": "code",
      "source": [
        "import numpy as np\n",
        "import matplotlib.pyplot as plt\n",
        "import numpy.linalg as nlg"
      ],
      "metadata": {
        "id": "uDjQO3ryLwui"
      },
      "execution_count": 36,
      "outputs": []
    },
    {
      "cell_type": "code",
      "source": [
        "def generate_ginue_matrix(ms):\n",
        "  A = np.random.normal(mu, sigma, size = (ms, ms)) + 1j * np.random.normal(mu, sigma, size = (ms, ms))\n",
        "  return A\n",
        "\n",
        "def generate_ginueH_matrix(ms):\n",
        "  A = np.random.normal(mu, sigma, size = (ms, ms)) + 1j * np.random.normal(mu, sigma, size = (ms, ms))\n",
        "  Aconj = np.conjugate(A) #conjugate\n",
        "  Adag = np.transpose(Aconj) # transpose = dagger\n",
        "  HS = np.matmul(A,Adag)  #singular value hamiltonian, hermitized hamiltonian\n",
        "  return HS\n",
        "###########################################################################################################\n",
        "def generate_ginoe_matrix(ms):\n",
        "  A = np.random.normal(mu, sigma, size = (ms, ms))\n",
        "  return A\n",
        "\n",
        "def generate_ginoeH_matrix(ms):\n",
        "  A = np.random.normal(mu, sigma, size = (ms, ms))\n",
        "  Aconj = np.conjugate(A) #conjugate\n",
        "  Adag = np.transpose(Aconj) # transpose = dagger\n",
        "  HS = np.matmul(A,Adag)  #singular value hamiltonian, hermitized hamiltonian\n",
        "  return HS\n",
        "###########################################################################################################\n",
        "def compute_eigenvalues(matrix):\n",
        "  return np.linalg.eigvals(matrix)"
      ],
      "metadata": {
        "id": "54wU_4ZXL4gb"
      },
      "execution_count": 61,
      "outputs": []
    },
    {
      "cell_type": "code",
      "source": [
        "###############Distributions eigenvalues and singular values of the GinUE matrices #############################\n",
        "\n",
        "eigall = []\n",
        "singevall = []\n",
        "# Parameters\n",
        "matrix_size = 100  # Size of the GOE matrix\n",
        "ens = 1000  # Number of matrices for ensemble averaging\n",
        "mu, sigma = 0, 1/np.sqrt(2) # mean and standard deviation\n",
        "# s = np.random.normal(mu, sigma, 1000)\n",
        "\n",
        "\n",
        "for _ in tqdm(range(ens)):\n",
        "  ginue_matrix = generate_ginue_matrix(matrix_size)\n",
        "  ginue_HSmatrix = generate_ginueH_matrix(matrix_size)\n",
        "  eigsGinue = compute_eigenvalues(ginue_matrix) #eigenvalues of GinUE matrix\n",
        "  eigsGinueH = compute_eigenvalues(ginue_HSmatrix) #eigenvalues of GinUE-hermitized matrix\n",
        "  singev = np.sqrt(eigsGinueH)\n",
        "  eigall.append(eigsGinue)\n",
        "  singevall.append(singev)"
      ],
      "metadata": {
        "colab": {
          "base_uri": "https://localhost:8080/",
          "height": 49,
          "referenced_widgets": [
            "27a13f833d964d54bffb7f9f70b4a75a",
            "d17292cb200a4fd48cde7bab21dc405a",
            "a3f708b0f30b405ba08c05978ad31668",
            "cceec6da41de45e2961672935d0f316a",
            "c4e1b7c59f06463b997211afe1353191",
            "21e25848e5254ed59ab1946673da31aa",
            "d3eb07f99790410ba21ae23ced4c930d",
            "e5de1af949b847539ef55f7cfc002c09",
            "ec9efcc09f264c44b3fc03ca67b5d574",
            "88ab0f3194af49229932a2d4f43a340d",
            "376374e73d224d92a8ea8438e5217110"
          ]
        },
        "id": "SLsnAqGILzG5",
        "outputId": "f7a5d98f-b3c3-4aea-ad68-0255eaaa52db"
      },
      "execution_count": 62,
      "outputs": [
        {
          "output_type": "display_data",
          "data": {
            "text/plain": [
              "  0%|          | 0/1000 [00:00<?, ?it/s]"
            ],
            "application/vnd.jupyter.widget-view+json": {
              "version_major": 2,
              "version_minor": 0,
              "model_id": "27a13f833d964d54bffb7f9f70b4a75a"
            }
          },
          "metadata": {}
        }
      ]
    },
    {
      "cell_type": "code",
      "source": [
        "e1 = np.array(eigall).flatten()\n",
        "e2 = np.array(singevall).flatten()"
      ],
      "metadata": {
        "id": "fQ1L3as5JvnU"
      },
      "execution_count": 63,
      "outputs": []
    },
    {
      "cell_type": "code",
      "source": [
        "e1"
      ],
      "metadata": {
        "colab": {
          "base_uri": "https://localhost:8080/"
        },
        "id": "uHMp06nALPt1",
        "outputId": "bdd679a9-6d66-4408-a7de-82505bd9cef4"
      },
      "execution_count": 41,
      "outputs": [
        {
          "output_type": "execute_result",
          "data": {
            "text/plain": [
              "array([3.97422804e+03-6.45315185e-14j, 3.92003196e+03-1.07608894e-13j,\n",
              "       3.86543136e+03-7.74865941e-14j, ...,\n",
              "       1.40458599e+00-3.74215589e-14j, 1.48215801e+00-4.14565612e-14j,\n",
              "       1.82593978e+00-4.73228440e-15j])"
            ]
          },
          "metadata": {},
          "execution_count": 41
        }
      ]
    },
    {
      "cell_type": "code",
      "source": [
        "##########################The eigenvalue distribution of GINUE ##########################################\n",
        "plt.figure(figsize=(3, 3))\n",
        "plt.scatter(np.real(e1), np.imag(e1), color='grey', alpha=0.2)\n",
        "#plt.title(f\"Circular Distribution of Eigenvalues (Ginibre Matrix, size={n}x{n})\")\n",
        "plt.xlabel(\"Real\")\n",
        "plt.ylabel(\"Imaginary\")\n",
        "plt.axhline(0, color='black',linewidth=0.5)\n",
        "plt.axvline(0, color='black',linewidth=0.5)\n",
        "plt.show()"
      ],
      "metadata": {
        "colab": {
          "base_uri": "https://localhost:8080/",
          "height": 311
        },
        "id": "eWBiG4VuKQTS",
        "outputId": "0bbed0ee-2a5d-45bc-9af5-173a35908b5e"
      },
      "execution_count": 68,
      "outputs": [
        {
          "output_type": "display_data",
          "data": {
            "text/plain": [
              "<Figure size 300x300 with 1 Axes>"
            ],
            "image/png": "[encoded data removed]"
          },
          "metadata": {}
        }
      ]
    },
    {
      "cell_type": "code",
      "source": [
        "plt.hist(e2, bins=30, alpha=0.75, color='green', edgecolor='black')\n",
        "\n",
        "# Add titles and labels\n",
        "plt.title('Histogram of eigenvalues')\n",
        "plt.xlabel('Value')\n",
        "plt.ylabel('Frequency')\n",
        "\n",
        "# Show the plot\n",
        "plt.show()"
      ],
      "metadata": {
        "colab": {
          "base_uri": "https://localhost:8080/",
          "height": 472
        },
        "id": "p2A3k0YZJ1h6",
        "outputId": "70e55b64-a536-4527-80c3-2097e9cfd032"
      },
      "execution_count": 69,
      "outputs": [
        {
          "output_type": "display_data",
          "data": {
            "text/plain": [
              "<Figure size 640x480 with 1 Axes>"
            ],
            "image/png": "[encoded data removed]"
          },
          "metadata": {}
        }
      ]
    },
    {
      "cell_type": "code",
      "source": [
        "###############Distributions eigenvalues and singular values of the GinUE matrices #############################\n",
        "eigall = []\n",
        "singevall = []\n",
        "# Parameters\n",
        "matrix_size = 100  # Size of the GOE matrix\n",
        "ens = 1000  # Number of matrices for ensemble averaging\n",
        "mu, sigma = 0, 1/np.sqrt(2) # mean and standard deviation\n",
        "# s = np.random.normal(mu, sigma, 1000)\n",
        "\n",
        "\n",
        "for _ in tqdm(range(ens)):\n",
        "  ginoe_matrix = generate_ginoe_matrix(matrix_size)\n",
        "  ginoe_HSmatrix = generate_ginoeH_matrix(matrix_size)\n",
        "  eigsGinoe = compute_eigenvalues(ginoe_matrix) #eigenvalues of GinUE matrix\n",
        "  eigsGinoeH = compute_eigenvalues(ginoe_HSmatrix) #eigenvalues of GinUE-hermitized matrix\n",
        "  singev = np.sqrt(eigsGinoeH)\n",
        "  eigall.append(eigsGinoe)\n",
        "  singevall.append(singev)"
      ],
      "metadata": {
        "colab": {
          "base_uri": "https://localhost:8080/",
          "height": 49,
          "referenced_widgets": [
            "cb0f2ba59eb743e2bd3104028c0800c6",
            "08cddcc2ac5740938d246d017cabbf04",
            "60d2109620094c238aa9be696eecc027",
            "06486721a09842ee9839bb6637e0830a",
            "8bc0226f93b149afb6218b25256f3b6c",
            "484fa534acb145e18952e0b2fb7b4fac",
            "84e9ee3e1462415283e7b2cbf049412f",
            "06342728febd49598e19384f7e245fff",
            "d1431dec124140edb4f2c2a234c015c5",
            "1c3193a496ea441ab184ef79ce9b4350",
            "ee6813eb1beb4670a751b704fb7fc0e4"
          ]
        },
        "id": "jrQpeXrRUcBo",
        "outputId": "d45c3aac-c63a-492e-a43e-415a31456990"
      },
      "execution_count": 70,
      "outputs": [
        {
          "output_type": "display_data",
          "data": {
            "text/plain": [
              "  0%|          | 0/1000 [00:00<?, ?it/s]"
            ],
            "application/vnd.jupyter.widget-view+json": {
              "version_major": 2,
              "version_minor": 0,
              "model_id": "cb0f2ba59eb743e2bd3104028c0800c6"
            }
          },
          "metadata": {}
        }
      ]
    },
    {
      "cell_type": "code",
      "source": [
        "e1 = np.array(eigall).flatten()\n",
        "e2 = np.array(singevall).flatten()"
      ],
      "metadata": {
        "id": "OC_PIbyhU4RU"
      },
      "execution_count": 71,
      "outputs": []
    },
    {
      "cell_type": "code",
      "source": [
        "##########################The eigenvalue distribution of GINUE ##########################################\n",
        "plt.figure(figsize=(4, 4))\n",
        "plt.scatter(np.real(e1), np.imag(e1), color='grey', alpha=0.2)\n",
        "#plt.title(f\"Circular Distribution of Eigenvalues (Ginibre Matrix, size={n}x{n})\")\n",
        "plt.xlabel(\"Real\")\n",
        "plt.ylabel(\"Imaginary\")\n",
        "plt.axhline(0, color='black',linewidth=0.5)\n",
        "plt.axvline(0, color='black',linewidth=0.5)\n",
        "plt.show()"
      ],
      "metadata": {
        "colab": {
          "base_uri": "https://localhost:8080/",
          "height": 388
        },
        "id": "tQ_V0TH2U4Y0",
        "outputId": "3b6bc834-b243-456f-af19-a1d6b0531089"
      },
      "execution_count": 73,
      "outputs": [
        {
          "output_type": "display_data",
          "data": {
            "text/plain": [
              "<Figure size 400x400 with 1 Axes>"
            ],
            "image/png": "[encoded data removed]"
          },
          "metadata": {}
        }
      ]
    },
    {
      "cell_type": "code",
      "source": [
        "plt.hist(e2, bins=30, alpha=0.75, color='green', edgecolor='black')\n",
        "\n",
        "# Add titles and labels\n",
        "plt.title('Histogram of eigenvalues')\n",
        "plt.xlabel('Value')\n",
        "plt.ylabel('Frequency')\n",
        "\n",
        "# Show the plot\n",
        "plt.show()"
      ],
      "metadata": {
        "colab": {
          "base_uri": "https://localhost:8080/",
          "height": 472
        },
        "id": "1DLyAueiVBMp",
        "outputId": "92e6d0f1-9a5b-430b-d57e-5b8b917c5210"
      },
      "execution_count": 74,
      "outputs": [
        {
          "output_type": "display_data",
          "data": {
            "text/plain": [
              "<Figure size 640x480 with 1 Axes>"
            ],
            "image/png": "[encoded data removed]"
          },
          "metadata": {}
        }
      ]
    },
    {
      "cell_type": "code",
      "source": [
        "from tqdm.auto import tqdm"
      ],
      "metadata": {
        "id": "_VYxRdYzHaOo"
      },
      "execution_count": 4,
      "outputs": []
    },
    {
      "cell_type": "code",
      "source": [
        "A = np.random.normal(mu, sigma, size = (2, 2)) + 1j * np.random.normal(mu, sigma, size = (2, 2))\n",
        "Aconj = np.conjugate(A) #conjugate\n",
        "Adag = np.transpose(Aconj) # transpose = dagger\n",
        "HS = np.matmul(A,Adag)\n",
        "eigs = nlg.eigvals(A)\n",
        "eigsev = nlg.eigvals(HS)"
      ],
      "metadata": {
        "id": "zpyQUAdTIJbF"
      },
      "execution_count": 51,
      "outputs": []
    }
  ]
}