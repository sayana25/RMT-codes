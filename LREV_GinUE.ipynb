{
  "nbformat": 4,
  "nbformat_minor": 0,
  "metadata": {
    "colab": {
      "provenance": []
    },
    "kernelspec": {
      "name": "python3",
      "display_name": "Python 3"
    },
    "language_info": {
      "name": "python"
    }
  },
  "cells": [
    {
      "cell_type": "markdown",
      "source": [
        "The definition for overlap matrix here is ![image.png](data:image/png;base64,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) and is different from what is given in the paper of Ghosh, Roy and Kulkarni."
      ],
      "metadata": {
        "id": "Qnjx8cClirbV"
      }
    },
    {
      "cell_type": "code",
      "execution_count": 24,
      "metadata": {
        "colab": {
          "base_uri": "https://localhost:8080/"
        },
        "id": "s5vWxFxpDRSR",
        "outputId": "320b8cfd-8f18-4917-bbe2-4fa6020697d8"
      },
      "outputs": [
        {
          "output_type": "stream",
          "name": "stdout",
          "text": [
            "Left-Right Overlap Matrix:\n",
            " [[8.61818949e-01 1.89198480e-16 3.85357989e-16 7.43528064e-16\n",
            "  6.90690124e-16 6.93889390e-16]\n",
            " [2.80649740e-16 7.34905734e-01 6.27673473e-16 7.03309616e-16\n",
            "  6.02526177e-16 3.93564373e-16]\n",
            " [2.38318821e-16 6.41654479e-16 7.57667943e-01 9.23420502e-16\n",
            "  6.61601451e-16 4.71129946e-16]\n",
            " [1.57673437e-16 4.24006642e-16 3.28809162e-16 8.41109239e-01\n",
            "  7.17437673e-16 3.56796818e-16]\n",
            " [7.15790791e-16 5.19270866e-16 5.47878721e-16 6.44890320e-16\n",
            "  6.61989214e-01 4.30882405e-16]\n",
            " [2.55445869e-16 4.64489948e-16 2.94878558e-16 3.14506500e-16\n",
            "  2.14208499e-16 6.99252940e-01]]\n"
          ]
        }
      ],
      "source": [
        "import numpy as np\n",
        "from scipy.linalg import eig\n",
        "from tqdm.auto import tqdm\n",
        "\n",
        "def ginibre_matrix(n):\n",
        "    \"\"\"\n",
        "    Generate a Ginibre Unitary Ensemble (GinUE) matrix of size n x n.\n",
        "    \"\"\"\n",
        "    real_part = np.random.normal(loc=0.0, scale=1/np.sqrt(2), size=(n, n))\n",
        "    imag_part = np.random.normal(loc=0.0, scale=1/np.sqrt(2), size=(n, n))\n",
        "    return real_part + 1j * imag_part\n",
        "\n",
        "def left_right_overlap_matrix(matrix):\n",
        "    \"\"\"\n",
        "    Compute the overlap matrix for the left and right eigenvectors of a matrix.\n",
        "    \"\"\"\n",
        "    # Compute left and right eigenvectors\n",
        "    _, l_vectors, r_vectors = eig(matrix, left=True, right=True)\n",
        "\n",
        "    # Normalize left and right eigenvectors\n",
        "    for i in range(len(l_vectors)):\n",
        "        l_vectors[:, i] /= np.sqrt(np.dot(l_vectors[:, i].conj().T, l_vectors[:, i]))\n",
        "        r_vectors[:, i] /= np.sqrt(np.dot(r_vectors[:, i].conj().T, r_vectors[:, i]))\n",
        "\n",
        "    # Compute overlap matrix\n",
        "    overlap = np.dot(l_vectors.T.conj(), r_vectors)\n",
        "\n",
        "    return overlap\n",
        "\n",
        "# Example usage\n",
        "n = 6  # Size of the GinUE matrix\n",
        "ginibre = ginibre_matrix(n)\n",
        "overlap_matrix = left_right_overlap_matrix(ginibre)\n",
        "print(\"Left-Right Overlap Matrix:\\n\", np.abs(overlap_matrix))"
      ]
    },
    {
      "cell_type": "code",
      "source": [
        "matrix = np.array([\n",
        "    [0.5895193953969414 + 0.12338285555081702j, 0.33005123780163825 + 0.5385277696208717j, -0.5052616959584207 + 1.2935573838116243j, 0.39518860922408894 - 0.2313544636600999j],\n",
        "    [-0.2285080166048638 + 0.032596683923424324j, -0.22420711204579008 - 0.19260684240142234j, 0.1769219503874783 + 0.19604171385412966j, 0.295206362102556 - 1.7922787394950488j],\n",
        "    [0.7674111272635817 - 0.8355246870604126j, -0.24845261046610015 + 0.02773905550158284j, 0.45736835700274214 + 0.07758626149792867j, -0.9611466816874711 - 1.6484065116834992j],\n",
        "    [-0.7588588939600162 + 0.35649129618113995j, 0.35144707311196827 - 0.7686870744630713j, 0.952089367432391 - 0.297676583435584j, 0.7893256403629985 + 0.2633719301247838j]\n",
        "])"
      ],
      "metadata": {
        "id": "d-VaB9vRDes8"
      },
      "execution_count": 5,
      "outputs": []
    },
    {
      "cell_type": "code",
      "source": [
        "def compute_and_normalize_eigenvectors(matrix):\n",
        "    \"\"\"\n",
        "    Compute and normalize left and right eigenvectors of the given matrix.\n",
        "\n",
        "    Parameters:\n",
        "    - matrix: A numpy array representing the matrix.\n",
        "\n",
        "    Returns:\n",
        "    - A tuple containing normalized left eigenvectors, normalized right eigenvectors.\n",
        "    \"\"\"\n",
        "    # Compute left and right eigenvectors\n",
        "    eigenvalues, right_eigenvectors, left_eigenvectors = eig(matrix, left=True, right=True)\n",
        "\n",
        "    # Normalize left eigenvectors\n",
        "    norm_left_eigenvectors = left_eigenvectors / np.sqrt(np.sum(np.conj(left_eigenvectors) * left_eigenvectors, axis=0))\n",
        "\n",
        "    # Normalize right eigenvectors\n",
        "    norm_right_eigenvectors = right_eigenvectors / np.sqrt(np.sum(np.conj(right_eigenvectors) * right_eigenvectors, axis=0))\n",
        "\n",
        "    return eigenvalues, left_eigenvectors, right_eigenvectors, norm_left_eigenvectors, norm_right_eigenvectors\n",
        "\n",
        "# Define the matrix\n",
        "matrix = np.array([\n",
        "    [0.5895193953969414 + 0.12338285555081702j, 0.33005123780163825 + 0.5385277696208717j, -0.5052616959584207 + 1.2935573838116243j, 0.39518860922408894 - 0.2313544636600999j],\n",
        "    [-0.2285080166048638 + 0.032596683923424324j, -0.22420711204579008 - 0.19260684240142234j, 0.1769219503874783 + 0.19604171385412966j, 0.295206362102556 - 1.7922787394950488j],\n",
        "    [0.7674111272635817 - 0.8355246870604126j, -0.24845261046610015 + 0.02773905550158284j, 0.45736835700274214 + 0.07758626149792867j, -0.9611466816874711 - 1.6484065116834992j],\n",
        "    [-0.7588588939600162 + 0.35649129618113995j, 0.35144707311196827 - 0.7686870744630713j, 0.952089367432391 - 0.297676583435584j, 0.7893256403629985 + 0.2633719301247838j]\n",
        "])\n",
        "\n",
        "# Compute and normalize eigenvectors\n",
        "eigenvalues, left_eigenvectors, right_eigenvectors, norm_left_eigenvectors, norm_right_eigenvectors = compute_and_normalize_eigenvectors(matrix)\n",
        "\n",
        "print(\"Eigenvalues:\\n\",eigenvalues)\n",
        "print(\"Left Eigenvectors:\\n\",left_eigenvectors)\n",
        "print(\"Right Eigenvectors:\\n\",right_eigenvectors)\n",
        "print(\"Normalized Left Eigenvectors:\\n\", norm_left_eigenvectors)\n",
        "print(\"Normalized Right Eigenvectors:\\n\", norm_right_eigenvectors)"
      ],
      "metadata": {
        "colab": {
          "base_uri": "https://localhost:8080/"
        },
        "id": "6IjzGE7mIKrk",
        "outputId": "c3444551-b73b-46e1-830a-a842e2c6b381"
      },
      "execution_count": 15,
      "outputs": [
        {
          "output_type": "stream",
          "name": "stdout",
          "text": [
            "Eigenvalues:\n",
            " [ 1.14223889+1.44043143j -0.34261498+0.66833176j -0.08183937-0.02124052j\n",
            "  0.89422174-1.81578846j]\n",
            "Left Eigenvectors:\n",
            " [[ 0.66052344+0.j          0.22230752-0.45286289j  0.13469517-0.01747967j\n",
            "  -0.30297809+0.34928637j]\n",
            " [ 0.22404254+0.2148219j   0.80210648+0.j          0.85035015+0.j\n",
            "   0.59983121+0.j        ]\n",
            " [ 0.24353411-0.51656448j  0.04976244+0.06397372j -0.25716932+0.40631559j\n",
            "   0.24314944-0.19336776j]\n",
            " [-0.37362347+0.04028719j -0.30846475+0.02000789j -0.03820749+0.16052435j\n",
            "   0.53508652+0.20874746j]]\n",
            "Right Eigenvectors:\n",
            " [[ 0.12328832-0.61671529j  0.52234349-0.26435237j  0.59701948+0.j\n",
            "  -0.18592975+0.00155848j]\n",
            " [-0.09231732+0.0954692j  -0.15355846+0.28066155j -0.0847651 -0.1746928j\n",
            "   0.3504083 +0.17319447j]\n",
            " [-0.28688957+0.01100592j  0.08571108+0.25636428j  0.15731261+0.49728099j\n",
            "   0.31596747-0.40183451j]\n",
            " [ 0.71021027+0.j          0.69415774+0.j          0.36729065+0.44601231j\n",
            "   0.74252204+0.j        ]]\n",
            "Normalized Left Eigenvectors:\n",
            " [[ 0.66052344+3.71957053e-18j  0.22230752-4.52862894e-01j\n",
            "   0.13469517-1.74796713e-02j -0.30297809+3.49286373e-01j]\n",
            " [ 0.22404254+2.14821895e-01j  0.80210648+5.27632406e-19j\n",
            "   0.85035015+4.26406657e-19j  0.59983121-8.21348284e-19j]\n",
            " [ 0.24353411-5.16564481e-01j  0.04976244+6.39737217e-02j\n",
            "  -0.25716932+4.06315593e-01j  0.24314944-1.93367756e-01j]\n",
            " [-0.37362347+4.02871852e-02j -0.30846475+2.00078863e-02j\n",
            "  -0.03820749+1.60524348e-01j  0.53508652+2.08747456e-01j]]\n",
            "Normalized Right Eigenvectors:\n",
            " [[ 0.12328832-6.16715286e-01j  0.52234349-2.64352365e-01j\n",
            "   0.59701948-2.12570936e-18j -0.18592975+1.55847897e-03j]\n",
            " [-0.09231732+9.54692036e-02j -0.15355846+2.80661550e-01j\n",
            "  -0.0847651 -1.74692800e-01j  0.3504083 +1.73194465e-01j]\n",
            " [-0.28688957+1.10059243e-02j  0.08571108+2.56364282e-01j\n",
            "   0.15731261+4.97280987e-01j  0.31596747-4.01834513e-01j]\n",
            " [ 0.71021027-1.53685719e-18j  0.69415774-3.63170353e-19j\n",
            "   0.36729065+4.46012310e-01j  0.74252204-4.18316157e-18j]]\n"
          ]
        }
      ]
    },
    {
      "cell_type": "code",
      "source": [
        "matrix2a = np.array([[0.66052344+0.j, 0.22230752-0.45286289j, 0.13469517-0.01747967j,\n",
        "  -0.30297809+0.34928637j],[ 0.22404254+0.2148219j, 0.80210648+0.j, 0.85035015+0.j,\n",
        "   0.59983121+0.j], [0.24353411-0.51656448j, 0.04976244+0.06397372j, -0.25716932+0.40631559j\n",
        "  ,0.24314944-0.19336776j],[-0.37362347+0.04028719j,-0.30846475+0.02000789j,-0.03820749+0.16052435j, 0.53508652+0.20874746j]])\n",
        "\n",
        "\n",
        "matrix2b = np.array([[-0.18593 + 0.00155848j, 0.350408 + 0.173194j, 0.315967 -\n",
        " 0.401835j, 0.742522 + 0.j],[0.123288 - 0.616715j, -0.0923173 + 0.0954692j, -0.28689 +\n",
        " 0.0110059j, 0.71021 + 0.j], [0.522343 - 0.264352j, -0.153558 + 0.280662j, 0.0857111 +\n",
        " 0.256364j, 0.694158 + 0.j],[0.597019 + 0.j, -0.0847651 - 0.174693j, 0.157313 +\n",
        " 0.497281j, 0.367291 + 0.446012j]])\n",
        "\n",
        "# Element-wise comparison\n",
        "print(matrix2a == matrix2b)"
      ],
      "metadata": {
        "colab": {
          "base_uri": "https://localhost:8080/"
        },
        "id": "if0hQ65MJPpo",
        "outputId": "2e64a610-428c-43c6-e0bf-6c648db7d831"
      },
      "execution_count": 17,
      "outputs": [
        {
          "output_type": "stream",
          "name": "stdout",
          "text": [
            "[[False False False False]\n",
            " [False False False False]\n",
            " [False False False False]\n",
            " [False False False False]]\n"
          ]
        }
      ]
    },
    {
      "cell_type": "code",
      "source": [
        "# Define a matrix\n",
        "matrix = np.array([[1, 2, 3], [4, 5, 6], [7, 8, 9]])\n",
        "\n",
        "# Compute the eigenvalues and right eigenvectors\n",
        "eigenvalues, right_eigenvectors = np.linalg.eig(matrix)\n",
        "\n",
        "# Normalize the eigenvectors to have a Euclidean norm of 1\n",
        "normalized_right_eigenvectors = right_eigenvectors / np.linalg.norm(right_eigenvectors, axis=0)\n",
        "\n",
        "\n",
        "\n",
        "print(\"Right Eigenvectors:\")\n",
        "print(right_eigenvectors)\n",
        "print(\"Right Eigenvectors (normalized):\")\n",
        "print(normalized_right_eigenvectors)"
      ],
      "metadata": {
        "colab": {
          "base_uri": "https://localhost:8080/"
        },
        "id": "9YgP9WGYSVSg",
        "outputId": "5afd2334-5a9e-4a85-c729-e661b06cd9d1"
      },
      "execution_count": 20,
      "outputs": [
        {
          "output_type": "stream",
          "name": "stdout",
          "text": [
            "Right Eigenvectors:\n",
            "[[-0.23197069 -0.78583024  0.40824829]\n",
            " [-0.52532209 -0.08675134 -0.81649658]\n",
            " [-0.8186735   0.61232756  0.40824829]]\n",
            "Right Eigenvectors (normalized):\n",
            "[[-0.23197069 -0.78583024  0.40824829]\n",
            " [-0.52532209 -0.08675134 -0.81649658]\n",
            " [-0.8186735   0.61232756  0.40824829]]\n"
          ]
        }
      ]
    },
    {
      "cell_type": "code",
      "source": [],
      "metadata": {
        "id": "pF5NtM9JVI43"
      },
      "execution_count": null,
      "outputs": []
    },
    {
      "cell_type": "markdown",
      "source": [
        "Note the following example. Once you have created the overlap matrices in mathematica, let's compare with the above example"
      ],
      "metadata": {
        "id": "g8qUnaq-Zy-R"
      }
    },
    {
      "cell_type": "markdown",
      "source": [
        "![image.png](data:image/png;base64,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)"
      ],
      "metadata": {
        "id": "9KMtwZgqZtzG"
      }
    },
    {
      "cell_type": "markdown",
      "source": [],
      "metadata": {
        "id": "KSw0HTCNikk3"
      }
    }
  ]
}