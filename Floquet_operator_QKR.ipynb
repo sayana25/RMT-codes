{
  "nbformat": 4,
  "nbformat_minor": 0,
  "metadata": {
    "colab": {
      "provenance": []
    },
    "kernelspec": {
      "name": "python3",
      "display_name": "Python 3"
    },
    "language_info": {
      "name": "python"
    },
    "widgets": {
      "application/vnd.jupyter.widget-state+json": {
        "e87cfb0c2f074324a7178b97564f73e5": {
          "model_module": "@jupyter-widgets/controls",
          "model_name": "HBoxModel",
          "model_module_version": "1.5.0",
          "state": {
            "_dom_classes": [],
            "_model_module": "@jupyter-widgets/controls",
            "_model_module_version": "1.5.0",
            "_model_name": "HBoxModel",
            "_view_count": null,
            "_view_module": "@jupyter-widgets/controls",
            "_view_module_version": "1.5.0",
            "_view_name": "HBoxView",
            "box_style": "",
            "children": [
              "IPY_MODEL_bf6c4dab4afe4e88813d615465c0f40b",
              "IPY_MODEL_a39b6790e57045f6be1f51bf2ca17377",
              "IPY_MODEL_5d262aba34b4426988b339dea8b8fa90"
            ],
            "layout": "IPY_MODEL_4a855a6ea7334c8b9c15550036cc10c4"
          }
        },
        "bf6c4dab4afe4e88813d615465c0f40b": {
          "model_module": "@jupyter-widgets/controls",
          "model_name": "HTMLModel",
          "model_module_version": "1.5.0",
          "state": {
            "_dom_classes": [],
            "_model_module": "@jupyter-widgets/controls",
            "_model_module_version": "1.5.0",
            "_model_name": "HTMLModel",
            "_view_count": null,
            "_view_module": "@jupyter-widgets/controls",
            "_view_module_version": "1.5.0",
            "_view_name": "HTMLView",
            "description": "",
            "description_tooltip": null,
            "layout": "IPY_MODEL_4569f1de30c94adc95018d328639aa7f",
            "placeholder": "​",
            "style": "IPY_MODEL_f4056c19706c4b12a8356c04a0c394c6",
            "value": "100%"
          }
        },
        "a39b6790e57045f6be1f51bf2ca17377": {
          "model_module": "@jupyter-widgets/controls",
          "model_name": "FloatProgressModel",
          "model_module_version": "1.5.0",
          "state": {
            "_dom_classes": [],
            "_model_module": "@jupyter-widgets/controls",
            "_model_module_version": "1.5.0",
            "_model_name": "FloatProgressModel",
            "_view_count": null,
            "_view_module": "@jupyter-widgets/controls",
            "_view_module_version": "1.5.0",
            "_view_name": "ProgressView",
            "bar_style": "success",
            "description": "",
            "description_tooltip": null,
            "layout": "IPY_MODEL_e2c57c06de064155a67472f551ad66c3",
            "max": 499,
            "min": 0,
            "orientation": "horizontal",
            "style": "IPY_MODEL_f80c6c3e421044e09ef5889a9b0f1148",
            "value": 499
          }
        },
        "5d262aba34b4426988b339dea8b8fa90": {
          "model_module": "@jupyter-widgets/controls",
          "model_name": "HTMLModel",
          "model_module_version": "1.5.0",
          "state": {
            "_dom_classes": [],
            "_model_module": "@jupyter-widgets/controls",
            "_model_module_version": "1.5.0",
            "_model_name": "HTMLModel",
            "_view_count": null,
            "_view_module": "@jupyter-widgets/controls",
            "_view_module_version": "1.5.0",
            "_view_name": "HTMLView",
            "description": "",
            "description_tooltip": null,
            "layout": "IPY_MODEL_879415b0666f47a8abb3abb12720801d",
            "placeholder": "​",
            "style": "IPY_MODEL_6cc8a3357e8b4793a369d437966d4b64",
            "value": " 499/499 [01:03&lt;00:00,  6.05it/s]"
          }
        },
        "4a855a6ea7334c8b9c15550036cc10c4": {
          "model_module": "@jupyter-widgets/base",
          "model_name": "LayoutModel",
          "model_module_version": "1.2.0",
          "state": {
            "_model_module": "@jupyter-widgets/base",
            "_model_module_version": "1.2.0",
            "_model_name": "LayoutModel",
            "_view_count": null,
            "_view_module": "@jupyter-widgets/base",
            "_view_module_version": "1.2.0",
            "_view_name": "LayoutView",
            "align_content": null,
            "align_items": null,
            "align_self": null,
            "border": null,
            "bottom": null,
            "display": null,
            "flex": null,
            "flex_flow": null,
            "grid_area": null,
            "grid_auto_columns": null,
            "grid_auto_flow": null,
            "grid_auto_rows": null,
            "grid_column": null,
            "grid_gap": null,
            "grid_row": null,
            "grid_template_areas": null,
            "grid_template_columns": null,
            "grid_template_rows": null,
            "height": null,
            "justify_content": null,
            "justify_items": null,
            "left": null,
            "margin": null,
            "max_height": null,
            "max_width": null,
            "min_height": null,
            "min_width": null,
            "object_fit": null,
            "object_position": null,
            "order": null,
            "overflow": null,
            "overflow_x": null,
            "overflow_y": null,
            "padding": null,
            "right": null,
            "top": null,
            "visibility": null,
            "width": null
          }
        },
        "4569f1de30c94adc95018d328639aa7f": {
          "model_module": "@jupyter-widgets/base",
          "model_name": "LayoutModel",
          "model_module_version": "1.2.0",
          "state": {
            "_model_module": "@jupyter-widgets/base",
            "_model_module_version": "1.2.0",
            "_model_name": "LayoutModel",
            "_view_count": null,
            "_view_module": "@jupyter-widgets/base",
            "_view_module_version": "1.2.0",
            "_view_name": "LayoutView",
            "align_content": null,
            "align_items": null,
            "align_self": null,
            "border": null,
            "bottom": null,
            "display": null,
            "flex": null,
            "flex_flow": null,
            "grid_area": null,
            "grid_auto_columns": null,
            "grid_auto_flow": null,
            "grid_auto_rows": null,
            "grid_column": null,
            "grid_gap": null,
            "grid_row": null,
            "grid_template_areas": null,
            "grid_template_columns": null,
            "grid_template_rows": null,
            "height": null,
            "justify_content": null,
            "justify_items": null,
            "left": null,
            "margin": null,
            "max_height": null,
            "max_width": null,
            "min_height": null,
            "min_width": null,
            "object_fit": null,
            "object_position": null,
            "order": null,
            "overflow": null,
            "overflow_x": null,
            "overflow_y": null,
            "padding": null,
            "right": null,
            "top": null,
            "visibility": null,
            "width": null
          }
        },
        "f4056c19706c4b12a8356c04a0c394c6": {
          "model_module": "@jupyter-widgets/controls",
          "model_name": "DescriptionStyleModel",
          "model_module_version": "1.5.0",
          "state": {
            "_model_module": "@jupyter-widgets/controls",
            "_model_module_version": "1.5.0",
            "_model_name": "DescriptionStyleModel",
            "_view_count": null,
            "_view_module": "@jupyter-widgets/base",
            "_view_module_version": "1.2.0",
            "_view_name": "StyleView",
            "description_width": ""
          }
        },
        "e2c57c06de064155a67472f551ad66c3": {
          "model_module": "@jupyter-widgets/base",
          "model_name": "LayoutModel",
          "model_module_version": "1.2.0",
          "state": {
            "_model_module": "@jupyter-widgets/base",
            "_model_module_version": "1.2.0",
            "_model_name": "LayoutModel",
            "_view_count": null,
            "_view_module": "@jupyter-widgets/base",
            "_view_module_version": "1.2.0",
            "_view_name": "LayoutView",
            "align_content": null,
            "align_items": null,
            "align_self": null,
            "border": null,
            "bottom": null,
            "display": null,
            "flex": null,
            "flex_flow": null,
            "grid_area": null,
            "grid_auto_columns": null,
            "grid_auto_flow": null,
            "grid_auto_rows": null,
            "grid_column": null,
            "grid_gap": null,
            "grid_row": null,
            "grid_template_areas": null,
            "grid_template_columns": null,
            "grid_template_rows": null,
            "height": null,
            "justify_content": null,
            "justify_items": null,
            "left": null,
            "margin": null,
            "max_height": null,
            "max_width": null,
            "min_height": null,
            "min_width": null,
            "object_fit": null,
            "object_position": null,
            "order": null,
            "overflow": null,
            "overflow_x": null,
            "overflow_y": null,
            "padding": null,
            "right": null,
            "top": null,
            "visibility": null,
            "width": null
          }
        },
        "f80c6c3e421044e09ef5889a9b0f1148": {
          "model_module": "@jupyter-widgets/controls",
          "model_name": "ProgressStyleModel",
          "model_module_version": "1.5.0",
          "state": {
            "_model_module": "@jupyter-widgets/controls",
            "_model_module_version": "1.5.0",
            "_model_name": "ProgressStyleModel",
            "_view_count": null,
            "_view_module": "@jupyter-widgets/base",
            "_view_module_version": "1.2.0",
            "_view_name": "StyleView",
            "bar_color": null,
            "description_width": ""
          }
        },
        "879415b0666f47a8abb3abb12720801d": {
          "model_module": "@jupyter-widgets/base",
          "model_name": "LayoutModel",
          "model_module_version": "1.2.0",
          "state": {
            "_model_module": "@jupyter-widgets/base",
            "_model_module_version": "1.2.0",
            "_model_name": "LayoutModel",
            "_view_count": null,
            "_view_module": "@jupyter-widgets/base",
            "_view_module_version": "1.2.0",
            "_view_name": "LayoutView",
            "align_content": null,
            "align_items": null,
            "align_self": null,
            "border": null,
            "bottom": null,
            "display": null,
            "flex": null,
            "flex_flow": null,
            "grid_area": null,
            "grid_auto_columns": null,
            "grid_auto_flow": null,
            "grid_auto_rows": null,
            "grid_column": null,
            "grid_gap": null,
            "grid_row": null,
            "grid_template_areas": null,
            "grid_template_columns": null,
            "grid_template_rows": null,
            "height": null,
            "justify_content": null,
            "justify_items": null,
            "left": null,
            "margin": null,
            "max_height": null,
            "max_width": null,
            "min_height": null,
            "min_width": null,
            "object_fit": null,
            "object_position": null,
            "order": null,
            "overflow": null,
            "overflow_x": null,
            "overflow_y": null,
            "padding": null,
            "right": null,
            "top": null,
            "visibility": null,
            "width": null
          }
        },
        "6cc8a3357e8b4793a369d437966d4b64": {
          "model_module": "@jupyter-widgets/controls",
          "model_name": "DescriptionStyleModel",
          "model_module_version": "1.5.0",
          "state": {
            "_model_module": "@jupyter-widgets/controls",
            "_model_module_version": "1.5.0",
            "_model_name": "DescriptionStyleModel",
            "_view_count": null,
            "_view_module": "@jupyter-widgets/base",
            "_view_module_version": "1.2.0",
            "_view_name": "StyleView",
            "description_width": ""
          }
        },
        "d1f9aa5bf407401eb4e6a4c9c44ad811": {
          "model_module": "@jupyter-widgets/controls",
          "model_name": "HBoxModel",
          "model_module_version": "1.5.0",
          "state": {
            "_dom_classes": [],
            "_model_module": "@jupyter-widgets/controls",
            "_model_module_version": "1.5.0",
            "_model_name": "HBoxModel",
            "_view_count": null,
            "_view_module": "@jupyter-widgets/controls",
            "_view_module_version": "1.5.0",
            "_view_name": "HBoxView",
            "box_style": "",
            "children": [
              "IPY_MODEL_77dc7c203c854e52b79e31f3fcbe5b2c",
              "IPY_MODEL_88d6f17b694446aba9b8f86e61ec0fac",
              "IPY_MODEL_454adbbdb5384cdabcfefa46f6908754"
            ],
            "layout": "IPY_MODEL_18b1ee4d2b7d45f4a465f584bde26c71"
          }
        },
        "77dc7c203c854e52b79e31f3fcbe5b2c": {
          "model_module": "@jupyter-widgets/controls",
          "model_name": "HTMLModel",
          "model_module_version": "1.5.0",
          "state": {
            "_dom_classes": [],
            "_model_module": "@jupyter-widgets/controls",
            "_model_module_version": "1.5.0",
            "_model_name": "HTMLModel",
            "_view_count": null,
            "_view_module": "@jupyter-widgets/controls",
            "_view_module_version": "1.5.0",
            "_view_name": "HTMLView",
            "description": "",
            "description_tooltip": null,
            "layout": "IPY_MODEL_1cd52809267844a7b29d3a601cd68218",
            "placeholder": "​",
            "style": "IPY_MODEL_f20d418f53014e25970c73503ea2f263",
            "value": "100%"
          }
        },
        "88d6f17b694446aba9b8f86e61ec0fac": {
          "model_module": "@jupyter-widgets/controls",
          "model_name": "FloatProgressModel",
          "model_module_version": "1.5.0",
          "state": {
            "_dom_classes": [],
            "_model_module": "@jupyter-widgets/controls",
            "_model_module_version": "1.5.0",
            "_model_name": "FloatProgressModel",
            "_view_count": null,
            "_view_module": "@jupyter-widgets/controls",
            "_view_module_version": "1.5.0",
            "_view_name": "ProgressView",
            "bar_style": "success",
            "description": "",
            "description_tooltip": null,
            "layout": "IPY_MODEL_a3ece4c78f5e40bd8dfc344808dab925",
            "max": 49,
            "min": 0,
            "orientation": "horizontal",
            "style": "IPY_MODEL_0b1dff4c5a1c4ee989b0d769ac1bc440",
            "value": 49
          }
        },
        "454adbbdb5384cdabcfefa46f6908754": {
          "model_module": "@jupyter-widgets/controls",
          "model_name": "HTMLModel",
          "model_module_version": "1.5.0",
          "state": {
            "_dom_classes": [],
            "_model_module": "@jupyter-widgets/controls",
            "_model_module_version": "1.5.0",
            "_model_name": "HTMLModel",
            "_view_count": null,
            "_view_module": "@jupyter-widgets/controls",
            "_view_module_version": "1.5.0",
            "_view_name": "HTMLView",
            "description": "",
            "description_tooltip": null,
            "layout": "IPY_MODEL_3284890498db49bdabbc12eddcba9964",
            "placeholder": "​",
            "style": "IPY_MODEL_3b229a5004744ced8fb128feba2c72dd",
            "value": " 49/49 [00:20&lt;00:00,  2.68it/s]"
          }
        },
        "18b1ee4d2b7d45f4a465f584bde26c71": {
          "model_module": "@jupyter-widgets/base",
          "model_name": "LayoutModel",
          "model_module_version": "1.2.0",
          "state": {
            "_model_module": "@jupyter-widgets/base",
            "_model_module_version": "1.2.0",
            "_model_name": "LayoutModel",
            "_view_count": null,
            "_view_module": "@jupyter-widgets/base",
            "_view_module_version": "1.2.0",
            "_view_name": "LayoutView",
            "align_content": null,
            "align_items": null,
            "align_self": null,
            "border": null,
            "bottom": null,
            "display": null,
            "flex": null,
            "flex_flow": null,
            "grid_area": null,
            "grid_auto_columns": null,
            "grid_auto_flow": null,
            "grid_auto_rows": null,
            "grid_column": null,
            "grid_gap": null,
            "grid_row": null,
            "grid_template_areas": null,
            "grid_template_columns": null,
            "grid_template_rows": null,
            "height": null,
            "justify_content": null,
            "justify_items": null,
            "left": null,
            "margin": null,
            "max_height": null,
            "max_width": null,
            "min_height": null,
            "min_width": null,
            "object_fit": null,
            "object_position": null,
            "order": null,
            "overflow": null,
            "overflow_x": null,
            "overflow_y": null,
            "padding": null,
            "right": null,
            "top": null,
            "visibility": null,
            "width": null
          }
        },
        "1cd52809267844a7b29d3a601cd68218": {
          "model_module": "@jupyter-widgets/base",
          "model_name": "LayoutModel",
          "model_module_version": "1.2.0",
          "state": {
            "_model_module": "@jupyter-widgets/base",
            "_model_module_version": "1.2.0",
            "_model_name": "LayoutModel",
            "_view_count": null,
            "_view_module": "@jupyter-widgets/base",
            "_view_module_version": "1.2.0",
            "_view_name": "LayoutView",
            "align_content": null,
            "align_items": null,
            "align_self": null,
            "border": null,
            "bottom": null,
            "display": null,
            "flex": null,
            "flex_flow": null,
            "grid_area": null,
            "grid_auto_columns": null,
            "grid_auto_flow": null,
            "grid_auto_rows": null,
            "grid_column": null,
            "grid_gap": null,
            "grid_row": null,
            "grid_template_areas": null,
            "grid_template_columns": null,
            "grid_template_rows": null,
            "height": null,
            "justify_content": null,
            "justify_items": null,
            "left": null,
            "margin": null,
            "max_height": null,
            "max_width": null,
            "min_height": null,
            "min_width": null,
            "object_fit": null,
            "object_position": null,
            "order": null,
            "overflow": null,
            "overflow_x": null,
            "overflow_y": null,
            "padding": null,
            "right": null,
            "top": null,
            "visibility": null,
            "width": null
          }
        },
        "f20d418f53014e25970c73503ea2f263": {
          "model_module": "@jupyter-widgets/controls",
          "model_name": "DescriptionStyleModel",
          "model_module_version": "1.5.0",
          "state": {
            "_model_module": "@jupyter-widgets/controls",
            "_model_module_version": "1.5.0",
            "_model_name": "DescriptionStyleModel",
            "_view_count": null,
            "_view_module": "@jupyter-widgets/base",
            "_view_module_version": "1.2.0",
            "_view_name": "StyleView",
            "description_width": ""
          }
        },
        "a3ece4c78f5e40bd8dfc344808dab925": {
          "model_module": "@jupyter-widgets/base",
          "model_name": "LayoutModel",
          "model_module_version": "1.2.0",
          "state": {
            "_model_module": "@jupyter-widgets/base",
            "_model_module_version": "1.2.0",
            "_model_name": "LayoutModel",
            "_view_count": null,
            "_view_module": "@jupyter-widgets/base",
            "_view_module_version": "1.2.0",
            "_view_name": "LayoutView",
            "align_content": null,
            "align_items": null,
            "align_self": null,
            "border": null,
            "bottom": null,
            "display": null,
            "flex": null,
            "flex_flow": null,
            "grid_area": null,
            "grid_auto_columns": null,
            "grid_auto_flow": null,
            "grid_auto_rows": null,
            "grid_column": null,
            "grid_gap": null,
            "grid_row": null,
            "grid_template_areas": null,
            "grid_template_columns": null,
            "grid_template_rows": null,
            "height": null,
            "justify_content": null,
            "justify_items": null,
            "left": null,
            "margin": null,
            "max_height": null,
            "max_width": null,
            "min_height": null,
            "min_width": null,
            "object_fit": null,
            "object_position": null,
            "order": null,
            "overflow": null,
            "overflow_x": null,
            "overflow_y": null,
            "padding": null,
            "right": null,
            "top": null,
            "visibility": null,
            "width": null
          }
        },
        "0b1dff4c5a1c4ee989b0d769ac1bc440": {
          "model_module": "@jupyter-widgets/controls",
          "model_name": "ProgressStyleModel",
          "model_module_version": "1.5.0",
          "state": {
            "_model_module": "@jupyter-widgets/controls",
            "_model_module_version": "1.5.0",
            "_model_name": "ProgressStyleModel",
            "_view_count": null,
            "_view_module": "@jupyter-widgets/base",
            "_view_module_version": "1.2.0",
            "_view_name": "StyleView",
            "bar_color": null,
            "description_width": ""
          }
        },
        "3284890498db49bdabbc12eddcba9964": {
          "model_module": "@jupyter-widgets/base",
          "model_name": "LayoutModel",
          "model_module_version": "1.2.0",
          "state": {
            "_model_module": "@jupyter-widgets/base",
            "_model_module_version": "1.2.0",
            "_model_name": "LayoutModel",
            "_view_count": null,
            "_view_module": "@jupyter-widgets/base",
            "_view_module_version": "1.2.0",
            "_view_name": "LayoutView",
            "align_content": null,
            "align_items": null,
            "align_self": null,
            "border": null,
            "bottom": null,
            "display": null,
            "flex": null,
            "flex_flow": null,
            "grid_area": null,
            "grid_auto_columns": null,
            "grid_auto_flow": null,
            "grid_auto_rows": null,
            "grid_column": null,
            "grid_gap": null,
            "grid_row": null,
            "grid_template_areas": null,
            "grid_template_columns": null,
            "grid_template_rows": null,
            "height": null,
            "justify_content": null,
            "justify_items": null,
            "left": null,
            "margin": null,
            "max_height": null,
            "max_width": null,
            "min_height": null,
            "min_width": null,
            "object_fit": null,
            "object_position": null,
            "order": null,
            "overflow": null,
            "overflow_x": null,
            "overflow_y": null,
            "padding": null,
            "right": null,
            "top": null,
            "visibility": null,
            "width": null
          }
        },
        "3b229a5004744ced8fb128feba2c72dd": {
          "model_module": "@jupyter-widgets/controls",
          "model_name": "DescriptionStyleModel",
          "model_module_version": "1.5.0",
          "state": {
            "_model_module": "@jupyter-widgets/controls",
            "_model_module_version": "1.5.0",
            "_model_name": "DescriptionStyleModel",
            "_view_count": null,
            "_view_module": "@jupyter-widgets/base",
            "_view_module_version": "1.2.0",
            "_view_name": "StyleView",
            "description_width": ""
          }
        }
      }
    }
  },
  "cells": [
    {
      "cell_type": "code",
      "execution_count": 21,
      "metadata": {
        "colab": {
          "base_uri": "https://localhost:8080/",
          "height": 49,
          "referenced_widgets": [
            "e87cfb0c2f074324a7178b97564f73e5",
            "bf6c4dab4afe4e88813d615465c0f40b",
            "a39b6790e57045f6be1f51bf2ca17377",
            "5d262aba34b4426988b339dea8b8fa90",
            "4a855a6ea7334c8b9c15550036cc10c4",
            "4569f1de30c94adc95018d328639aa7f",
            "f4056c19706c4b12a8356c04a0c394c6",
            "e2c57c06de064155a67472f551ad66c3",
            "f80c6c3e421044e09ef5889a9b0f1148",
            "879415b0666f47a8abb3abb12720801d",
            "6cc8a3357e8b4793a369d437966d4b64"
          ]
        },
        "id": "FV0YtW8VWS3q",
        "outputId": "5836f180-e801-4ddf-ad41-1a588c9afacb"
      },
      "outputs": [
        {
          "output_type": "display_data",
          "data": {
            "text/plain": [
              "  0%|          | 0/499 [00:00<?, ?it/s]"
            ],
            "application/vnd.jupyter.widget-view+json": {
              "version_major": 2,
              "version_minor": 0,
              "model_id": "e87cfb0c2f074324a7178b97564f73e5"
            }
          },
          "metadata": {}
        }
      ],
      "source": [
        "import numpy as np\n",
        "from tqdm.auto import tqdm\n",
        "\n",
        "# Redefine Unew to match the provided Mathematica function more closely\n",
        "def Unew(n, a, gamma, mu, nu, theta0):\n",
        "    l = np.arange(-((n - 1) / 2), ((n - 1) / 2) + 1, 1)\n",
        "    sum_component = np.exp(-1j * (l**2 / 2 - gamma * l + (2 * np.pi * l * (mu - nu) / n))).sum()\n",
        "    return (1/n) * np.exp(-1j * a * np.cos((2 * np.pi * mu) / n + theta0)) * sum_component\n",
        "\n",
        "# Parameters\n",
        "n = 61\n",
        "theta0 = np.pi / (2 * n)\n",
        "gamma = 0.1\n",
        "a = 20000  # Assuming this corresponds to the 'a' parameter in Unew, which wasn't specified\n",
        "\n",
        "# Containers for spacings and ratios\n",
        "Spd = []\n",
        "Sprd = []\n",
        "tot = []\n",
        "spacing_ratios = []\n",
        "\n",
        "# Main loop\n",
        "for i in tqdm(range(1, 500)):\n",
        "    # Construct the Um matrix\n",
        "    Um = np.array([[Unew(n, a + (i - 1), gamma, mu, nu, theta0) for nu in range(1, n+1)] for mu in range(1, n+1)])\n",
        "\n",
        "    # Compute eigenvalues and sort their phases\n",
        "    eigenvalues = np.linalg.eigvals(Um)\n",
        "    phases = np.sort(np.angle(eigenvalues))\n",
        "    tot.extend(phases)\n",
        "\n",
        "\n",
        "    for j in range(len(eigenvalues)-2):\n",
        "    #spacings = np.diff(eigs)\n",
        "        sratio = (phases[j+2]-phases[j+1])/(phases[j+1]-phases[j])\n",
        "        spacing_ratios.append(sratio)\n",
        ""
      ]
    },
    {
      "cell_type": "code",
      "source": [
        "import matplotlib.pyplot as plt"
      ],
      "metadata": {
        "id": "UKDTJc0temyO"
      },
      "execution_count": 8,
      "outputs": []
    },
    {
      "cell_type": "code",
      "source": [
        "x = np.linspace(0, 10, 1000)\n",
        "prgoe = 27*x*(x+1)/(8*(x** 2 + x + 1)**(5/2))\n",
        "prgue = 81*np.sqrt(3)*x**2*(x+1)**2/(4*np.pi*(x ** 2 + x + 1)**(4))"
      ],
      "metadata": {
        "id": "hQWX7cdhe7Hi"
      },
      "execution_count": 22,
      "outputs": []
    },
    {
      "cell_type": "code",
      "source": [
        "plt.hist(e1,range = [-np.pi,np.pi],  bins=40, density=True, alpha=0.5, color='blue')"
      ],
      "metadata": {
        "colab": {
          "base_uri": "https://localhost:8080/",
          "height": 756
        },
        "id": "Dox4_VtPfSEL",
        "outputId": "2fc7aa3c-ddeb-4930-e032-09e1062f2239"
      },
      "execution_count": 15,
      "outputs": [
        {
          "output_type": "execute_result",
          "data": {
            "text/plain": [
              "(array([0.15994107, 0.15858298, 0.15826957, 0.15523999, 0.16432874,\n",
              "        0.15962766, 0.15482212, 0.16171703, 0.15597127, 0.15962766,\n",
              "        0.15565786, 0.15471765, 0.15816511, 0.15868745, 0.15712042,\n",
              "        0.1618215 , 0.15868745, 0.15994107, 0.15826957, 0.15858298,\n",
              "        0.16088128, 0.16349299, 0.16119469, 0.15952319, 0.16223937,\n",
              "        0.15889638, 0.16004554, 0.16317959, 0.15806064, 0.16203043,\n",
              "        0.15680702, 0.15962766, 0.1578517 , 0.15879192, 0.16056788,\n",
              "        0.15952319, 0.15837404, 0.15868745, 0.15461318, 0.16203043]),\n",
              " array([-3.14159265, -2.98451302, -2.82743339, -2.67035376, -2.51327412,\n",
              "        -2.35619449, -2.19911486, -2.04203522, -1.88495559, -1.72787596,\n",
              "        -1.57079633, -1.41371669, -1.25663706, -1.09955743, -0.9424778 ,\n",
              "        -0.78539816, -0.62831853, -0.4712389 , -0.31415927, -0.15707963,\n",
              "         0.        ,  0.15707963,  0.31415927,  0.4712389 ,  0.62831853,\n",
              "         0.78539816,  0.9424778 ,  1.09955743,  1.25663706,  1.41371669,\n",
              "         1.57079633,  1.72787596,  1.88495559,  2.04203522,  2.19911486,\n",
              "         2.35619449,  2.51327412,  2.67035376,  2.82743339,  2.98451302,\n",
              "         3.14159265]),\n",
              " <BarContainer object of 40 artists>)"
            ]
          },
          "metadata": {},
          "execution_count": 15
        },
        {
          "output_type": "display_data",
          "data": {
            "text/plain": [
              "<Figure size 640x480 with 1 Axes>"
            ],
            "image/png": "[encoded data removed]"
          },
          "metadata": {}
        }
      ]
    },
    {
      "cell_type": "code",
      "source": [
        "# Plot the spacing ratios\n",
        "plt.hist(spacing_ratios,range = [0,8],  bins=20, density=True, alpha=0.3, color='blue')\n",
        "plt.plot(x,prgoe,alpha=0.7, color='black')\n",
        "plt.plot(x,prgue,alpha=0.7, color='red')\n",
        "plt.xlabel('Spacing Ratio')\n",
        "plt.ylabel('Probability Density')\n",
        "plt.title('Histogram of Spacing Ratios of Eigenvalues')\n",
        "plt.grid(True)\n",
        "plt.show()"
      ],
      "metadata": {
        "colab": {
          "base_uri": "https://localhost:8080/",
          "height": 472
        },
        "id": "lOedy3mgfFze",
        "outputId": "b64c9189-520c-448c-a7c9-0f0a3fa92ed9"
      },
      "execution_count": 23,
      "outputs": [
        {
          "output_type": "display_data",
          "data": {
            "text/plain": [
              "<Figure size 640x480 with 1 Axes>"
            ],
            "image/png": "[encoded data removed]"
          },
          "metadata": {}
        }
      ]
    },
    {
      "cell_type": "code",
      "source": [
        "e1 = np.array(tot).flatten()"
      ],
      "metadata": {
        "id": "SHoDHNardYpP"
      },
      "execution_count": 25,
      "outputs": []
    },
    {
      "cell_type": "code",
      "source": [
        "# Parameters\n",
        "n = 101\n",
        "theta0 = np.pi / (2 * n)\n",
        "gamma = 0.1\n",
        "a = 20000  # Assuming this corresponds to the 'a' parameter in Unew, which wasn't specified\n",
        "\n",
        "# Containers for spacings and ratios\n",
        "Spd = []\n",
        "Sprd = []\n",
        "tot = []\n",
        "spacing_ratios = []\n",
        "\n",
        "# Main loop\n",
        "for i in tqdm(range(1, 50)):\n",
        "    # Construct the Um matrix\n",
        "    Um = np.array([[Unew(n, a + (i - 1), gamma, mu, nu, theta0) for nu in range(1, n+1)] for mu in range(1, n+1)])\n",
        "\n",
        "    # Compute eigenvalues and sort their phases\n",
        "    eigenvalues = np.linalg.eigvals(Um)\n",
        "    phases = np.sort(np.angle(eigenvalues))\n",
        "    tot.extend(phases)\n",
        "\n",
        "\n",
        "    for j in range(len(eigenvalues)-2):\n",
        "    #spacings = np.diff(eigs)\n",
        "        sratio = (phases[j+2]-phases[j+1])/(phases[j+1]-phases[j])\n",
        "        spacing_ratios.append(sratio)\n",
        ""
      ],
      "metadata": {
        "colab": {
          "base_uri": "https://localhost:8080/",
          "height": 49,
          "referenced_widgets": [
            "d1f9aa5bf407401eb4e6a4c9c44ad811",
            "77dc7c203c854e52b79e31f3fcbe5b2c",
            "88d6f17b694446aba9b8f86e61ec0fac",
            "454adbbdb5384cdabcfefa46f6908754",
            "18b1ee4d2b7d45f4a465f584bde26c71",
            "1cd52809267844a7b29d3a601cd68218",
            "f20d418f53014e25970c73503ea2f263",
            "a3ece4c78f5e40bd8dfc344808dab925",
            "0b1dff4c5a1c4ee989b0d769ac1bc440",
            "3284890498db49bdabbc12eddcba9964",
            "3b229a5004744ced8fb128feba2c72dd"
          ]
        },
        "id": "LBYqOuTuhtIg",
        "outputId": "ce74bac3-03f0-439d-d5bd-0406a733dbc1"
      },
      "execution_count": 28,
      "outputs": [
        {
          "output_type": "display_data",
          "data": {
            "text/plain": [
              "  0%|          | 0/49 [00:00<?, ?it/s]"
            ],
            "application/vnd.jupyter.widget-view+json": {
              "version_major": 2,
              "version_minor": 0,
              "model_id": "d1f9aa5bf407401eb4e6a4c9c44ad811"
            }
          },
          "metadata": {}
        }
      ]
    },
    {
      "cell_type": "code",
      "source": [
        "plt.hist(e1,range = [-np.pi,np.pi],  bins=40, density=True, alpha=0.5, color='blue')"
      ],
      "metadata": {
        "colab": {
          "base_uri": "https://localhost:8080/",
          "height": 756
        },
        "id": "NIChUZbohw0H",
        "outputId": "2790681f-4eac-4302-ce7a-7a300d57d9bd"
      },
      "execution_count": 29,
      "outputs": [
        {
          "output_type": "execute_result",
          "data": {
            "text/plain": [
              "(array([0.15899595, 0.15899595, 0.16535579, 0.15263611, 0.15899595,\n",
              "        0.15899595, 0.16535579, 0.15899595, 0.16535579, 0.15263611,\n",
              "        0.15263611, 0.15899595, 0.15899595, 0.15899595, 0.15899595,\n",
              "        0.15899595, 0.15899595, 0.15899595, 0.15899595, 0.17171562,\n",
              "        0.15899595, 0.15263611, 0.15263611, 0.16535579, 0.16535579,\n",
              "        0.15899595, 0.15899595, 0.15899595, 0.15263611, 0.16535579,\n",
              "        0.15899595, 0.15263611, 0.15899595, 0.16535579, 0.15263611,\n",
              "        0.15899595, 0.16535579, 0.15263611, 0.15899595, 0.15899595]),\n",
              " array([-3.14159265, -2.98451302, -2.82743339, -2.67035376, -2.51327412,\n",
              "        -2.35619449, -2.19911486, -2.04203522, -1.88495559, -1.72787596,\n",
              "        -1.57079633, -1.41371669, -1.25663706, -1.09955743, -0.9424778 ,\n",
              "        -0.78539816, -0.62831853, -0.4712389 , -0.31415927, -0.15707963,\n",
              "         0.        ,  0.15707963,  0.31415927,  0.4712389 ,  0.62831853,\n",
              "         0.78539816,  0.9424778 ,  1.09955743,  1.25663706,  1.41371669,\n",
              "         1.57079633,  1.72787596,  1.88495559,  2.04203522,  2.19911486,\n",
              "         2.35619449,  2.51327412,  2.67035376,  2.82743339,  2.98451302,\n",
              "         3.14159265]),\n",
              " <BarContainer object of 40 artists>)"
            ]
          },
          "metadata": {},
          "execution_count": 29
        },
        {
          "output_type": "display_data",
          "data": {
            "text/plain": [
              "<Figure size 640x480 with 1 Axes>"
            ],
            "image/png": "[encoded data removed]"
          },
          "metadata": {}
        }
      ]
    },
    {
      "cell_type": "code",
      "source": [
        "# Plot the spacing ratios\n",
        "plt.hist(spacing_ratios,range = [0,8],  bins=20, density=True, alpha=0.3, color='blue')\n",
        "plt.plot(x,prgoe,alpha=0.7, color='black')\n",
        "plt.plot(x,prgue,alpha=0.7, color='red')\n",
        "plt.xlabel('Spacing Ratio')\n",
        "plt.ylabel('Probability Density')\n",
        "plt.title('Histogram of Spacing Ratios of Eigenvalues')\n",
        "plt.grid(True)\n",
        "plt.show()"
      ],
      "metadata": {
        "colab": {
          "base_uri": "https://localhost:8080/",
          "height": 472
        },
        "id": "RhniQ-jWiaNZ",
        "outputId": "3dc143e1-172c-4682-a2d5-702bb653c961"
      },
      "execution_count": 30,
      "outputs": [
        {
          "output_type": "display_data",
          "data": {
            "text/plain": [
              "<Figure size 640x480 with 1 Axes>"
            ],
            "image/png": "[encoded data removed]"
          },
          "metadata": {}
        }
      ]
    },
    {
      "cell_type": "code",
      "source": [],
      "metadata": {
        "id": "0sBNrbLAixDu"
      },
      "execution_count": null,
      "outputs": []
    }
  ]
}