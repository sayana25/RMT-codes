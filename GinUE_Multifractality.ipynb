{
  "nbformat": 4,
  "nbformat_minor": 0,
  "metadata": {
    "colab": {
      "provenance": []
    },
    "kernelspec": {
      "name": "python3",
      "display_name": "Python 3"
    },
    "language_info": {
      "name": "python"
    },
    "widgets": {
      "application/vnd.jupyter.widget-state+json": {
        "035f751a51af44308198013d47768258": {
          "model_module": "@jupyter-widgets/controls",
          "model_name": "HBoxModel",
          "model_module_version": "1.5.0",
          "state": {
            "_dom_classes": [],
            "_model_module": "@jupyter-widgets/controls",
            "_model_module_version": "1.5.0",
            "_model_name": "HBoxModel",
            "_view_count": null,
            "_view_module": "@jupyter-widgets/controls",
            "_view_module_version": "1.5.0",
            "_view_name": "HBoxView",
            "box_style": "",
            "children": [
              "IPY_MODEL_b7d9949389724aa2a7a0f2cbfeea13e9",
              "IPY_MODEL_9f66cb8b558a4df6bbebfad5f211233e",
              "IPY_MODEL_e140766ab931451eb527076e2651cea6"
            ],
            "layout": "IPY_MODEL_27166be6833f4d57bcc292a9f15e5a8f"
          }
        },
        "b7d9949389724aa2a7a0f2cbfeea13e9": {
          "model_module": "@jupyter-widgets/controls",
          "model_name": "HTMLModel",
          "model_module_version": "1.5.0",
          "state": {
            "_dom_classes": [],
            "_model_module": "@jupyter-widgets/controls",
            "_model_module_version": "1.5.0",
            "_model_name": "HTMLModel",
            "_view_count": null,
            "_view_module": "@jupyter-widgets/controls",
            "_view_module_version": "1.5.0",
            "_view_name": "HTMLView",
            "description": "",
            "description_tooltip": null,
            "layout": "IPY_MODEL_af8d98f661c846e08be272efa1805465",
            "placeholder": "​",
            "style": "IPY_MODEL_4f9b9eb0454644cfa7ad2e5b4866bc65",
            "value": "100%"
          }
        },
        "9f66cb8b558a4df6bbebfad5f211233e": {
          "model_module": "@jupyter-widgets/controls",
          "model_name": "FloatProgressModel",
          "model_module_version": "1.5.0",
          "state": {
            "_dom_classes": [],
            "_model_module": "@jupyter-widgets/controls",
            "_model_module_version": "1.5.0",
            "_model_name": "FloatProgressModel",
            "_view_count": null,
            "_view_module": "@jupyter-widgets/controls",
            "_view_module_version": "1.5.0",
            "_view_name": "ProgressView",
            "bar_style": "success",
            "description": "",
            "description_tooltip": null,
            "layout": "IPY_MODEL_aca6383eea2049b584a02c2873bd2966",
            "max": 100,
            "min": 0,
            "orientation": "horizontal",
            "style": "IPY_MODEL_fc31c1b6dd814b3b90b4096fa50fe51f",
            "value": 100
          }
        },
        "e140766ab931451eb527076e2651cea6": {
          "model_module": "@jupyter-widgets/controls",
          "model_name": "HTMLModel",
          "model_module_version": "1.5.0",
          "state": {
            "_dom_classes": [],
            "_model_module": "@jupyter-widgets/controls",
            "_model_module_version": "1.5.0",
            "_model_name": "HTMLModel",
            "_view_count": null,
            "_view_module": "@jupyter-widgets/controls",
            "_view_module_version": "1.5.0",
            "_view_name": "HTMLView",
            "description": "",
            "description_tooltip": null,
            "layout": "IPY_MODEL_9864536942314cafbc5465473b3af265",
            "placeholder": "​",
            "style": "IPY_MODEL_d51040016b9943aeaad649b27e8a1937",
            "value": " 100/100 [00:01&lt;00:00, 95.33it/s]"
          }
        },
        "27166be6833f4d57bcc292a9f15e5a8f": {
          "model_module": "@jupyter-widgets/base",
          "model_name": "LayoutModel",
          "model_module_version": "1.2.0",
          "state": {
            "_model_module": "@jupyter-widgets/base",
            "_model_module_version": "1.2.0",
            "_model_name": "LayoutModel",
            "_view_count": null,
            "_view_module": "@jupyter-widgets/base",
            "_view_module_version": "1.2.0",
            "_view_name": "LayoutView",
            "align_content": null,
            "align_items": null,
            "align_self": null,
            "border": null,
            "bottom": null,
            "display": null,
            "flex": null,
            "flex_flow": null,
            "grid_area": null,
            "grid_auto_columns": null,
            "grid_auto_flow": null,
            "grid_auto_rows": null,
            "grid_column": null,
            "grid_gap": null,
            "grid_row": null,
            "grid_template_areas": null,
            "grid_template_columns": null,
            "grid_template_rows": null,
            "height": null,
            "justify_content": null,
            "justify_items": null,
            "left": null,
            "margin": null,
            "max_height": null,
            "max_width": null,
            "min_height": null,
            "min_width": null,
            "object_fit": null,
            "object_position": null,
            "order": null,
            "overflow": null,
            "overflow_x": null,
            "overflow_y": null,
            "padding": null,
            "right": null,
            "top": null,
            "visibility": null,
            "width": null
          }
        },
        "af8d98f661c846e08be272efa1805465": {
          "model_module": "@jupyter-widgets/base",
          "model_name": "LayoutModel",
          "model_module_version": "1.2.0",
          "state": {
            "_model_module": "@jupyter-widgets/base",
            "_model_module_version": "1.2.0",
            "_model_name": "LayoutModel",
            "_view_count": null,
            "_view_module": "@jupyter-widgets/base",
            "_view_module_version": "1.2.0",
            "_view_name": "LayoutView",
            "align_content": null,
            "align_items": null,
            "align_self": null,
            "border": null,
            "bottom": null,
            "display": null,
            "flex": null,
            "flex_flow": null,
            "grid_area": null,
            "grid_auto_columns": null,
            "grid_auto_flow": null,
            "grid_auto_rows": null,
            "grid_column": null,
            "grid_gap": null,
            "grid_row": null,
            "grid_template_areas": null,
            "grid_template_columns": null,
            "grid_template_rows": null,
            "height": null,
            "justify_content": null,
            "justify_items": null,
            "left": null,
            "margin": null,
            "max_height": null,
            "max_width": null,
            "min_height": null,
            "min_width": null,
            "object_fit": null,
            "object_position": null,
            "order": null,
            "overflow": null,
            "overflow_x": null,
            "overflow_y": null,
            "padding": null,
            "right": null,
            "top": null,
            "visibility": null,
            "width": null
          }
        },
        "4f9b9eb0454644cfa7ad2e5b4866bc65": {
          "model_module": "@jupyter-widgets/controls",
          "model_name": "DescriptionStyleModel",
          "model_module_version": "1.5.0",
          "state": {
            "_model_module": "@jupyter-widgets/controls",
            "_model_module_version": "1.5.0",
            "_model_name": "DescriptionStyleModel",
            "_view_count": null,
            "_view_module": "@jupyter-widgets/base",
            "_view_module_version": "1.2.0",
            "_view_name": "StyleView",
            "description_width": ""
          }
        },
        "aca6383eea2049b584a02c2873bd2966": {
          "model_module": "@jupyter-widgets/base",
          "model_name": "LayoutModel",
          "model_module_version": "1.2.0",
          "state": {
            "_model_module": "@jupyter-widgets/base",
            "_model_module_version": "1.2.0",
            "_model_name": "LayoutModel",
            "_view_count": null,
            "_view_module": "@jupyter-widgets/base",
            "_view_module_version": "1.2.0",
            "_view_name": "LayoutView",
            "align_content": null,
            "align_items": null,
            "align_self": null,
            "border": null,
            "bottom": null,
            "display": null,
            "flex": null,
            "flex_flow": null,
            "grid_area": null,
            "grid_auto_columns": null,
            "grid_auto_flow": null,
            "grid_auto_rows": null,
            "grid_column": null,
            "grid_gap": null,
            "grid_row": null,
            "grid_template_areas": null,
            "grid_template_columns": null,
            "grid_template_rows": null,
            "height": null,
            "justify_content": null,
            "justify_items": null,
            "left": null,
            "margin": null,
            "max_height": null,
            "max_width": null,
            "min_height": null,
            "min_width": null,
            "object_fit": null,
            "object_position": null,
            "order": null,
            "overflow": null,
            "overflow_x": null,
            "overflow_y": null,
            "padding": null,
            "right": null,
            "top": null,
            "visibility": null,
            "width": null
          }
        },
        "fc31c1b6dd814b3b90b4096fa50fe51f": {
          "model_module": "@jupyter-widgets/controls",
          "model_name": "ProgressStyleModel",
          "model_module_version": "1.5.0",
          "state": {
            "_model_module": "@jupyter-widgets/controls",
            "_model_module_version": "1.5.0",
            "_model_name": "ProgressStyleModel",
            "_view_count": null,
            "_view_module": "@jupyter-widgets/base",
            "_view_module_version": "1.2.0",
            "_view_name": "StyleView",
            "bar_color": null,
            "description_width": ""
          }
        },
        "9864536942314cafbc5465473b3af265": {
          "model_module": "@jupyter-widgets/base",
          "model_name": "LayoutModel",
          "model_module_version": "1.2.0",
          "state": {
            "_model_module": "@jupyter-widgets/base",
            "_model_module_version": "1.2.0",
            "_model_name": "LayoutModel",
            "_view_count": null,
            "_view_module": "@jupyter-widgets/base",
            "_view_module_version": "1.2.0",
            "_view_name": "LayoutView",
            "align_content": null,
            "align_items": null,
            "align_self": null,
            "border": null,
            "bottom": null,
            "display": null,
            "flex": null,
            "flex_flow": null,
            "grid_area": null,
            "grid_auto_columns": null,
            "grid_auto_flow": null,
            "grid_auto_rows": null,
            "grid_column": null,
            "grid_gap": null,
            "grid_row": null,
            "grid_template_areas": null,
            "grid_template_columns": null,
            "grid_template_rows": null,
            "height": null,
            "justify_content": null,
            "justify_items": null,
            "left": null,
            "margin": null,
            "max_height": null,
            "max_width": null,
            "min_height": null,
            "min_width": null,
            "object_fit": null,
            "object_position": null,
            "order": null,
            "overflow": null,
            "overflow_x": null,
            "overflow_y": null,
            "padding": null,
            "right": null,
            "top": null,
            "visibility": null,
            "width": null
          }
        },
        "d51040016b9943aeaad649b27e8a1937": {
          "model_module": "@jupyter-widgets/controls",
          "model_name": "DescriptionStyleModel",
          "model_module_version": "1.5.0",
          "state": {
            "_model_module": "@jupyter-widgets/controls",
            "_model_module_version": "1.5.0",
            "_model_name": "DescriptionStyleModel",
            "_view_count": null,
            "_view_module": "@jupyter-widgets/base",
            "_view_module_version": "1.2.0",
            "_view_name": "StyleView",
            "description_width": ""
          }
        }
      }
    }
  },
  "cells": [
    {
      "cell_type": "code",
      "execution_count": 6,
      "metadata": {
        "id": "TYfDeq1h2o6y"
      },
      "outputs": [],
      "source": [
        "import numpy as np\n",
        "from scipy.linalg import eigh\n",
        "from numpy.linalg import norm\n",
        "from scipy.special import gamma, polygamma\n",
        "import matplotlib.pyplot as plt\n",
        "from tqdm.auto import tqdm"
      ]
    },
    {
      "cell_type": "code",
      "source": [
        "def J1(nn, qq):\n",
        "    return nn / np.sqrt(np.pi) * (gamma(nn / 2) * gamma(qq + 0.5)) / gamma(qq + nn / 2)\n",
        "\n",
        "def J2(nn, qq):\n",
        "    return (gamma(qq + 1) * gamma(nn + 1)) / gamma(nn + qq)\n",
        "\n",
        "def D1O(nn):\n",
        "    return 1 - (np.log(2) + polygamma(0, 3/2)) / np.log(nn)\n",
        "\n",
        "def D1U(nn):\n",
        "    return 1 - (1 - np.euler_gamma) / np.log(nn)"
      ],
      "metadata": {
        "id": "wcXuz9ku3aJV"
      },
      "execution_count": 7,
      "outputs": []
    },
    {
      "cell_type": "code",
      "source": [
        "dim = 100\n",
        "nens = 100\n",
        "\n",
        "evsum = np.zeros(dim)\n",
        "cdsum1 = np.zeros(dim)\n",
        "cdsum2 = np.zeros(dim)\n",
        "q = 2\n",
        "evt = []\n",
        "\n",
        "\n",
        "\n",
        "for ns in tqdm(range(nens)):\n",
        "    # Generate a random Hermitian matrix\n",
        "    H = np.random.normal(0, 1/np.sqrt(2), (dim, dim)) + 1j * np.random.normal(0, 1/np.sqrt(2), (dim, dim))\n",
        "    H = (H + H.conj().T) / 2  # Ensure H is Hermitian\n",
        "\n",
        "    # Compute eigenvalues and eigenvectors\n",
        "    eigenvalues, eigenvectors = eigh(H)\n",
        "    Lambda = np.clip(eigenvalues, -np.inf, np.inf)  # Equivalent to Chop in Mathematica\n",
        "\n",
        "    # Update evsum\n",
        "    evsum += np.abs(Lambda)\n",
        "    evt.append(Lambda)\n",
        "\n",
        "    # Sort eigensystems by the absolute values of the eigenvalues\n",
        "    sorted_indices = np.argsort(np.abs(Lambda))\n",
        "    sorted_eigenvectors = eigenvectors[:, sorted_indices]\n",
        "\n",
        "    for ll in range(dim):\n",
        "        vec = sorted_eigenvectors[:, ll]\n",
        "        cdsum1[ll] += np.sum(np.abs(vec)**2 * np.log(np.abs(vec)**2))\n",
        "        cdsum2[ll] += np.sum((np.abs(vec)**2)**q)\n"
      ],
      "metadata": {
        "colab": {
          "base_uri": "https://localhost:8080/",
          "height": 49,
          "referenced_widgets": [
            "035f751a51af44308198013d47768258",
            "b7d9949389724aa2a7a0f2cbfeea13e9",
            "9f66cb8b558a4df6bbebfad5f211233e",
            "e140766ab931451eb527076e2651cea6",
            "27166be6833f4d57bcc292a9f15e5a8f",
            "af8d98f661c846e08be272efa1805465",
            "4f9b9eb0454644cfa7ad2e5b4866bc65",
            "aca6383eea2049b584a02c2873bd2966",
            "fc31c1b6dd814b3b90b4096fa50fe51f",
            "9864536942314cafbc5465473b3af265",
            "d51040016b9943aeaad649b27e8a1937"
          ]
        },
        "id": "TWvG__Za2p1L",
        "outputId": "345d1df9-c878-4f83-8463-40cee1bfc35c"
      },
      "execution_count": 18,
      "outputs": [
        {
          "output_type": "display_data",
          "data": {
            "text/plain": [
              "  0%|          | 0/100 [00:00<?, ?it/s]"
            ],
            "application/vnd.jupyter.widget-view+json": {
              "version_major": 2,
              "version_minor": 0,
              "model_id": "035f751a51af44308198013d47768258"
            }
          },
          "metadata": {}
        }
      ]
    },
    {
      "cell_type": "code",
      "source": [
        "d1dt = (-1 / np.log(dim)) * cdsum1 / nens\n",
        "iqdt = cdsum2 / nens\n",
        "dqdt = -(1 / (q - 1)) * (np.log(cdsum2 / nens) / np.log(dim))"
      ],
      "metadata": {
        "id": "cbyhIlog4mkU"
      },
      "execution_count": 19,
      "outputs": []
    },
    {
      "cell_type": "code",
      "source": [
        "D1data = [(evsum[k] / nens, d1dt[k]) for k in range(dim)]\n",
        "D1OEth = [(evsum[k] / nens, D1O(dim)) for k in range(dim)]\n",
        "D1UEth = [(evsum[k] / nens, D1U(dim)) for k in range(dim)]\n",
        "\n",
        "# Unpacking the data for plotting\n",
        "x1, y1 = zip(*D1data)\n",
        "x2, y2 = zip(*D1OEth)\n",
        "x3, y3 = zip(*D1UEth)\n",
        "\n",
        "# Plotting\n",
        "plt.figure(figsize=(7.5, 4.6875))  # Aspect ratio 1/1.6\n",
        "plt.plot(x1, y1, 'o', label=\"GinUE\", markersize=5)\n",
        "plt.plot(x2, y2, '-', label=\"D1 COE\",linewidth=1.6)\n",
        "plt.plot(x3, y3, '-', label=\"D1 CUE\",linewidth=1.6)\n",
        "plt.legend()\n",
        "plt.xlim([0, 13])\n",
        "plt.ylim([0.7, 1])\n",
        "plt.xlabel(r'$q$', fontsize=20, fontweight='bold')\n",
        "plt.ylabel(r'$D_1$', fontsize=20, fontweight='bold')\n",
        "plt.title('Comparison of D1 Metrics', fontsize=16, fontweight='bold')\n",
        "plt.grid(True, which='both', linestyle='--', linewidth=0.2)\n",
        "plt.tight_layout()\n",
        "plt.show()"
      ],
      "metadata": {
        "colab": {
          "base_uri": "https://localhost:8080/",
          "height": 475
        },
        "id": "fjsYLYEB4kBQ",
        "outputId": "c2d7fe2f-7d9a-444e-ed72-52f6e794bec5"
      },
      "execution_count": 25,
      "outputs": [
        {
          "output_type": "display_data",
          "data": {
            "text/plain": [
              "<Figure size 750x468.75 with 1 Axes>"
            ],
            "image/png": "[encoded data removed]"
          },
          "metadata": {}
        }
      ]
    },
    {
      "cell_type": "code",
      "source": [
        "D2data = [(evsum[k] / nens, dqdt[k]) for k in range(dim)]\n",
        "D2OEth = [(evsum[k] / nens, -1 / (q - 1) * np.log(J1(dim, q)) / np.log(dim)) for k in range(dim)]\n",
        "D2UEth = [(evsum[k] / nens, -1 / (q - 1) * np.log(J2(dim, q)) / np.log(dim)) for k in range(dim)]"
      ],
      "metadata": {
        "id": "GLf3NhvD43ZB"
      },
      "execution_count": 26,
      "outputs": []
    },
    {
      "cell_type": "code",
      "source": [
        "# Unpacking the data for plotting\n",
        "x1, y1 = zip(*D2data)\n",
        "x2, y2 = zip(*D2OEth)\n",
        "x3, y3 = zip(*D2UEth)\n",
        "\n",
        "# Plotting\n",
        "plt.figure(figsize=(7.5, 4.6875))  # Aspect ratio 1/1.6\n",
        "plt.plot(x1, y1, 'o', label=\"GinUE\", markersize=5)\n",
        "plt.plot(x2, y2, '-', label=\"D2 COE\")\n",
        "plt.plot(x3, y3, '-', label=\"D2 CUE\")\n",
        "plt.legend()\n",
        "plt.ylim([0.7, 1])\n",
        "plt.xlabel(r'$q$', fontsize=20, fontweight='bold')\n",
        "plt.ylabel(r'$D_2$', fontsize=20, fontweight='bold')\n",
        "plt.title('Comparison of D2 Metrics', fontsize=16, fontweight='bold')\n",
        "plt.grid(True, which='both', linestyle='--', linewidth=0.5)\n",
        "plt.tight_layout()\n",
        "plt.show()"
      ],
      "metadata": {
        "colab": {
          "base_uri": "https://localhost:8080/",
          "height": 475
        },
        "id": "l85rC8wP8cVl",
        "outputId": "fa57a142-6b32-47c6-999e-cc664a9b5c62"
      },
      "execution_count": 28,
      "outputs": [
        {
          "output_type": "display_data",
          "data": {
            "text/plain": [
              "<Figure size 750x468.75 with 1 Axes>"
            ],
            "image/png": "[encoded data removed]"
          },
          "metadata": {}
        }
      ]
    },
    {
      "cell_type": "code",
      "source": [],
      "metadata": {
        "id": "VOjgm5oo8h80"
      },
      "execution_count": null,
      "outputs": []
    }
  ]
}